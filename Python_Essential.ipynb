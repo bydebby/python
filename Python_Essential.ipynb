{
  "nbformat": 4,
  "nbformat_minor": 0,
  "metadata": {
    "colab": {
      "name": "Python Essential in a Notebook v1.5",
      "provenance": [],
      "collapsed_sections": [],
      "include_colab_link": true
    },
    "kernelspec": {
      "name": "python3",
      "display_name": "Python 3"
    }
  },
  "cells": [
    {
      "cell_type": "markdown",
      "metadata": {
        "id": "view-in-github",
        "colab_type": "text"
      },
      "source": [
        "<a href=\"https://colab.research.google.com/github/bydebby/python/blob/main/Python_Essential.ipynb\" target=\"_parent\"><img src=\"https://colab.research.google.com/assets/colab-badge.svg\" alt=\"Open In Colab\"/></a>"
      ]
    },
    {
      "cell_type": "markdown",
      "metadata": {
        "id": "km7jl7hA4fio"
      },
      "source": [
        "# Python Essential  in A Notebook"
      ]
    },
    {
      "cell_type": "code",
      "metadata": {
        "id": "fP-fBzp-poPW"
      },
      "source": [
        "#Release: 1.2109.1901"
      ],
      "execution_count": null,
      "outputs": []
    },
    {
      "cell_type": "markdown",
      "metadata": {
        "id": "Mhjj6oErlpEn"
      },
      "source": [
        "# 1. Python Basic Syntax"
      ]
    },
    {
      "cell_type": "markdown",
      "metadata": {
        "id": "_EetFAjeq0-c"
      },
      "source": [
        "## Lines and Indentation\n",
        "\n"
      ]
    },
    {
      "cell_type": "markdown",
      "metadata": {
        "id": "N7EZTaODP8DH"
      },
      "source": [
        "Pada Python, setiap statement dipisahkan oleh baris"
      ]
    },
    {
      "cell_type": "code",
      "metadata": {
        "id": "wWXoh-fuP7bM",
        "colab": {
          "base_uri": "https://localhost:8080/"
        },
        "outputId": "9c6a733c-5c7b-4eca-820b-e09ea5c57bd8"
      },
      "source": [
        "i = 12\n",
        "j = 15\n",
        "k = i + j\n",
        "print(k)"
      ],
      "execution_count": null,
      "outputs": [
        {
          "output_type": "stream",
          "name": "stdout",
          "text": [
            "27\n"
          ]
        }
      ]
    },
    {
      "cell_type": "markdown",
      "metadata": {
        "id": "deZ_rz5lQhxg"
      },
      "source": [
        "Setiap block statement memiliki indent yang sama"
      ]
    },
    {
      "cell_type": "code",
      "metadata": {
        "id": "Z2vDsXnMoNtl",
        "colab": {
          "base_uri": "https://localhost:8080/"
        },
        "outputId": "285a2703-2b38-4e9b-cde1-b2a8d2cccc9e"
      },
      "source": [
        "if i > j:\n",
        "   print(\"True\")\n",
        "   print(\"Nilai i: \", i, \" dan nilai j: \", j)\n",
        "else:\n",
        "   print(\"False\")"
      ],
      "execution_count": null,
      "outputs": [
        {
          "output_type": "stream",
          "name": "stdout",
          "text": [
            "True\n",
            "Nilai i:  12  dan nilai j:  2\n"
          ]
        }
      ]
    },
    {
      "cell_type": "code",
      "metadata": {
        "id": "2N7-qJW9KEQh"
      },
      "source": [
        "j = 2"
      ],
      "execution_count": null,
      "outputs": []
    },
    {
      "cell_type": "markdown",
      "metadata": {
        "id": "59D15C1UrdFB"
      },
      "source": [
        "Jalankan kode di bawah ini, perhatikan apa yang akan terjadi dan kenapa"
      ]
    },
    {
      "cell_type": "code",
      "metadata": {
        "id": "Qt7GCEogr2L5",
        "colab": {
          "base_uri": "https://localhost:8080/",
          "height": 129
        },
        "outputId": "a553df60-dfc9-4e4a-8275-f22a87a0888c"
      },
      "source": [
        "if 3 > 2:\n",
        "print(\"True\")\n",
        "else:\n",
        "print(\"False\")"
      ],
      "execution_count": null,
      "outputs": [
        {
          "output_type": "error",
          "ename": "IndentationError",
          "evalue": "ignored",
          "traceback": [
            "\u001b[0;36m  File \u001b[0;32m\"<ipython-input-3-332dac896bd8>\"\u001b[0;36m, line \u001b[0;32m2\u001b[0m\n\u001b[0;31m    print(\"True\")\u001b[0m\n\u001b[0m        ^\u001b[0m\n\u001b[0;31mIndentationError\u001b[0m\u001b[0;31m:\u001b[0m expected an indented block\n"
          ]
        }
      ]
    },
    {
      "cell_type": "code",
      "metadata": {
        "colab": {
          "base_uri": "https://localhost:8080/"
        },
        "id": "GUUwzFxiKe9M",
        "outputId": "0e3ee675-3d07-4174-a416-25211c9eca19"
      },
      "source": [
        "if 3 > 2:\n",
        " print(\"True\")\n",
        "else:\n",
        " print(\"False\")"
      ],
      "execution_count": null,
      "outputs": [
        {
          "output_type": "stream",
          "name": "stdout",
          "text": [
            "True\n"
          ]
        }
      ]
    },
    {
      "cell_type": "code",
      "metadata": {
        "id": "WAC1L7gSsELG",
        "colab": {
          "base_uri": "https://localhost:8080/"
        },
        "outputId": "cc89e7ce-4cd7-4299-d8cf-ff1ff37d3a06"
      },
      "source": [
        "if 3 > 4:\n",
        "  print(\"True\")\n",
        "else:\n",
        " print(\"False\")"
      ],
      "execution_count": null,
      "outputs": [
        {
          "output_type": "stream",
          "name": "stdout",
          "text": [
            "False\n"
          ]
        }
      ]
    },
    {
      "cell_type": "code",
      "metadata": {
        "id": "USDSvR7_sVjv",
        "colab": {
          "base_uri": "https://localhost:8080/",
          "height": 129
        },
        "outputId": "9bc6703c-bc63-4b44-8d6d-448a5fd4ec00"
      },
      "source": [
        "if 3 > 2:\n",
        "   print(\"True\")\n",
        " print(\"False\")"
      ],
      "execution_count": null,
      "outputs": [
        {
          "output_type": "error",
          "ename": "IndentationError",
          "evalue": "ignored",
          "traceback": [
            "\u001b[0;36m  File \u001b[0;32m\"<ipython-input-11-bd0c3aef30ff>\"\u001b[0;36m, line \u001b[0;32m3\u001b[0m\n\u001b[0;31m    print(\"False\")\u001b[0m\n\u001b[0m                  ^\u001b[0m\n\u001b[0;31mIndentationError\u001b[0m\u001b[0;31m:\u001b[0m unindent does not match any outer indentation level\n"
          ]
        }
      ]
    },
    {
      "cell_type": "code",
      "metadata": {
        "colab": {
          "base_uri": "https://localhost:8080/"
        },
        "id": "l888JfyVKyky",
        "outputId": "989a1453-94b4-4aec-ccb6-b83273f0139f"
      },
      "source": [
        "if 3 > 2:\n",
        "   print(\"True\")\n",
        "   print(\"False\")"
      ],
      "execution_count": null,
      "outputs": [
        {
          "output_type": "stream",
          "name": "stdout",
          "text": [
            "True\n",
            "False\n"
          ]
        }
      ]
    },
    {
      "cell_type": "code",
      "metadata": {
        "colab": {
          "base_uri": "https://localhost:8080/"
        },
        "id": "y7GEVpujK6V3",
        "outputId": "6717f181-caf6-40d4-d91b-9e8286e5503d"
      },
      "source": [
        "if 3 > 2:\n",
        "   print(\"True\")\n",
        "print(\"False\")"
      ],
      "execution_count": null,
      "outputs": [
        {
          "output_type": "stream",
          "name": "stdout",
          "text": [
            "True\n",
            "False\n"
          ]
        }
      ]
    },
    {
      "cell_type": "code",
      "metadata": {
        "colab": {
          "base_uri": "https://localhost:8080/"
        },
        "id": "nfEtvVkXLFc4",
        "outputId": "39ed057d-7b5a-46c3-8d85-9040a07eda6b"
      },
      "source": [
        "if 3 > 5:\n",
        "   print(\"True\")\n",
        "print(\"False\")"
      ],
      "execution_count": null,
      "outputs": [
        {
          "output_type": "stream",
          "name": "stdout",
          "text": [
            "False\n"
          ]
        }
      ]
    },
    {
      "cell_type": "code",
      "metadata": {
        "id": "PkWy-xRJsEDm",
        "colab": {
          "base_uri": "https://localhost:8080/"
        },
        "outputId": "c3d3fd88-b4a7-44ad-a77d-a6d68e917869"
      },
      "source": [
        "if 3 > 2:\n",
        "   print(\"True\")\n",
        "print(\"False\")"
      ],
      "execution_count": null,
      "outputs": [
        {
          "output_type": "stream",
          "name": "stdout",
          "text": [
            "True\n",
            "False\n"
          ]
        }
      ]
    },
    {
      "cell_type": "markdown",
      "metadata": {
        "id": "QCm22d-3tK_F"
      },
      "source": [
        "Semua baris yang memiliki indent  dengan jumlah spasi yang sama akan membentuk blok."
      ]
    },
    {
      "cell_type": "code",
      "metadata": {
        "id": "tN_wVQz9tPY8",
        "colab": {
          "base_uri": "https://localhost:8080/"
        },
        "outputId": "c642da7e-bbf0-40f3-a426-24f64c679188"
      },
      "source": [
        "a = 11\n",
        "if a > 2:\n",
        "  print(\"Greater than 2\")\n",
        "  if a > 10:\n",
        "    print(\"Greater than 10\")\n",
        "    print(\"A pretty big number\")\n",
        "  else:\n",
        "    print(\"Not greater than 10\")\n",
        "  \n",
        "else:\n",
        " print(\"Not greater than 2\")\n",
        " print(\"Still the same else block\")\n",
        "\n",
        "print(\"Print no matter what\")\n"
      ],
      "execution_count": null,
      "outputs": [
        {
          "output_type": "stream",
          "name": "stdout",
          "text": [
            "Greater than 2\n",
            "Greater than 10\n",
            "A pretty big number\n",
            "Print no matter what\n"
          ]
        }
      ]
    },
    {
      "cell_type": "markdown",
      "metadata": {
        "id": "cmPue0mYkFwK"
      },
      "source": [
        "## Multiline Statements\n"
      ]
    },
    {
      "cell_type": "markdown",
      "metadata": {
        "id": "EfHAUub6S041"
      },
      "source": [
        "Beberapa cara penulisan untuk multiline statement"
      ]
    },
    {
      "cell_type": "code",
      "metadata": {
        "scrolled": true,
        "id": "_Kpjxt7KkFwS",
        "colab": {
          "base_uri": "https://localhost:8080/"
        },
        "outputId": "2645fcc0-5975-4732-f8b4-6f376ac7acb3"
      },
      "source": [
        "print(\"This is a \\\n",
        "multiline \\\n",
        "statement\")\n",
        "\n",
        "print(\"This is a \" \n",
        "      \"multiline \"\n",
        "      \"statement \")\n",
        "\n",
        "a = 100 + \\\n",
        "    100 + \\\n",
        "    100\n",
        "a"
      ],
      "execution_count": null,
      "outputs": [
        {
          "output_type": "stream",
          "name": "stdout",
          "text": [
            "This is a multiline statement\n",
            "This is a multiline statement \n"
          ]
        },
        {
          "output_type": "execute_result",
          "data": {
            "text/plain": [
              "300"
            ]
          },
          "metadata": {},
          "execution_count": 17
        }
      ]
    },
    {
      "cell_type": "markdown",
      "metadata": {
        "id": "GMaaycAGbTIn"
      },
      "source": [
        "## Multiple Statements in A Line"
      ]
    },
    {
      "cell_type": "markdown",
      "metadata": {
        "id": "NkEhMO-wS_wU"
      },
      "source": [
        "Jika ingin menuliskan lebih dari satu statement perbaris, maka digunakan **semicolon (;)** sebagai pemisah antar statement"
      ]
    },
    {
      "cell_type": "code",
      "metadata": {
        "id": "34jjr3y8bW8P",
        "colab": {
          "base_uri": "https://localhost:8080/"
        },
        "outputId": "03e1127d-e9c8-40ad-cf6e-de24172616f9"
      },
      "source": [
        "a = 10; b = a + 2; print(b)"
      ],
      "execution_count": null,
      "outputs": [
        {
          "output_type": "stream",
          "name": "stdout",
          "text": [
            "12\n"
          ]
        }
      ]
    },
    {
      "cell_type": "code",
      "metadata": {
        "colab": {
          "base_uri": "https://localhost:8080/"
        },
        "id": "MTppHaf_MYXz",
        "outputId": "f37ade11-ec4b-4102-a09b-8e788013ad43"
      },
      "source": [
        "a = 10\n",
        "b = a + 2\n",
        "print(b)"
      ],
      "execution_count": null,
      "outputs": [
        {
          "output_type": "stream",
          "name": "stdout",
          "text": [
            "12\n"
          ]
        }
      ]
    },
    {
      "cell_type": "markdown",
      "metadata": {
        "id": "cguNqMKcguaP"
      },
      "source": [
        "## Python Block of Code"
      ]
    },
    {
      "cell_type": "markdown",
      "metadata": {
        "id": "oOKbSyqTTyaW"
      },
      "source": [
        "Berikut contoh penulisan block pada Python"
      ]
    },
    {
      "cell_type": "code",
      "metadata": {
        "id": "SakGmtmD2Nwk",
        "colab": {
          "base_uri": "https://localhost:8080/"
        },
        "outputId": "312e357f-2e4c-45b1-d67f-8bd5db331ab2"
      },
      "source": [
        "if True:\n",
        "   print(\"Answer:\")\n",
        "   print(\"True\")\n",
        "else:\n",
        "  print(\"Answer:\")\n",
        "  print(\"False\")"
      ],
      "execution_count": null,
      "outputs": [
        {
          "output_type": "stream",
          "name": "stdout",
          "text": [
            "Answer:\n",
            "True\n"
          ]
        }
      ]
    },
    {
      "cell_type": "code",
      "metadata": {
        "id": "nL0ucCcMg1wa",
        "colab": {
          "base_uri": "https://localhost:8080/"
        },
        "outputId": "57966178-4cf4-4b35-895c-4cbee7ed0a27"
      },
      "source": [
        "if True:\n",
        "    print(\"Answer:\")\n",
        "    print(\"True\")\n",
        "else:\n",
        "    print(\"Answer:\")\n",
        "print(\"False\")"
      ],
      "execution_count": null,
      "outputs": [
        {
          "output_type": "stream",
          "name": "stdout",
          "text": [
            "Answer:\n",
            "True\n",
            "False\n"
          ]
        }
      ]
    },
    {
      "cell_type": "markdown",
      "metadata": {
        "id": "KxjERrjPhH0y"
      },
      "source": [
        "## Python Comments and Docstring"
      ]
    },
    {
      "cell_type": "markdown",
      "metadata": {
        "id": "wyx5WGNmUAp8"
      },
      "source": [
        "Komentar akan didahului dengan tanda **#**"
      ]
    },
    {
      "cell_type": "code",
      "metadata": {
        "id": "oCtiONlPUMao"
      },
      "source": [
        "# This is a line of comment"
      ],
      "execution_count": null,
      "outputs": []
    },
    {
      "cell_type": "code",
      "metadata": {
        "id": "UWckyL_ahQBe",
        "colab": {
          "base_uri": "https://localhost:8080/"
        },
        "outputId": "ba7035ec-89c2-40b9-a87b-03edae24614c"
      },
      "source": [
        "# This is a comment\n",
        "print(\"Hello Python!\") # This line prints : Hello Python!\n",
        "\n",
        "print(\"This is \" #this is a comment\n",
        "      \"a multiline statement\")\n"
      ],
      "execution_count": null,
      "outputs": [
        {
          "output_type": "stream",
          "name": "stdout",
          "text": [
            "Hello Python!\n",
            "This is a multiline statement\n"
          ]
        }
      ]
    },
    {
      "cell_type": "markdown",
      "metadata": {
        "id": "PKSN_LWTUrpk"
      },
      "source": [
        "**docstring** digunakan untuk mendokumentasikan modul, kelas, fungsi, atau metode, sehingga programmer dapat memahami apa yang dilakukannya tanpa harus membaca detail kodenya."
      ]
    },
    {
      "cell_type": "code",
      "metadata": {
        "id": "kVKF1ebAhgfK",
        "colab": {
          "base_uri": "https://localhost:8080/",
          "height": 35
        },
        "outputId": "bb8268c3-aa74-411b-fdce-b4d8572c453a"
      },
      "source": [
        "def mysqrt(n):     \n",
        "  '''Takes in a number n, returns the square of n'''\n",
        "\n",
        "  return n**2\n",
        "\n",
        "mysqrt.__doc__"
      ],
      "execution_count": null,
      "outputs": [
        {
          "output_type": "execute_result",
          "data": {
            "application/vnd.google.colaboratory.intrinsic+json": {
              "type": "string"
            },
            "text/plain": [
              "'Takes in a number n, returns the square of n'"
            ]
          },
          "metadata": {},
          "execution_count": 24
        }
      ]
    },
    {
      "cell_type": "code",
      "metadata": {
        "id": "KeR99pw-NfAT"
      },
      "source": [
        "def mysqrt(n):     \n",
        "  '''Takes in a number n, returns the square of n'''\n",
        "\n",
        "  return n**2\n"
      ],
      "execution_count": null,
      "outputs": []
    },
    {
      "cell_type": "code",
      "metadata": {
        "colab": {
          "base_uri": "https://localhost:8080/"
        },
        "id": "IzljGPD0NIyD",
        "outputId": "3da76119-0a76-4887-d27c-553087da74cf"
      },
      "source": [
        "print(mysqrt.__doc__)"
      ],
      "execution_count": null,
      "outputs": [
        {
          "output_type": "stream",
          "name": "stdout",
          "text": [
            "Takes in a number n, returns the square of n\n"
          ]
        }
      ]
    },
    {
      "cell_type": "markdown",
      "metadata": {
        "id": "xA8wuLurAU59"
      },
      "source": [
        "## Print"
      ]
    },
    {
      "cell_type": "code",
      "metadata": {
        "id": "F66cic-lATfQ",
        "colab": {
          "base_uri": "https://localhost:8080/"
        },
        "outputId": "74901bdc-f8a3-4e6e-e133-cccb57f9f99f"
      },
      "source": [
        "x = 2\n",
        "print('Value of x:', x)"
      ],
      "execution_count": null,
      "outputs": [
        {
          "output_type": "stream",
          "name": "stdout",
          "text": [
            "Value of x: 2\n"
          ]
        }
      ]
    },
    {
      "cell_type": "markdown",
      "metadata": {
        "id": "pJQ-suj3A9Nx"
      },
      "source": [
        "Format **print** untu nilai integer and float"
      ]
    },
    {
      "cell_type": "code",
      "metadata": {
        "id": "P-66flYDA7vu",
        "colab": {
          "base_uri": "https://localhost:8080/"
        },
        "outputId": "77ce90ea-a926-4241-a3ae-4e26919d126f"
      },
      "source": [
        "# print integer and float value\n",
        "print(\"Total: %2d, Average: %5.2f\" % (1, 05.333))"
      ],
      "execution_count": null,
      "outputs": [
        {
          "output_type": "stream",
          "name": "stdout",
          "text": [
            "Total:  1, Average:  5.33\n"
          ]
        }
      ]
    },
    {
      "cell_type": "code",
      "metadata": {
        "id": "-IHVzUtzBOCT",
        "colab": {
          "base_uri": "https://localhost:8080/"
        },
        "outputId": "eeca0ad0-781d-4fa0-994b-61a003e6752d"
      },
      "source": [
        "# print integer value\n",
        "print(\"Total students: -%3d-, Boys : -%3d-\" % (247, 1))"
      ],
      "execution_count": null,
      "outputs": [
        {
          "output_type": "stream",
          "name": "stdout",
          "text": [
            "Total students: -247-, Boys : -  1-\n"
          ]
        }
      ]
    },
    {
      "cell_type": "code",
      "metadata": {
        "id": "4fRGjATdEs49"
      },
      "source": [
        ""
      ],
      "execution_count": null,
      "outputs": []
    },
    {
      "cell_type": "markdown",
      "metadata": {
        "id": "jyNL1nSNEuKz"
      },
      "source": [
        "## Variable"
      ]
    },
    {
      "cell_type": "markdown",
      "metadata": {
        "id": "x_aWXoG6WfmS"
      },
      "source": [
        "setiap variable tidak perlu didefinisikan type-nya terlebih dahulu. Type variable akan mengikuti nilai yang diberikan ke sebuah variabel"
      ]
    },
    {
      "cell_type": "code",
      "metadata": {
        "id": "shoRYgGSE1N0",
        "colab": {
          "base_uri": "https://localhost:8080/"
        },
        "outputId": "d3537dd3-b6a5-41a6-a85b-8740e9014214"
      },
      "source": [
        "x = 2\n",
        "type(x)"
      ],
      "execution_count": null,
      "outputs": [
        {
          "output_type": "execute_result",
          "data": {
            "text/plain": [
              "int"
            ]
          },
          "metadata": {},
          "execution_count": 30
        }
      ]
    },
    {
      "cell_type": "code",
      "metadata": {
        "id": "YO0v71ROE56u",
        "colab": {
          "base_uri": "https://localhost:8080/"
        },
        "outputId": "fa0bccef-0090-47e1-bb8a-ce32568d4a44"
      },
      "source": [
        "x = 'dua'\n",
        "type(x)"
      ],
      "execution_count": null,
      "outputs": [
        {
          "output_type": "execute_result",
          "data": {
            "text/plain": [
              "str"
            ]
          },
          "metadata": {},
          "execution_count": 31
        }
      ]
    },
    {
      "cell_type": "markdown",
      "metadata": {
        "id": "K7Rwx2jz2OVl"
      },
      "source": [
        "#2. Python Numbers\n"
      ]
    },
    {
      "cell_type": "markdown",
      "metadata": {
        "id": "jxBgKRd5Dlu0"
      },
      "source": [
        "## Integer"
      ]
    },
    {
      "cell_type": "code",
      "metadata": {
        "id": "eIP2xZZN2OVl",
        "colab": {
          "base_uri": "https://localhost:8080/"
        },
        "outputId": "3ca1bc43-28b2-49e2-dc9c-686a798732da"
      },
      "source": [
        "my_num = 7\n",
        "my_num"
      ],
      "execution_count": null,
      "outputs": [
        {
          "output_type": "execute_result",
          "data": {
            "text/plain": [
              "7"
            ]
          },
          "metadata": {},
          "execution_count": 32
        }
      ]
    },
    {
      "cell_type": "code",
      "metadata": {
        "id": "-rkeWWiDIIPx",
        "colab": {
          "base_uri": "https://localhost:8080/"
        },
        "outputId": "74977bac-0231-4cd7-ad7e-8c8ec9a2247c"
      },
      "source": [
        "print(my_num)"
      ],
      "execution_count": null,
      "outputs": [
        {
          "output_type": "stream",
          "name": "stdout",
          "text": [
            "7\n"
          ]
        }
      ]
    },
    {
      "cell_type": "code",
      "metadata": {
        "id": "YMznP7XoIME-",
        "colab": {
          "base_uri": "https://localhost:8080/"
        },
        "outputId": "6c6eb648-8b3e-4d2f-f5d8-cf46c0f6f45c"
      },
      "source": [
        "print('Value:', my_num)"
      ],
      "execution_count": null,
      "outputs": [
        {
          "output_type": "stream",
          "name": "stdout",
          "text": [
            "Value: 7\n"
          ]
        }
      ]
    },
    {
      "cell_type": "code",
      "metadata": {
        "id": "JPjUkZxUHi_S",
        "colab": {
          "base_uri": "https://localhost:8080/"
        },
        "outputId": "06f56f29-55fe-4b97-85b6-6d7ed3570cac"
      },
      "source": [
        "type(my_num)"
      ],
      "execution_count": null,
      "outputs": [
        {
          "output_type": "execute_result",
          "data": {
            "text/plain": [
              "int"
            ]
          },
          "metadata": {},
          "execution_count": 35
        }
      ]
    },
    {
      "cell_type": "code",
      "metadata": {
        "id": "XQGtip7sHmuj",
        "colab": {
          "base_uri": "https://localhost:8080/"
        },
        "outputId": "8eadf557-2f63-4530-d34f-e64029d8152d"
      },
      "source": [
        "print(isinstance(my_num, int))\n",
        "print(isinstance(my_num, float))"
      ],
      "execution_count": null,
      "outputs": [
        {
          "output_type": "stream",
          "name": "stdout",
          "text": [
            "True\n",
            "False\n"
          ]
        }
      ]
    },
    {
      "cell_type": "code",
      "metadata": {
        "id": "fgE1CMbQvwcd",
        "colab": {
          "base_uri": "https://localhost:8080/"
        },
        "outputId": "7587919b-2f49-40b7-891c-b03ee33c58bf"
      },
      "source": [
        "my_num = int('7')\n",
        "print(my_num)\n",
        "print(type(my_num))\n",
        "print(isinstance(my_num, int))"
      ],
      "execution_count": null,
      "outputs": [
        {
          "output_type": "stream",
          "name": "stdout",
          "text": [
            "7\n",
            "<class 'int'>\n",
            "True\n"
          ]
        }
      ]
    },
    {
      "cell_type": "markdown",
      "metadata": {
        "id": "0o-Nu60R2OVo"
      },
      "source": [
        "## Float"
      ]
    },
    {
      "cell_type": "code",
      "metadata": {
        "id": "iIh12Syz2OVp",
        "colab": {
          "base_uri": "https://localhost:8080/"
        },
        "outputId": "68b4bf76-dbda-4974-8b26-1837e7a269d5"
      },
      "source": [
        "my_fnum = 1.0\n",
        "print(my_fnum)\n",
        "print(type(my_fnum))\n",
        "print(isinstance(my_fnum, float))"
      ],
      "execution_count": null,
      "outputs": [
        {
          "output_type": "stream",
          "name": "stdout",
          "text": [
            "1.0\n",
            "<class 'float'>\n",
            "True\n"
          ]
        }
      ]
    },
    {
      "cell_type": "code",
      "metadata": {
        "id": "sJbnj1mqv3wQ",
        "colab": {
          "base_uri": "https://localhost:8080/"
        },
        "outputId": "cab754c6-577b-47f5-e9f1-dc11ca5d6f90"
      },
      "source": [
        "my_fnum = float(my_num)\n",
        "print(my_fnum)\n",
        "print(type(my_fnum))\n",
        "print(isinstance(my_fnum, float))"
      ],
      "execution_count": null,
      "outputs": [
        {
          "output_type": "stream",
          "name": "stdout",
          "text": [
            "7.0\n",
            "<class 'float'>\n",
            "True\n"
          ]
        }
      ]
    },
    {
      "cell_type": "markdown",
      "metadata": {
        "id": "Ob4ejPxDm-oN"
      },
      "source": [
        "Pembagian type `int` akan menghasilkan `float`"
      ]
    },
    {
      "cell_type": "code",
      "metadata": {
        "id": "ts7JLYuB2OVq",
        "colab": {
          "base_uri": "https://localhost:8080/"
        },
        "outputId": "362baaf7-c179-43f4-e754-3817450de09c"
      },
      "source": [
        "num1 = 4\n",
        "num2 = 2\n",
        "print(type(num1))\n",
        "print(type(num2))"
      ],
      "execution_count": null,
      "outputs": [
        {
          "output_type": "stream",
          "name": "stdout",
          "text": [
            "<class 'int'>\n",
            "<class 'int'>\n"
          ]
        }
      ]
    },
    {
      "cell_type": "code",
      "metadata": {
        "id": "vjconkgOFwC2",
        "colab": {
          "base_uri": "https://localhost:8080/"
        },
        "outputId": "d8244b48-8f43-4dcb-8cca-c965c59aed7f"
      },
      "source": [
        "num3 = num1 / num2\n",
        "print(num3)\n",
        "type(num3)"
      ],
      "execution_count": null,
      "outputs": [
        {
          "output_type": "stream",
          "name": "stdout",
          "text": [
            "2.0\n"
          ]
        },
        {
          "output_type": "execute_result",
          "data": {
            "text/plain": [
              "float"
            ]
          },
          "metadata": {},
          "execution_count": 3
        }
      ]
    },
    {
      "cell_type": "code",
      "metadata": {
        "id": "zNCv2adp-YVJ",
        "colab": {
          "base_uri": "https://localhost:8080/"
        },
        "outputId": "6d34d7a4-b571-44a8-d3a7-41ae4661d271"
      },
      "source": [
        "from fractions import Fraction\n",
        "\n",
        "my_fraction = Fraction(8, -10)\n",
        "print(my_fraction)\n",
        "type(my_fraction)"
      ],
      "execution_count": null,
      "outputs": [
        {
          "output_type": "stream",
          "name": "stdout",
          "text": [
            "-4/5\n"
          ]
        },
        {
          "output_type": "execute_result",
          "data": {
            "text/plain": [
              "fractions.Fraction"
            ]
          },
          "metadata": {},
          "execution_count": 4
        }
      ]
    },
    {
      "cell_type": "code",
      "metadata": {
        "colab": {
          "base_uri": "https://localhost:8080/"
        },
        "id": "zb282R6eTe8b",
        "outputId": "61e11b22-0e2c-4bbe-dc76-67e4a8abcaf5"
      },
      "source": [
        "print(Fraction.__doc__)"
      ],
      "execution_count": null,
      "outputs": [
        {
          "output_type": "stream",
          "name": "stdout",
          "text": [
            "This class implements rational numbers.\n",
            "\n",
            "    In the two-argument form of the constructor, Fraction(8, 6) will\n",
            "    produce a rational number equivalent to 4/3. Both arguments must\n",
            "    be Rational. The numerator defaults to 0 and the denominator\n",
            "    defaults to 1 so that Fraction(3) == 3 and Fraction() == 0.\n",
            "\n",
            "    Fractions can also be constructed from:\n",
            "\n",
            "      - numeric strings similar to those accepted by the\n",
            "        float constructor (for example, '-2.3' or '1e10')\n",
            "\n",
            "      - strings of the form '123/456'\n",
            "\n",
            "      - float and Decimal instances\n",
            "\n",
            "      - other Rational instances (including integers)\n",
            "\n",
            "    \n"
          ]
        }
      ]
    },
    {
      "cell_type": "markdown",
      "metadata": {
        "id": "Fto9d_q69jQH"
      },
      "source": [
        "# 3. Strings"
      ]
    },
    {
      "cell_type": "markdown",
      "metadata": {
        "id": "dUN7LM_hcaA5"
      },
      "source": [
        "String diidentifikasikan dengan tanda **petik tunggal (')** atau **petik ganda (\")** yang mengapitnya"
      ]
    },
    {
      "cell_type": "code",
      "metadata": {
        "id": "1qjYMHScKP46"
      },
      "source": [
        "str1 = 'Hello world!'\n",
        "str2 = \"This is a Python string.\""
      ],
      "execution_count": null,
      "outputs": []
    },
    {
      "cell_type": "code",
      "metadata": {
        "id": "uO6rTG5fc-Sz",
        "colab": {
          "base_uri": "https://localhost:8080/",
          "height": 35
        },
        "outputId": "e749434c-f068-4116-a4ba-567b19f96747"
      },
      "source": [
        "# tampilkan str1 dan str2\n",
        "str1\n"
      ],
      "execution_count": null,
      "outputs": [
        {
          "output_type": "execute_result",
          "data": {
            "application/vnd.google.colaboratory.intrinsic+json": {
              "type": "string"
            },
            "text/plain": [
              "'Hello world!'"
            ]
          },
          "metadata": {},
          "execution_count": 48
        }
      ]
    },
    {
      "cell_type": "code",
      "metadata": {
        "colab": {
          "base_uri": "https://localhost:8080/"
        },
        "id": "KVSxxAVIT0rl",
        "outputId": "2b4ccccf-eab8-430d-aa92-ace6b0710ab9"
      },
      "source": [
        "print(str1)"
      ],
      "execution_count": null,
      "outputs": [
        {
          "output_type": "stream",
          "name": "stdout",
          "text": [
            "Hello world!\n"
          ]
        }
      ]
    },
    {
      "cell_type": "code",
      "metadata": {
        "id": "w-Rs45LGdFi1",
        "colab": {
          "base_uri": "https://localhost:8080/"
        },
        "outputId": "44a8d94d-9ea5-40de-c1e2-ff735ac3f071"
      },
      "source": [
        "# tampilkan tipe dari str1 dan str2 dengan menggunakan fungsi type\n",
        "\n",
        "type(str2)"
      ],
      "execution_count": null,
      "outputs": [
        {
          "output_type": "execute_result",
          "data": {
            "text/plain": [
              "str"
            ]
          },
          "metadata": {},
          "execution_count": 51
        }
      ]
    },
    {
      "cell_type": "markdown",
      "metadata": {
        "id": "ciK9YLZEdS9P"
      },
      "source": [
        "Untuk mengetahui panjang string dapat menggunakan fungsi **len**"
      ]
    },
    {
      "cell_type": "code",
      "metadata": {
        "id": "xqmyex08fc_A",
        "colab": {
          "base_uri": "https://localhost:8080/"
        },
        "outputId": "d5ccbab9-d3cf-4a74-f108-2f235bd3c626"
      },
      "source": [
        "# tampilkan panjang str2\n",
        "len(str2)"
      ],
      "execution_count": null,
      "outputs": [
        {
          "output_type": "execute_result",
          "data": {
            "text/plain": [
              "24"
            ]
          },
          "metadata": {},
          "execution_count": 52
        }
      ]
    },
    {
      "cell_type": "markdown",
      "metadata": {
        "id": "6fVK7oeHrihq"
      },
      "source": [
        "Menampilkan tanda petik tunggal atau petik ganda dalam string"
      ]
    },
    {
      "cell_type": "code",
      "metadata": {
        "id": "3MDy_7Wur6ib",
        "colab": {
          "base_uri": "https://localhost:8080/"
        },
        "outputId": "2c5699d7-d6e1-4bfa-f2e7-6334962c5d4d"
      },
      "source": [
        "print('allows embedded \"double\" quotes')"
      ],
      "execution_count": null,
      "outputs": [
        {
          "output_type": "stream",
          "name": "stdout",
          "text": [
            "allows embedded \"double\" quotes\n"
          ]
        }
      ]
    },
    {
      "cell_type": "code",
      "metadata": {
        "id": "5_aGYaCQfMOA",
        "colab": {
          "base_uri": "https://localhost:8080/"
        },
        "outputId": "0222fef6-c676-468a-b97a-9d3459d3da87"
      },
      "source": [
        "print(\"allows embedded 'single' quotes\")"
      ],
      "execution_count": null,
      "outputs": [
        {
          "output_type": "stream",
          "name": "stdout",
          "text": [
            "allows embedded 'single' quotes\n"
          ]
        }
      ]
    },
    {
      "cell_type": "markdown",
      "metadata": {
        "id": "FWirS8k7d_hb"
      },
      "source": [
        "Tanda 3 kali petik dapat digunakan untuk penulisan string yang memiliki lebih dari satu baris"
      ]
    },
    {
      "cell_type": "code",
      "metadata": {
        "id": "uyW1xnKLeAMp",
        "colab": {
          "base_uri": "https://localhost:8080/"
        },
        "outputId": "1814d7f4-f86d-4d08-80e1-9e87176220ac"
      },
      "source": [
        "print('''Three single \n",
        "quotes''')\n",
        "\n",
        "print(\"\"\"Three double \n",
        "quotes\"\"\")"
      ],
      "execution_count": null,
      "outputs": [
        {
          "output_type": "stream",
          "name": "stdout",
          "text": [
            "Three single \n",
            "quotes\n",
            "Three double \n",
            "quotes\n"
          ]
        }
      ]
    },
    {
      "cell_type": "code",
      "metadata": {
        "id": "E-OlYerGtda-",
        "colab": {
          "base_uri": "https://localhost:8080/"
        },
        "outputId": "8098ff28-93f3-4358-baed-f05f3f79ddf2"
      },
      "source": [
        "print(\"This is multi\\\n",
        "line statement.\")\n",
        "print(\"\"\"This is multi\n",
        "line string.\"\"\")\n"
      ],
      "execution_count": null,
      "outputs": [
        {
          "output_type": "stream",
          "name": "stdout",
          "text": [
            "This is multiline statement.\n",
            "This is multi\n",
            "line string.\n"
          ]
        }
      ]
    },
    {
      "cell_type": "markdown",
      "metadata": {
        "id": "9FPH6T4wep8L"
      },
      "source": [
        "Karakter khusus: **tab, newline dan backspace**"
      ]
    },
    {
      "cell_type": "code",
      "metadata": {
        "id": "hw91TvvhsQDV",
        "colab": {
          "base_uri": "https://localhost:8080/"
        },
        "outputId": "ac9e93dc-f447-4953-d819-01d02f311df9"
      },
      "source": [
        "print(\"this is tab\\t.\")"
      ],
      "execution_count": null,
      "outputs": [
        {
          "output_type": "stream",
          "name": "stdout",
          "text": [
            "this is tab\t.\n"
          ]
        }
      ]
    },
    {
      "cell_type": "code",
      "metadata": {
        "id": "snrX8Bkfe7Ga",
        "colab": {
          "base_uri": "https://localhost:8080/"
        },
        "outputId": "93c84d3d-afc5-434f-881f-08732586faf7"
      },
      "source": [
        "print(\"this is new\\nline.\")"
      ],
      "execution_count": null,
      "outputs": [
        {
          "output_type": "stream",
          "name": "stdout",
          "text": [
            "this is new\n",
            "line.\n"
          ]
        }
      ]
    },
    {
      "cell_type": "code",
      "metadata": {
        "id": "UpUOiZKse9Ec",
        "colab": {
          "base_uri": "https://localhost:8080/"
        },
        "outputId": "94d82189-60bd-4b58-953e-1c7b63a9b293"
      },
      "source": [
        "print(\"this is backspace\\b.\")"
      ],
      "execution_count": null,
      "outputs": [
        {
          "output_type": "stream",
          "name": "stdout",
          "text": [
            "this is backspace\b.\n"
          ]
        }
      ]
    },
    {
      "cell_type": "markdown",
      "metadata": {
        "id": "KiZ2goAu-H6p"
      },
      "source": [
        "Mengakses elemen pada string"
      ]
    },
    {
      "cell_type": "code",
      "metadata": {
        "id": "JLOoHXQR-IaE",
        "colab": {
          "base_uri": "https://localhost:8080/"
        },
        "outputId": "86986fa0-55b5-4bd0-c1d6-e6c4fbe07882"
      },
      "source": [
        "mystring = 'Apa kabar dunia!'\n",
        "print(mystring)"
      ],
      "execution_count": null,
      "outputs": [
        {
          "output_type": "stream",
          "name": "stdout",
          "text": [
            "Apa kabar dunia!\n"
          ]
        }
      ]
    },
    {
      "cell_type": "markdown",
      "metadata": {
        "id": "S0fcqsSnYDkQ"
      },
      "source": [
        "Mengakses huruf pertama"
      ]
    },
    {
      "cell_type": "code",
      "metadata": {
        "id": "iZ3SoRLKYTRc",
        "colab": {
          "base_uri": "https://localhost:8080/"
        },
        "outputId": "5760fb8f-5d8d-491d-ec0d-1c02cc282427"
      },
      "source": [
        "print(mystring[0])"
      ],
      "execution_count": null,
      "outputs": [
        {
          "output_type": "stream",
          "name": "stdout",
          "text": [
            "A\n"
          ]
        }
      ]
    },
    {
      "cell_type": "markdown",
      "metadata": {
        "id": "vd56xbYdY2mn"
      },
      "source": [
        "Mengakses huruf ke 4 sampai 10"
      ]
    },
    {
      "cell_type": "code",
      "metadata": {
        "id": "14Lui2dvYXKc",
        "colab": {
          "base_uri": "https://localhost:8080/"
        },
        "outputId": "42051d36-644d-4b90-c667-0f0798d5dadc"
      },
      "source": [
        "print(mystring[4:10])"
      ],
      "execution_count": null,
      "outputs": [
        {
          "output_type": "stream",
          "name": "stdout",
          "text": [
            "kabar \n"
          ]
        }
      ]
    },
    {
      "cell_type": "markdown",
      "metadata": {
        "id": "P99lsRbmZKCR"
      },
      "source": [
        "Mengakses huruf ke 4 hingga terakhir"
      ]
    },
    {
      "cell_type": "code",
      "metadata": {
        "id": "bl0SYwtcYqe1",
        "colab": {
          "base_uri": "https://localhost:8080/"
        },
        "outputId": "3638f45a-0120-465f-a080-cec4eaf9c355"
      },
      "source": [
        "print(mystring[4:])"
      ],
      "execution_count": null,
      "outputs": [
        {
          "output_type": "stream",
          "name": "stdout",
          "text": [
            "kabar dunia!\n"
          ]
        }
      ]
    },
    {
      "cell_type": "markdown",
      "metadata": {
        "id": "t0pXfddkZaSp"
      },
      "source": [
        "Mengakses huruf pertama hingga 10 dari akhir"
      ]
    },
    {
      "cell_type": "code",
      "metadata": {
        "id": "GqAGHk_oYrIn",
        "colab": {
          "base_uri": "https://localhost:8080/"
        },
        "outputId": "a81863e2-fe25-4aa8-c6ac-a7a6915a869b"
      },
      "source": [
        "print(mystring[:-10])"
      ],
      "execution_count": null,
      "outputs": [
        {
          "output_type": "stream",
          "name": "stdout",
          "text": [
            "Apa ka\n"
          ]
        }
      ]
    },
    {
      "cell_type": "markdown",
      "metadata": {
        "id": "sW4kukD-9iTp"
      },
      "source": [
        "##Updating string\n",
        "\n",
        "String pada python adalah **immutable**. Tidak dapat diubah atau diupdate, Untuk mengubahnya harus membuat string yang baru.\n"
      ]
    },
    {
      "cell_type": "code",
      "metadata": {
        "id": "Sgg8ItvvfyfZ",
        "colab": {
          "base_uri": "https://localhost:8080/"
        },
        "outputId": "30b569ab-0609-43e9-b045-8d6b4116d8f8"
      },
      "source": [
        "str2 = \"This is a Python string.\"\n",
        "print(str2)"
      ],
      "execution_count": null,
      "outputs": [
        {
          "output_type": "stream",
          "name": "stdout",
          "text": [
            "This is a Python string.\n"
          ]
        }
      ]
    },
    {
      "cell_type": "code",
      "metadata": {
        "id": "3bcw-xNuaE68",
        "colab": {
          "base_uri": "https://localhost:8080/"
        },
        "outputId": "ff40b705-ae12-4a49-d17c-248c1a2474b6"
      },
      "source": [
        "print(str2.replace('i','_'))"
      ],
      "execution_count": null,
      "outputs": [
        {
          "output_type": "stream",
          "name": "stdout",
          "text": [
            "Th_s _s a Python str_ng.\n"
          ]
        }
      ]
    },
    {
      "cell_type": "code",
      "metadata": {
        "id": "GYRc44IoaGkr",
        "colab": {
          "base_uri": "https://localhost:8080/"
        },
        "outputId": "7f6e9838-531e-461e-e673-e2debc341815"
      },
      "source": [
        "print(str2)"
      ],
      "execution_count": null,
      "outputs": [
        {
          "output_type": "stream",
          "name": "stdout",
          "text": [
            "This is a Python string.\n"
          ]
        }
      ]
    },
    {
      "cell_type": "code",
      "metadata": {
        "id": "pu79JT1wm-DD",
        "colab": {
          "base_uri": "https://localhost:8080/",
          "height": 180
        },
        "outputId": "7e03e560-6e23-420e-be9c-33ea3dec3da3"
      },
      "source": [
        "A = \"Hello World!\"\n",
        "A[2] = 'a'"
      ],
      "execution_count": null,
      "outputs": [
        {
          "output_type": "error",
          "ename": "TypeError",
          "evalue": "ignored",
          "traceback": [
            "\u001b[0;31m---------------------------------------------------------------------------\u001b[0m",
            "\u001b[0;31mTypeError\u001b[0m                                 Traceback (most recent call last)",
            "\u001b[0;32m<ipython-input-158-bf596af1eae1>\u001b[0m in \u001b[0;36m<module>\u001b[0;34m()\u001b[0m\n\u001b[1;32m      1\u001b[0m \u001b[0mA\u001b[0m \u001b[0;34m=\u001b[0m \u001b[0;34m\"Hello World!\"\u001b[0m\u001b[0;34m\u001b[0m\u001b[0;34m\u001b[0m\u001b[0m\n\u001b[0;32m----> 2\u001b[0;31m \u001b[0mA\u001b[0m\u001b[0;34m[\u001b[0m\u001b[0;36m2\u001b[0m\u001b[0;34m]\u001b[0m \u001b[0;34m=\u001b[0m \u001b[0;34m'a'\u001b[0m\u001b[0;34m\u001b[0m\u001b[0;34m\u001b[0m\u001b[0m\n\u001b[0m",
            "\u001b[0;31mTypeError\u001b[0m: 'str' object does not support item assignment"
          ]
        }
      ]
    },
    {
      "cell_type": "markdown",
      "metadata": {
        "id": "757gPHx7m6Hm"
      },
      "source": [
        "##String Operators"
      ]
    },
    {
      "cell_type": "code",
      "metadata": {
        "id": "Vb1kLtsTm-JF",
        "colab": {
          "base_uri": "https://localhost:8080/"
        },
        "outputId": "7a455c86-4d28-4c44-fb71-4279be225460"
      },
      "source": [
        "#checking containments\n",
        "str2 = \"This is a Python string.\"\n",
        "print('x' in str2)\n",
        "print('x' not in str2)"
      ],
      "execution_count": null,
      "outputs": [
        {
          "output_type": "stream",
          "name": "stdout",
          "text": [
            "False\n",
            "True\n"
          ]
        }
      ]
    },
    {
      "cell_type": "code",
      "metadata": {
        "id": "YlajpS6ppIhI",
        "colab": {
          "base_uri": "https://localhost:8080/"
        },
        "outputId": "c09f601f-675c-45d6-cceb-17d4e00d06cb"
      },
      "source": [
        "#concatenation \n",
        "print(str2 + \" You know.\")\n",
        "print(str2)\n"
      ],
      "execution_count": null,
      "outputs": [
        {
          "output_type": "stream",
          "name": "stdout",
          "text": [
            "This is a Python string. You know.\n",
            "This is a Python string.\n"
          ]
        }
      ]
    },
    {
      "cell_type": "code",
      "metadata": {
        "id": "EZsAuWwnpIZl",
        "colab": {
          "base_uri": "https://localhost:8080/"
        },
        "outputId": "504bc88d-6401-4a98-8675-4364ceac13a2"
      },
      "source": [
        "#multiplication --> adding string to itself n times\n",
        "str1 = 'Hello world!'\n",
        "print(str1 * 3)\n",
        "print(3 * str1)"
      ],
      "execution_count": null,
      "outputs": [
        {
          "output_type": "stream",
          "name": "stdout",
          "text": [
            "Hello world!Hello world!Hello world!\n",
            "Hello world!Hello world!Hello world!\n"
          ]
        }
      ]
    },
    {
      "cell_type": "code",
      "metadata": {
        "id": "lZfiemkJp6Lp",
        "colab": {
          "base_uri": "https://localhost:8080/"
        },
        "outputId": "9c1a135e-6c89-4b46-b4df-08807f4762b9"
      },
      "source": [
        "str1 = 'Hello world!'\n",
        "print(\"Minimun char in str1: \\'\"+ min(str1) + \"\\'\")\n",
        "print(\"Maximun char in str1: \\'\"+ max(str1) + \"\\'\")"
      ],
      "execution_count": null,
      "outputs": [
        {
          "output_type": "stream",
          "name": "stdout",
          "text": [
            "Minimun char in str1: ' '\n",
            "Maximun char in str1: 'w'\n"
          ]
        }
      ]
    },
    {
      "cell_type": "markdown",
      "metadata": {
        "id": "JphWq9A8uXVJ"
      },
      "source": [
        "##String methods\n"
      ]
    },
    {
      "cell_type": "markdown",
      "metadata": {
        "id": "xdBefgZWa_jq"
      },
      "source": [
        "Untuk mengetahui panjang sebuah string dapat menggunakan fungsi **len**"
      ]
    },
    {
      "cell_type": "code",
      "metadata": {
        "id": "AacthBHmapOz",
        "colab": {
          "base_uri": "https://localhost:8080/"
        },
        "outputId": "2aba22db-3d20-487b-b20e-7ca707716bc0"
      },
      "source": [
        "# tampilkan panjang string str2\n",
        "len(str2)"
      ],
      "execution_count": null,
      "outputs": [
        {
          "output_type": "execute_result",
          "data": {
            "text/plain": [
              "24"
            ]
          },
          "metadata": {},
          "execution_count": 74
        }
      ]
    },
    {
      "cell_type": "markdown",
      "metadata": {
        "id": "dzCFtzU5fcO_"
      },
      "source": [
        "Method **count** pada string digunakan untuk mencari jumlah kemunculan sebuah string"
      ]
    },
    {
      "cell_type": "code",
      "metadata": {
        "id": "DNNDSfbVqP7v",
        "colab": {
          "base_uri": "https://localhost:8080/"
        },
        "outputId": "ac6de031-e2ef-4661-e7c7-7ce7d7b5904a"
      },
      "source": [
        "# berapa kali 'is' muncul pada str2 ?\n",
        "str2.count('is')"
      ],
      "execution_count": null,
      "outputs": [
        {
          "output_type": "execute_result",
          "data": {
            "text/plain": [
              "2"
            ]
          },
          "metadata": {},
          "execution_count": 78
        }
      ]
    },
    {
      "cell_type": "markdown",
      "metadata": {
        "id": "yxL5x4pKgbwh"
      },
      "source": [
        "Method **lower** digunakan untuk merubah string menjadi huruf kecil (lower case)"
      ]
    },
    {
      "cell_type": "code",
      "metadata": {
        "id": "6WMjW7EOufPk",
        "colab": {
          "base_uri": "https://localhost:8080/",
          "height": 35
        },
        "outputId": "e2bd8600-3db0-47a4-d6e7-d2528ffae0bb"
      },
      "source": [
        "# tampilkan str2 sebagai lower case\n",
        "str2.lower()"
      ],
      "execution_count": null,
      "outputs": [
        {
          "output_type": "execute_result",
          "data": {
            "application/vnd.google.colaboratory.intrinsic+json": {
              "type": "string"
            },
            "text/plain": [
              "'this is a python string.'"
            ]
          },
          "metadata": {},
          "execution_count": 77
        }
      ]
    },
    {
      "cell_type": "markdown",
      "metadata": {
        "id": "KcIwa2B8gv2a"
      },
      "source": [
        "Method **find** digunakan untuk mencari posisi pertama kali ditemukannya sebuah substring "
      ]
    },
    {
      "cell_type": "code",
      "metadata": {
        "id": "2zq3toeCv12i",
        "colab": {
          "base_uri": "https://localhost:8080/"
        },
        "outputId": "e9611f9a-7fd4-4b1f-8ad0-ef760858db37"
      },
      "source": [
        "# cari lokasi is pada str2\n",
        "print(str2.find(\"is\"))"
      ],
      "execution_count": null,
      "outputs": [
        {
          "output_type": "stream",
          "name": "stdout",
          "text": [
            "2\n"
          ]
        }
      ]
    },
    {
      "cell_type": "code",
      "metadata": {
        "id": "xct8O6Nihkps",
        "colab": {
          "base_uri": "https://localhost:8080/"
        },
        "outputId": "5bbe1189-7fe9-4581-9c7b-7ac1f8d07f22"
      },
      "source": [
        "# cari lokasi is pada str2 dimulai dari index ke 3\n",
        "print(str2.find(\"is\",3))"
      ],
      "execution_count": null,
      "outputs": [
        {
          "output_type": "stream",
          "name": "stdout",
          "text": [
            "5\n"
          ]
        }
      ]
    },
    {
      "cell_type": "code",
      "metadata": {
        "id": "efS0Yw43hbfi",
        "colab": {
          "base_uri": "https://localhost:8080/"
        },
        "outputId": "c4d85ac0-af8a-4fa0-e106-5c08a1cbba7d"
      },
      "source": [
        "str2.lower().find(\"p\")"
      ],
      "execution_count": null,
      "outputs": [
        {
          "output_type": "execute_result",
          "data": {
            "text/plain": [
              "10"
            ]
          },
          "metadata": {},
          "execution_count": 83
        }
      ]
    },
    {
      "cell_type": "code",
      "metadata": {
        "colab": {
          "base_uri": "https://localhost:8080/"
        },
        "id": "WG4RDiEUZPmE",
        "outputId": "2ff1924c-e479-4387-e4a1-ab274331170c"
      },
      "source": [
        "str2.lower() \\\n",
        ".find(\"p\")"
      ],
      "execution_count": null,
      "outputs": [
        {
          "output_type": "execute_result",
          "data": {
            "text/plain": [
              "10"
            ]
          },
          "metadata": {},
          "execution_count": 85
        }
      ]
    },
    {
      "cell_type": "code",
      "metadata": {
        "id": "IQi5qNFHZUNt"
      },
      "source": [
        ""
      ],
      "execution_count": null,
      "outputs": []
    },
    {
      "cell_type": "markdown",
      "metadata": {
        "id": "Fr7uWzYZgArD"
      },
      "source": [
        "List lengkap method pada string --> https://docs.python.org/3/library/stdtypes.html#string-methods "
      ]
    },
    {
      "cell_type": "markdown",
      "metadata": {
        "id": "14cTLcfxrHde"
      },
      "source": [
        "##String Formatting Operators\n",
        "\n",
        "see complete doc in https://docs.python.org/3/library/stdtypes.html#printf-style-string-formatting"
      ]
    },
    {
      "cell_type": "code",
      "metadata": {
        "id": "z8m2pZj1rOAY",
        "colab": {
          "base_uri": "https://localhost:8080/"
        },
        "outputId": "631ad02d-6f16-4f3d-8fae-4790a0a1ec4c"
      },
      "source": [
        "planet = 'Earth'\n",
        "radius = 6371\n",
        "print (\"The %s radius is %d km!\" % (planet,  radius)) "
      ],
      "execution_count": null,
      "outputs": [
        {
          "output_type": "stream",
          "name": "stdout",
          "text": [
            "The Earth radius is 6371 km!\n"
          ]
        }
      ]
    },
    {
      "cell_type": "code",
      "metadata": {
        "id": "fv8NCwZ-iI7r",
        "colab": {
          "base_uri": "https://localhost:8080/"
        },
        "outputId": "d2f1cd0c-002d-44a9-b0a5-597bc5d00f1e"
      },
      "source": [
        "a = 'Mars'; b = 3389.5\n",
        "print (\"The %s radius is %d km!\" % (a,  b))  # b dalam desimal "
      ],
      "execution_count": null,
      "outputs": [
        {
          "output_type": "stream",
          "name": "stdout",
          "text": [
            "The Mars radius is 3389 km!\n"
          ]
        }
      ]
    },
    {
      "cell_type": "code",
      "metadata": {
        "colab": {
          "base_uri": "https://localhost:8080/"
        },
        "id": "vD7L0SYjZlQ4",
        "outputId": "ebf1be34-9912-40b3-9934-ab6e195d0a76"
      },
      "source": [
        "print (\"The %s radius is %f km!\" % (a,  b))  # b dalam float"
      ],
      "execution_count": null,
      "outputs": [
        {
          "output_type": "stream",
          "name": "stdout",
          "text": [
            "The Mars radius is 3389.500000 km!\n"
          ]
        }
      ]
    },
    {
      "cell_type": "code",
      "metadata": {
        "colab": {
          "base_uri": "https://localhost:8080/"
        },
        "id": "gEl2NiU0aKvV",
        "outputId": "a24e3511-2f32-40a7-f033-3aac0d29462f"
      },
      "source": [
        "print (\"List planet: %s and %s\" %(planet,a))"
      ],
      "execution_count": null,
      "outputs": [
        {
          "output_type": "stream",
          "name": "stdout",
          "text": [
            "List planet: Earth and Mars\n"
          ]
        }
      ]
    },
    {
      "cell_type": "code",
      "metadata": {
        "id": "gzW2p0WEw-mG",
        "colab": {
          "base_uri": "https://localhost:8080/"
        },
        "outputId": "f072da5d-2712-4066-fff9-4cdf0a6552a2"
      },
      "source": [
        "#the f-string formatter\n",
        "print(f\"The {planet} radius is {radius} km!\")"
      ],
      "execution_count": null,
      "outputs": [
        {
          "output_type": "stream",
          "name": "stdout",
          "text": [
            "The Earth radius is 6371 km!\n"
          ]
        }
      ]
    },
    {
      "cell_type": "code",
      "metadata": {
        "id": "r7nfRBv-xK7O",
        "colab": {
          "base_uri": "https://localhost:8080/"
        },
        "outputId": "6ed41c7e-d159-4b55-a25c-ecf4250532cb"
      },
      "source": [
        "#the format() method\n",
        "print(\"The {0} radius is {1} km!\".format(planet, radius))\n",
        "print(\"The {a} radius is {b} km!\".format(a=\"Mars\", b=3389.5))"
      ],
      "execution_count": null,
      "outputs": [
        {
          "output_type": "stream",
          "name": "stdout",
          "text": [
            "The Earth radius is 6371 km!\n",
            "The Mars radius is 3389.5 km!\n"
          ]
        }
      ]
    },
    {
      "cell_type": "code",
      "metadata": {
        "id": "erMdybbyyNt0"
      },
      "source": [
        ""
      ],
      "execution_count": null,
      "outputs": []
    },
    {
      "cell_type": "markdown",
      "metadata": {
        "id": "ZxQVkgiS2gcp"
      },
      "source": [
        "#4. List"
      ]
    },
    {
      "cell_type": "markdown",
      "metadata": {
        "id": "iYl6kgTnjK-U"
      },
      "source": [
        "List adalah sekumpulan object yang ditandai dengan **kurung siku**\n",
        "\n",
        "List adalah mutable, sehingga dapat diupdate atau diubah"
      ]
    },
    {
      "cell_type": "code",
      "metadata": {
        "id": "ZXO5SmSd2gcq",
        "colab": {
          "base_uri": "https://localhost:8080/"
        },
        "outputId": "999e26f4-9741-4447-b6ed-198dc9bd332a"
      },
      "source": [
        "list1 = ['apple', 'banana', 'strawberry', 100, 100, 200, 10/3]\n",
        "list1"
      ],
      "execution_count": null,
      "outputs": [
        {
          "output_type": "execute_result",
          "data": {
            "text/plain": [
              "['apple', 'banana', 'strawberry', 100, 100, 200, 3.3333333333333335]"
            ]
          },
          "metadata": {},
          "execution_count": 93
        }
      ]
    },
    {
      "cell_type": "code",
      "metadata": {
        "id": "yk0DcPqtlAOs",
        "colab": {
          "base_uri": "https://localhost:8080/"
        },
        "outputId": "8ffb85da-b08d-4338-98da-94a31dbc317d"
      },
      "source": [
        "# tampilkan panjang list1 menggunakan fungsi len\n",
        "len(list1)"
      ],
      "execution_count": null,
      "outputs": [
        {
          "output_type": "execute_result",
          "data": {
            "text/plain": [
              "7"
            ]
          },
          "metadata": {},
          "execution_count": 94
        }
      ]
    },
    {
      "cell_type": "markdown",
      "metadata": {
        "id": "YM-5h_yx2gcs"
      },
      "source": [
        "##Accessing elements"
      ]
    },
    {
      "cell_type": "code",
      "metadata": {
        "id": "ivjnXoYu2gcs",
        "colab": {
          "base_uri": "https://localhost:8080/",
          "height": 35
        },
        "outputId": "16fedb50-6983-4174-e6d6-75e010117787"
      },
      "source": [
        "# tampilkan element pertama dari list1\n",
        "list1[0]"
      ],
      "execution_count": null,
      "outputs": [
        {
          "output_type": "execute_result",
          "data": {
            "application/vnd.google.colaboratory.intrinsic+json": {
              "type": "string"
            },
            "text/plain": [
              "'apple'"
            ]
          },
          "metadata": {},
          "execution_count": 95
        }
      ]
    },
    {
      "cell_type": "code",
      "metadata": {
        "id": "GRAXa_VzjjDy",
        "colab": {
          "base_uri": "https://localhost:8080/"
        },
        "outputId": "57bdfdb7-f99e-4698-b2d5-247e78420d06"
      },
      "source": [
        "# tampilkan semua elemen list1 mulai dari elemen ke 3\n",
        "list1[2:]"
      ],
      "execution_count": null,
      "outputs": [
        {
          "output_type": "execute_result",
          "data": {
            "text/plain": [
              "['strawberry', 100, 100, 200, 3.3333333333333335]"
            ]
          },
          "metadata": {},
          "execution_count": 101
        }
      ]
    },
    {
      "cell_type": "code",
      "metadata": {
        "id": "lEl0cCHJjtwu",
        "colab": {
          "base_uri": "https://localhost:8080/"
        },
        "outputId": "814be3b6-43c6-49fc-d3cb-32e478a36b6e"
      },
      "source": [
        "# tampilkan mulai dari elemen pertama hingga elemen ke 3 dari akhir (dengan notasi -)\n",
        "list1[0:-2]"
      ],
      "execution_count": null,
      "outputs": [
        {
          "output_type": "execute_result",
          "data": {
            "text/plain": [
              "['apple', 'banana', 'strawberry', 100, 100]"
            ]
          },
          "metadata": {},
          "execution_count": 102
        }
      ]
    },
    {
      "cell_type": "markdown",
      "metadata": {
        "id": "kRrHnJLb-BU6"
      },
      "source": [
        "##Updating a list"
      ]
    },
    {
      "cell_type": "code",
      "metadata": {
        "id": "nVCplxxO9w0b"
      },
      "source": [
        "# ubah elemen ke 2 menjadi 'cherry'\n",
        "list1[1]= 'cherry'"
      ],
      "execution_count": null,
      "outputs": []
    },
    {
      "cell_type": "code",
      "metadata": {
        "colab": {
          "base_uri": "https://localhost:8080/"
        },
        "id": "7UiLLZ-Jchou",
        "outputId": "3280a803-5d4a-4657-d25d-3f9afddf8620"
      },
      "source": [
        "list1"
      ],
      "execution_count": null,
      "outputs": [
        {
          "output_type": "execute_result",
          "data": {
            "text/plain": [
              "['apple', 'cherry', 'strawberry', 100, 100, 200, 3.3333333333333335]"
            ]
          },
          "metadata": {},
          "execution_count": 104
        }
      ]
    },
    {
      "cell_type": "markdown",
      "metadata": {
        "id": "PCf_5vC_2gcv"
      },
      "source": [
        "##Deleting element"
      ]
    },
    {
      "cell_type": "code",
      "metadata": {
        "id": "UnotLus1AvKv"
      },
      "source": [
        "#delete by index\n",
        "del list1[2]"
      ],
      "execution_count": null,
      "outputs": []
    },
    {
      "cell_type": "code",
      "metadata": {
        "id": "RzIVAoeJlYcr",
        "colab": {
          "base_uri": "https://localhost:8080/"
        },
        "outputId": "5b3f746d-e7b0-4fc4-899c-cdffffa4ac4c"
      },
      "source": [
        "list1[2]"
      ],
      "execution_count": null,
      "outputs": [
        {
          "output_type": "execute_result",
          "data": {
            "text/plain": [
              "100"
            ]
          },
          "metadata": {},
          "execution_count": 106
        }
      ]
    },
    {
      "cell_type": "code",
      "metadata": {
        "colab": {
          "base_uri": "https://localhost:8080/"
        },
        "id": "WUnw5tCAcw5w",
        "outputId": "3c814e7b-4475-4dc4-f255-a16a97539eaf"
      },
      "source": [
        "list1"
      ],
      "execution_count": null,
      "outputs": [
        {
          "output_type": "execute_result",
          "data": {
            "text/plain": [
              "['apple', 'cherry', 100, 100, 200, 3.3333333333333335]"
            ]
          },
          "metadata": {},
          "execution_count": 107
        }
      ]
    },
    {
      "cell_type": "code",
      "metadata": {
        "id": "gocMjV-glXuS",
        "colab": {
          "base_uri": "https://localhost:8080/"
        },
        "outputId": "e6b06c0c-e04d-4d58-84d0-e33faf0ef2ed"
      },
      "source": [
        "print (\"After deleting value at index 2 : \", list1)"
      ],
      "execution_count": null,
      "outputs": [
        {
          "output_type": "stream",
          "name": "stdout",
          "text": [
            "After deleting value at index 2 :  ['apple', 'cherry', 100, 200, 3.3333333333333335]\n"
          ]
        }
      ]
    },
    {
      "cell_type": "code",
      "metadata": {
        "id": "uJWr1dt3BI3I",
        "colab": {
          "base_uri": "https://localhost:8080/"
        },
        "outputId": "fe9b7567-f644-489e-db5a-10f52da020ea"
      },
      "source": [
        "#delete by item\n",
        "list1.remove(100)\n",
        "print (\"After deleting value 100 : \", list1)"
      ],
      "execution_count": null,
      "outputs": [
        {
          "output_type": "stream",
          "name": "stdout",
          "text": [
            "After deleting value 100 :  ['apple', 'cherry', 100, 200, 3.3333333333333335]\n"
          ]
        }
      ]
    },
    {
      "cell_type": "markdown",
      "metadata": {
        "id": "cdxmd4-dA5LD"
      },
      "source": [
        "##Appending list"
      ]
    },
    {
      "cell_type": "code",
      "metadata": {
        "id": "5Y2ydDG7I752",
        "colab": {
          "base_uri": "https://localhost:8080/"
        },
        "outputId": "0c2b2b87-cab2-4de3-d161-15ce8f4f945e"
      },
      "source": [
        "#Appends object obj to list\n",
        "list1.append(\"tomato\")\n",
        "print (\"After append  : \", list1)\n",
        "\n",
        "\n"
      ],
      "execution_count": null,
      "outputs": [
        {
          "output_type": "stream",
          "name": "stdout",
          "text": [
            "After append  :  ['apple', 'cherry', 100, 200, 3.3333333333333335, 'tomato']\n"
          ]
        }
      ]
    },
    {
      "cell_type": "code",
      "metadata": {
        "colab": {
          "base_uri": "https://localhost:8080/"
        },
        "id": "QC_XB2CWdOfq",
        "outputId": "11dac31f-7ea4-4d88-9980-444aac666bcd"
      },
      "source": [
        "#Appends the contents of seq to list\n",
        "list2 = ['red', 'green', 'blue']\n",
        "list1.extend(list2)\n",
        "print (\"After appends : \", list1)\n",
        "\n"
      ],
      "execution_count": null,
      "outputs": [
        {
          "output_type": "stream",
          "name": "stdout",
          "text": [
            "After appends :  ['apple', 'cherry', 100, 200, 3.3333333333333335, 'tomato', 'red', 'green', 'blue']\n"
          ]
        }
      ]
    },
    {
      "cell_type": "code",
      "metadata": {
        "colab": {
          "base_uri": "https://localhost:8080/"
        },
        "id": "WG4lQhNydRAQ",
        "outputId": "ced23f19-63ee-491a-daba-3b6dec78d40f"
      },
      "source": [
        "#Appends list object to list\n",
        "list1.append(list2)\n",
        "print (\"After appends : \", list1)"
      ],
      "execution_count": null,
      "outputs": [
        {
          "output_type": "stream",
          "name": "stdout",
          "text": [
            "After appends :  ['apple', 'cherry', 100, 200, 3.3333333333333335, 'tomato', 'red', 'green', 'blue', ['red', 'green', 'blue']]\n"
          ]
        }
      ]
    },
    {
      "cell_type": "markdown",
      "metadata": {
        "id": "ouqgzyiWKJCt"
      },
      "source": [
        "# 5. Tuple\n",
        "\n",
        "\n",
        "Tuple is **immutable** collection of objects\n",
        "\n",
        "Tuples use **parentheses**, whereas lists use **square brackets**."
      ]
    },
    {
      "cell_type": "code",
      "metadata": {
        "id": "Kzk__-7tKKN7",
        "colab": {
          "base_uri": "https://localhost:8080/"
        },
        "outputId": "fb6ae945-7fa2-4f10-9fd3-cb27b16e8da9"
      },
      "source": [
        "col_01 = []\n",
        "col_02 = ()\n",
        "\n",
        "print('Type of collection 01:', type(col_01))\n",
        "print('Type of collection 02:', type(col_02))"
      ],
      "execution_count": null,
      "outputs": [
        {
          "output_type": "stream",
          "name": "stdout",
          "text": [
            "Type of collection 01: <class 'list'>\n",
            "Type of collection 02: <class 'tuple'>\n"
          ]
        }
      ]
    },
    {
      "cell_type": "code",
      "metadata": {
        "id": "AOWfPcKELxIJ",
        "colab": {
          "base_uri": "https://localhost:8080/"
        },
        "outputId": "6e62584d-0670-4ea7-edbd-cc2424c5ada8"
      },
      "source": [
        "tuple01 = ('sun', 'mon', 'tue', 1, 2/7, ['a','b'])\n",
        "tuple01"
      ],
      "execution_count": null,
      "outputs": [
        {
          "output_type": "execute_result",
          "data": {
            "text/plain": [
              "('sun', 'mon', 'tue', 1, 0.2857142857142857, ['a', 'b'])"
            ]
          },
          "metadata": {},
          "execution_count": 114
        }
      ]
    },
    {
      "cell_type": "markdown",
      "metadata": {
        "id": "xorFXLTLMTGo"
      },
      "source": [
        "##Accessing tuple elements"
      ]
    },
    {
      "cell_type": "code",
      "metadata": {
        "id": "7xZBZb3pME1G",
        "colab": {
          "base_uri": "https://localhost:8080/"
        },
        "outputId": "790e55f6-619c-4d0d-87e1-c0dba3fa3500"
      },
      "source": [
        "print(tuple01[0])\n",
        "print(tuple01[3:])\n",
        "print(tuple01[:-3])"
      ],
      "execution_count": null,
      "outputs": [
        {
          "output_type": "stream",
          "name": "stdout",
          "text": [
            "sun\n",
            "(1, 0.2857142857142857, ['a', 'b'])\n",
            "('sun', 'mon', 'tue')\n"
          ]
        }
      ]
    },
    {
      "cell_type": "markdown",
      "metadata": {
        "id": "gKk6pBDTMhGt"
      },
      "source": [
        "##Updating tuple"
      ]
    },
    {
      "cell_type": "code",
      "metadata": {
        "id": "xdaa3J98Mj-N",
        "colab": {
          "base_uri": "https://localhost:8080/",
          "height": 197
        },
        "outputId": "5bdaefe4-8482-4847-e5be-046fbfb28871"
      },
      "source": [
        "#Tuple is immutable, updating is not possible\n",
        "tuple01[1] = 'sat'\n",
        "print(tuple01)\n"
      ],
      "execution_count": null,
      "outputs": [
        {
          "output_type": "error",
          "ename": "TypeError",
          "evalue": "ignored",
          "traceback": [
            "\u001b[0;31m---------------------------------------------------------------------------\u001b[0m",
            "\u001b[0;31mTypeError\u001b[0m                                 Traceback (most recent call last)",
            "\u001b[0;32m<ipython-input-116-df2bfbd687ea>\u001b[0m in \u001b[0;36m<module>\u001b[0;34m()\u001b[0m\n\u001b[1;32m      1\u001b[0m \u001b[0;31m#Tuple is immutable, updating is not possible\u001b[0m\u001b[0;34m\u001b[0m\u001b[0;34m\u001b[0m\u001b[0;34m\u001b[0m\u001b[0m\n\u001b[0;32m----> 2\u001b[0;31m \u001b[0mtuple01\u001b[0m\u001b[0;34m[\u001b[0m\u001b[0;36m1\u001b[0m\u001b[0;34m]\u001b[0m \u001b[0;34m=\u001b[0m \u001b[0;34m'sat'\u001b[0m\u001b[0;34m\u001b[0m\u001b[0;34m\u001b[0m\u001b[0m\n\u001b[0m\u001b[1;32m      3\u001b[0m \u001b[0mprint\u001b[0m\u001b[0;34m(\u001b[0m\u001b[0mtuple01\u001b[0m\u001b[0;34m)\u001b[0m\u001b[0;34m\u001b[0m\u001b[0;34m\u001b[0m\u001b[0m\n",
            "\u001b[0;31mTypeError\u001b[0m: 'tuple' object does not support item assignment"
          ]
        }
      ]
    },
    {
      "cell_type": "code",
      "metadata": {
        "colab": {
          "base_uri": "https://localhost:8080/"
        },
        "id": "SIzC36PKeXKM",
        "outputId": "bcae114e-0a54-410d-ae3a-7160d020c688"
      },
      "source": [
        "#Tuple is immutable, updating is not possible\n",
        "#tuple01[1] = 'sat'\n",
        "print(tuple01)"
      ],
      "execution_count": null,
      "outputs": [
        {
          "output_type": "stream",
          "name": "stdout",
          "text": [
            "('sun', 'mon', 'tue', 1, 0.2857142857142857, ['a', 'b'])\n"
          ]
        }
      ]
    },
    {
      "cell_type": "markdown",
      "metadata": {
        "id": "zdYSrqdXNjJY"
      },
      "source": [
        "##Tuple operations"
      ]
    },
    {
      "cell_type": "code",
      "metadata": {
        "id": "ku66xTrvNnFl",
        "colab": {
          "base_uri": "https://localhost:8080/"
        },
        "outputId": "8acc3219-b80a-4c7f-eb8e-37ebc89a3a37"
      },
      "source": [
        "#concatenation\n",
        "print(tuple01 + (1,2,3))\n",
        "\n",
        "#multiplication\n",
        "print(tuple01 * 2)\n",
        "\n",
        "#len\n",
        "print(len(tuple01))\n",
        "\n",
        "#check containment\n",
        "print(1 in tuple01)\n",
        "print(1 not in tuple01)"
      ],
      "execution_count": null,
      "outputs": [
        {
          "output_type": "stream",
          "name": "stdout",
          "text": [
            "('sun', 'mon', 'tue', 1, 0.2857142857142857, ['a', 'b'], 1, 2, 3)\n",
            "('sun', 'mon', 'tue', 1, 0.2857142857142857, ['a', 'b'], 'sun', 'mon', 'tue', 1, 0.2857142857142857, ['a', 'b'])\n",
            "6\n",
            "True\n",
            "False\n"
          ]
        }
      ]
    },
    {
      "cell_type": "code",
      "metadata": {
        "id": "IiYiYD-JOjBc"
      },
      "source": [
        ""
      ],
      "execution_count": null,
      "outputs": []
    },
    {
      "cell_type": "markdown",
      "metadata": {
        "id": "eswmGbz-l8Xi"
      },
      "source": [
        "# Sequence Operation\n",
        "\n",
        "\n",
        "Sequence is collection of objects whose contents can be accessed via \"**indexing**\"\n",
        "\n",
        "Most common used sequence: **Strings, Lists, Tupples**"
      ]
    },
    {
      "cell_type": "code",
      "metadata": {
        "id": "WTKBteH0LWRc",
        "colab": {
          "base_uri": "https://localhost:8080/"
        },
        "outputId": "9a797689-b0bf-4f0b-cf9d-1c35f2523e7f"
      },
      "source": [
        "a = 'Hello '\n",
        "len(a)"
      ],
      "execution_count": null,
      "outputs": [
        {
          "output_type": "execute_result",
          "data": {
            "text/plain": [
              "6"
            ]
          },
          "metadata": {},
          "execution_count": 119
        }
      ]
    },
    {
      "cell_type": "markdown",
      "metadata": {
        "id": "iJzLV6WUJtbY"
      },
      "source": [
        "### Indexing and Slicing"
      ]
    },
    {
      "cell_type": "code",
      "metadata": {
        "id": "T1d2l_4omjS7",
        "colab": {
          "base_uri": "https://localhost:8080/"
        },
        "outputId": "f4e70d19-91bd-4dd1-bbba-16d801e31e17"
      },
      "source": [
        "b = [1, 2, 3, 4, 5]\n",
        "len(b)"
      ],
      "execution_count": null,
      "outputs": [
        {
          "output_type": "execute_result",
          "data": {
            "text/plain": [
              "5"
            ]
          },
          "metadata": {},
          "execution_count": 120
        }
      ]
    },
    {
      "cell_type": "code",
      "metadata": {
        "id": "hpxt_p5iMjfx",
        "colab": {
          "base_uri": "https://localhost:8080/"
        },
        "outputId": "f76370a9-2120-443f-cd7d-5ff67bae0c2f"
      },
      "source": [
        "b[0]"
      ],
      "execution_count": null,
      "outputs": [
        {
          "output_type": "execute_result",
          "data": {
            "text/plain": [
              "1"
            ]
          },
          "metadata": {},
          "execution_count": 121
        }
      ]
    },
    {
      "cell_type": "code",
      "metadata": {
        "id": "NVQUtkSqMngV",
        "colab": {
          "base_uri": "https://localhost:8080/"
        },
        "outputId": "b32e20e7-5f23-453e-8703-ee9fa29e347c"
      },
      "source": [
        "b[0:3]"
      ],
      "execution_count": null,
      "outputs": [
        {
          "output_type": "execute_result",
          "data": {
            "text/plain": [
              "[1, 2, 3]"
            ]
          },
          "metadata": {},
          "execution_count": 122
        }
      ]
    },
    {
      "cell_type": "code",
      "metadata": {
        "id": "bypt2xqLMz33",
        "colab": {
          "base_uri": "https://localhost:8080/"
        },
        "outputId": "e6ee51e0-7d0d-4ed5-a131-b37324608529"
      },
      "source": [
        "b[:3]"
      ],
      "execution_count": null,
      "outputs": [
        {
          "output_type": "execute_result",
          "data": {
            "text/plain": [
              "[1, 2, 3]"
            ]
          },
          "metadata": {},
          "execution_count": 123
        }
      ]
    },
    {
      "cell_type": "code",
      "metadata": {
        "id": "OoyYbE2gMcdv",
        "colab": {
          "base_uri": "https://localhost:8080/"
        },
        "outputId": "ab7e82e7-7ad7-4c07-c4d2-e4c948f23154"
      },
      "source": [
        "print( b[3] + b[-4])"
      ],
      "execution_count": null,
      "outputs": [
        {
          "output_type": "stream",
          "name": "stdout",
          "text": [
            "6\n"
          ]
        }
      ]
    },
    {
      "cell_type": "code",
      "metadata": {
        "id": "Hbj8b5PHJrvO",
        "colab": {
          "base_uri": "https://localhost:8080/"
        },
        "outputId": "51e13a5c-3bac-4c9a-f221-669432c0318d"
      },
      "source": [
        "a = 'Hello World!'\n",
        "print( a[-6:] + a[:5])"
      ],
      "execution_count": null,
      "outputs": [
        {
          "output_type": "stream",
          "name": "stdout",
          "text": [
            "World!Hello\n"
          ]
        }
      ]
    },
    {
      "cell_type": "code",
      "metadata": {
        "id": "N2dCcp-9JlEJ",
        "colab": {
          "base_uri": "https://localhost:8080/"
        },
        "outputId": "0479bf3c-168d-43e7-f349-2f50329c894b"
      },
      "source": [
        "#iteration\n",
        "for item in a:\n",
        "  print(item)\n"
      ],
      "execution_count": null,
      "outputs": [
        {
          "output_type": "stream",
          "name": "stdout",
          "text": [
            "H\n",
            "e\n",
            "l\n",
            "l\n",
            "o\n",
            " \n",
            "W\n",
            "o\n",
            "r\n",
            "l\n",
            "d\n",
            "!\n"
          ]
        }
      ]
    },
    {
      "cell_type": "markdown",
      "metadata": {
        "id": "Cmm7gcvYLrfL"
      },
      "source": [
        "### Concatenation"
      ]
    },
    {
      "cell_type": "code",
      "metadata": {
        "id": "BeifG0B9mAb3",
        "colab": {
          "base_uri": "https://localhost:8080/"
        },
        "outputId": "0dd2213b-b900-42c3-d045-49680ff78b40"
      },
      "source": [
        "#concatenation string\n",
        "a = 'Hello '\n",
        "print( a + 'World!' )"
      ],
      "execution_count": null,
      "outputs": [
        {
          "output_type": "stream",
          "name": "stdout",
          "text": [
            "Hello World!\n"
          ]
        }
      ]
    },
    {
      "cell_type": "code",
      "metadata": {
        "id": "CE1kNgYaLpom",
        "colab": {
          "base_uri": "https://localhost:8080/"
        },
        "outputId": "077ef9df-b6a1-45d2-e110-d6c77412331c"
      },
      "source": [
        "#concatenation list\n",
        "b = [1 , 2]\n",
        "c = ['a', 'b']\n",
        "print( b + c )"
      ],
      "execution_count": null,
      "outputs": [
        {
          "output_type": "stream",
          "name": "stdout",
          "text": [
            "[1, 2, 'a', 'b']\n"
          ]
        }
      ]
    },
    {
      "cell_type": "code",
      "metadata": {
        "id": "Jfuu3ZjIMBkz",
        "colab": {
          "base_uri": "https://localhost:8080/"
        },
        "outputId": "f9fa0525-6220-495a-dc3b-7223775b02e0"
      },
      "source": [
        "type(b)"
      ],
      "execution_count": null,
      "outputs": [
        {
          "output_type": "execute_result",
          "data": {
            "text/plain": [
              "list"
            ]
          },
          "metadata": {},
          "execution_count": 129
        }
      ]
    },
    {
      "cell_type": "code",
      "metadata": {
        "id": "DHFfU6cImPeK",
        "colab": {
          "base_uri": "https://localhost:8080/"
        },
        "outputId": "ebbd8223-7e20-4c8c-dfd9-482eb810a6d5"
      },
      "source": [
        "#sequence multiplication\n",
        "a = 'Hello World!'\n",
        "print( a * 3 )\n",
        "\n",
        "b = 1, 2, 3, 4\n",
        "print( b * 2 )"
      ],
      "execution_count": null,
      "outputs": [
        {
          "output_type": "stream",
          "name": "stdout",
          "text": [
            "Hello World!Hello World!Hello World!\n",
            "(1, 2, 3, 4, 1, 2, 3, 4)\n"
          ]
        }
      ]
    },
    {
      "cell_type": "code",
      "metadata": {
        "id": "ekV26EBDme_o",
        "colab": {
          "base_uri": "https://localhost:8080/"
        },
        "outputId": "aaaf89b9-9a58-4949-b4bf-c2b666a6e156"
      },
      "source": [
        "#membership testing\n",
        "a = 'Hello World!'\n",
        "print( 'Hello' in a )\n",
        "\n",
        "b = [1, 2, 3, 4]\n",
        "print( 7 in b )"
      ],
      "execution_count": null,
      "outputs": [
        {
          "output_type": "stream",
          "name": "stdout",
          "text": [
            "True\n",
            "False\n"
          ]
        }
      ]
    },
    {
      "cell_type": "markdown",
      "metadata": {
        "id": "w8v0wzbLKCCK"
      },
      "source": [
        "#6. Conditional Statement\n"
      ]
    },
    {
      "cell_type": "markdown",
      "metadata": {
        "id": "XRiQv1CrTeqD"
      },
      "source": [
        "##Truth value testing"
      ]
    },
    {
      "cell_type": "code",
      "metadata": {
        "id": "e_ghWLJ4IUq1",
        "colab": {
          "base_uri": "https://localhost:8080/"
        },
        "outputId": "ef1cc15a-10b0-41a0-bf28-6e5284d4fce4"
      },
      "source": [
        "#python consider Null, empty sequences, and 0 as False and other as True\n",
        "\n",
        "print(\"Nonzero number = {0}, zero number = {1}\".format(bool(1), bool(0)))\n",
        "print(\"String with value = {0}, empty string = {1}\".format(bool('some string'), bool('')))"
      ],
      "execution_count": null,
      "outputs": [
        {
          "output_type": "stream",
          "name": "stdout",
          "text": [
            "Nonzero number = True, zero number = False\n",
            "String with value = True, empty string = False\n"
          ]
        }
      ]
    },
    {
      "cell_type": "code",
      "metadata": {
        "id": "PTcdyjWvSBor",
        "colab": {
          "base_uri": "https://localhost:8080/"
        },
        "outputId": "72944b3b-eedb-4334-99d7-c444892ae656"
      },
      "source": [
        "list1 = []; list2 = [1,2]\n",
        "print(\"List with value = {0}, empty list = {1}\".format(bool(list2), bool(list1)))"
      ],
      "execution_count": null,
      "outputs": [
        {
          "output_type": "stream",
          "name": "stdout",
          "text": [
            "List with value = True, empty list = False\n"
          ]
        }
      ]
    },
    {
      "cell_type": "code",
      "metadata": {
        "id": "P7aSxdnNSGOd",
        "colab": {
          "base_uri": "https://localhost:8080/"
        },
        "outputId": "84675ef4-a1ea-4cd7-ffe6-5b9f48ac823b"
      },
      "source": [
        "tuple1 =(); tuple2 = 1,2,3\n",
        "print(\"Tuple with value = {0}, empty tuple = {1}\".format(bool(tuple2), bool(tuple1)))\n",
        "print(\"Null value = {0}\".format(bool(None)))"
      ],
      "execution_count": null,
      "outputs": [
        {
          "output_type": "stream",
          "name": "stdout",
          "text": [
            "Tuple with value = True, empty tuple = False\n",
            "Null value = False\n"
          ]
        }
      ]
    },
    {
      "cell_type": "markdown",
      "metadata": {
        "id": "B3XLKO2NevQa"
      },
      "source": [
        "##Combining logic statement"
      ]
    },
    {
      "cell_type": "code",
      "metadata": {
        "id": "MKDK3kgley27",
        "colab": {
          "base_uri": "https://localhost:8080/"
        },
        "outputId": "b20e0628-c271-45fc-d796-692204d24432"
      },
      "source": [
        "stat1 = True\n",
        "stat2 = False\n",
        "stat3 = 247\n",
        "stat4 = []\n",
        "\n",
        "print(\"[1,2,3] != [3,2,1] = {0}\".format([1,2,3] != [3,2,1]))\n",
        "#print(\"{1,2,3\\} != \\{3,2,1\\} = {0}\".format({1,2,3} != {3,2,1}))\n",
        "print(\"True and False = {0}\".format(stat1 and stat2))\n",
        "print(\"True and 247 = {0}\".format(stat3 and stat1))\n",
        "print(\"True and empty list = {0}\".format(stat4 and stat1))\n",
        "\n",
        "print(100 and True and 200)"
      ],
      "execution_count": null,
      "outputs": [
        {
          "output_type": "stream",
          "name": "stdout",
          "text": [
            "[1,2,3] != [3,2,1] = True\n",
            "True and False = False\n",
            "True and 247 = True\n",
            "True and empty list = []\n",
            "200\n"
          ]
        }
      ]
    },
    {
      "cell_type": "markdown",
      "metadata": {
        "id": "4WtPKrzklDY9"
      },
      "source": [
        "##Simple `if` statement"
      ]
    },
    {
      "cell_type": "code",
      "metadata": {
        "id": "aoJWlyHglGBs",
        "colab": {
          "base_uri": "https://localhost:8080/"
        },
        "outputId": "171a45b6-1323-4b6f-9f23-ae4c7747537d"
      },
      "source": [
        "statement = True\n",
        "if statement:\n",
        "    print('statement is True')\n",
        "    \n",
        "if not statement:\n",
        "    print('statement is not True')"
      ],
      "execution_count": null,
      "outputs": [
        {
          "output_type": "stream",
          "name": "stdout",
          "text": [
            "statement is True\n"
          ]
        }
      ]
    },
    {
      "cell_type": "code",
      "metadata": {
        "id": "3rOV3QUez_DC",
        "colab": {
          "base_uri": "https://localhost:8080/"
        },
        "outputId": "5d39cf70-b245-45a6-a5d9-b83332b5e9d9"
      },
      "source": [
        "empty_list = []\n",
        "if empty_list:\n",
        "    print('empty list is considered True')\n",
        "    \n",
        "if not empty_list:\n",
        "    print('empty list is considered False')"
      ],
      "execution_count": null,
      "outputs": [
        {
          "output_type": "stream",
          "name": "stdout",
          "text": [
            "empty list is considered False\n"
          ]
        }
      ]
    },
    {
      "cell_type": "markdown",
      "metadata": {
        "id": "pXPi49MilGgT"
      },
      "source": [
        "##`if-else` statement"
      ]
    },
    {
      "cell_type": "code",
      "metadata": {
        "id": "AQJyfpoIlJV0",
        "colab": {
          "base_uri": "https://localhost:8080/"
        },
        "outputId": "7362855b-1689-40a0-9a41-319579d8290b"
      },
      "source": [
        "statement = True\n",
        "if statement:\n",
        "    print('statement is True')\n",
        "else:\n",
        "    print('statement is not True')"
      ],
      "execution_count": null,
      "outputs": [
        {
          "output_type": "stream",
          "name": "stdout",
          "text": [
            "statement is True\n"
          ]
        }
      ]
    },
    {
      "cell_type": "code",
      "metadata": {
        "id": "PKA1OnrQz93y",
        "colab": {
          "base_uri": "https://localhost:8080/"
        },
        "outputId": "b198f56b-11d4-4ad1-bc15-bb84cabd6091"
      },
      "source": [
        "zero_num = 0\n",
        "if zero_num:\n",
        "    print('zero is considered True')\n",
        "else:\n",
        "    print('zero is considered False')"
      ],
      "execution_count": null,
      "outputs": [
        {
          "output_type": "stream",
          "name": "stdout",
          "text": [
            "zero is considered False\n"
          ]
        }
      ]
    },
    {
      "cell_type": "code",
      "metadata": {
        "id": "NqNOXIZPz9wD"
      },
      "source": [
        ""
      ],
      "execution_count": null,
      "outputs": []
    },
    {
      "cell_type": "markdown",
      "metadata": {
        "id": "b2UzZkdSlKII"
      },
      "source": [
        "##nested `if` statement"
      ]
    },
    {
      "cell_type": "code",
      "metadata": {
        "id": "Y3u08mlqlPMk",
        "colab": {
          "base_uri": "https://localhost:8080/"
        },
        "outputId": "7c986c07-7885-4d17-c93d-182cfea0a26f"
      },
      "source": [
        "mynum = 6\n",
        "if mynum <= 10:\n",
        "  print(\"Less than or equal to 10\")\n",
        "  if mynum != 5:\n",
        "    if mynum < 5:\n",
        "      print(\"Less than 5\")\n",
        "    else:\n",
        "      print(\"It's either 6, 7, 8, 9 or 10\")\n",
        "  else:\n",
        "    print(\"5\")\n",
        "else:\n",
        "  print(\"Greater than 10\")\n",
        "  if (mynum <= 1000):\n",
        "    print(\"Less than 1000\")\n",
        "  else:\n",
        "    print(\"Pretty big number\")\n",
        "\n",
        "print(\"print anyway\")"
      ],
      "execution_count": null,
      "outputs": [
        {
          "output_type": "stream",
          "name": "stdout",
          "text": [
            "Less than or equal to 10\n",
            "It's either 6, 7, 8, 9 or 10\n",
            "print anyway\n"
          ]
        }
      ]
    },
    {
      "cell_type": "markdown",
      "metadata": {
        "id": "tXSSbwemlPxD"
      },
      "source": [
        "##`elif` statement"
      ]
    },
    {
      "cell_type": "code",
      "metadata": {
        "id": "_3nIi6h_lTF5",
        "colab": {
          "base_uri": "https://localhost:8080/"
        },
        "outputId": "80a7e80e-067f-415f-bf0a-98c0468c7eea"
      },
      "source": [
        "mynum = 60\n",
        "if mynum <= 5:\n",
        "  print(\"Less than or equal to 5\")\n",
        "elif mynum <= 10:\n",
        "  print(\"It's either 6, 7, 8, 9 or 10\")\n",
        "elif mynum <= 100:\n",
        "  print(\"Between 11 and 1000\")\n",
        "else:\n",
        "  print(\"Pretty big number\")\n"
      ],
      "execution_count": null,
      "outputs": [
        {
          "output_type": "stream",
          "name": "stdout",
          "text": [
            "Between 11 and 1000\n"
          ]
        }
      ]
    },
    {
      "cell_type": "markdown",
      "metadata": {
        "id": "GwgDYwJaSqgB"
      },
      "source": [
        "#7. Looping and Iteration\n"
      ]
    },
    {
      "cell_type": "markdown",
      "metadata": {
        "id": "IKxKm2zvT9OU"
      },
      "source": [
        "##`while` loop"
      ]
    },
    {
      "cell_type": "code",
      "metadata": {
        "id": "kIfyUPPySstj",
        "colab": {
          "base_uri": "https://localhost:8080/"
        },
        "outputId": "ff2ca3b1-eb26-4712-9814-414c5f7b7e7d"
      },
      "source": [
        "a = 0\n",
        "while a <= 10:\n",
        "  print(\"current a : %d\" % a)\n",
        "  a = a + 1"
      ],
      "execution_count": null,
      "outputs": [
        {
          "output_type": "stream",
          "name": "stdout",
          "text": [
            "current a : 0\n",
            "current a : 1\n",
            "current a : 2\n",
            "current a : 3\n",
            "current a : 4\n",
            "current a : 5\n",
            "current a : 6\n",
            "current a : 7\n",
            "current a : 8\n",
            "current a : 9\n",
            "current a : 10\n"
          ]
        }
      ]
    },
    {
      "cell_type": "markdown",
      "metadata": {
        "id": "7ecKUm6jStP5"
      },
      "source": [
        "##`for` loop"
      ]
    },
    {
      "cell_type": "code",
      "metadata": {
        "id": "5r2hpqGhSyhZ",
        "colab": {
          "base_uri": "https://localhost:8080/"
        },
        "outputId": "83a84877-c062-48fa-d08d-79f2d075c644"
      },
      "source": [
        "my_fruit = ['apple', 'banana', 'strawberry', 'cherry', 'grape']\n",
        "for i in my_fruit:\n",
        "  print(\"Let's eat %s!\" % i) "
      ],
      "execution_count": null,
      "outputs": [
        {
          "output_type": "stream",
          "name": "stdout",
          "text": [
            "Let's eat apple!\n",
            "Let's eat banana!\n",
            "Let's eat strawberry!\n",
            "Let's eat cherry!\n",
            "Let's eat grape!\n"
          ]
        }
      ]
    },
    {
      "cell_type": "code",
      "metadata": {
        "id": "wE84cnf4S48R"
      },
      "source": [
        ""
      ],
      "execution_count": null,
      "outputs": []
    },
    {
      "cell_type": "markdown",
      "metadata": {
        "id": "P76HWbY7S6C6"
      },
      "source": [
        "Nested loop for handling list of lists"
      ]
    },
    {
      "cell_type": "code",
      "metadata": {
        "id": "DhBcZ25oTA2h",
        "colab": {
          "base_uri": "https://localhost:8080/"
        },
        "outputId": "7f44127c-e993-489c-dcf6-85f3d3c61559"
      },
      "source": [
        "transportations = [['plane', 'helicopter', 'hot air balloon'], \n",
        "         ['bus', 'train', 'truck', 'car'],\n",
        "         ['ship', 'boat', 'canoe', 'raft']]\n",
        "\n",
        "for i in transportations:\n",
        "  print('these are belong in the same group:')\n",
        "  for y in i:\n",
        "    print('\\t- %s' % y)"
      ],
      "execution_count": null,
      "outputs": [
        {
          "output_type": "stream",
          "name": "stdout",
          "text": [
            "these are belong in the same group:\n",
            "\t- plane\n",
            "\t- helicopter\n",
            "\t- hot air balloon\n",
            "these are belong in the same group:\n",
            "\t- bus\n",
            "\t- train\n",
            "\t- truck\n",
            "\t- car\n",
            "these are belong in the same group:\n",
            "\t- ship\n",
            "\t- boat\n",
            "\t- canoe\n",
            "\t- raft\n"
          ]
        }
      ]
    },
    {
      "cell_type": "code",
      "metadata": {
        "id": "P1cBRyg-2xd_"
      },
      "source": [
        ""
      ],
      "execution_count": null,
      "outputs": []
    },
    {
      "cell_type": "markdown",
      "metadata": {
        "id": "12U731Cn2-E4"
      },
      "source": [
        "#8. Function\n",
        "##Simple Function"
      ]
    },
    {
      "cell_type": "code",
      "metadata": {
        "id": "qjecDnUODm3k",
        "colab": {
          "base_uri": "https://localhost:8080/"
        },
        "outputId": "d7afe681-ea91-4874-da77-d2243aed21cc"
      },
      "source": [
        "#simple function\n",
        "def hello_world():\n",
        "  print(\"Hello World!\")\n",
        "\n",
        "#call the function\n",
        "hello_world()"
      ],
      "execution_count": null,
      "outputs": [
        {
          "output_type": "stream",
          "name": "stdout",
          "text": [
            "Hello World!\n"
          ]
        }
      ]
    },
    {
      "cell_type": "code",
      "metadata": {
        "id": "2msf7rrj4vnN",
        "colab": {
          "base_uri": "https://localhost:8080/"
        },
        "outputId": "451812d6-7bc3-4e68-f60a-dd63f2323259"
      },
      "source": [
        "#function with 1 parameter\n",
        "def hello(name):\n",
        "  \"\"\"This function prints out greeting. \n",
        "  It received 1 parameter\"\"\"\n",
        "  print(\"Hello %s!\" % name)\n",
        "\n",
        "#call the function\n",
        "hello(\"World\")\n",
        "hello(\"there\")"
      ],
      "execution_count": null,
      "outputs": [
        {
          "output_type": "stream",
          "name": "stdout",
          "text": [
            "Hello World!\n",
            "Hello there!\n"
          ]
        }
      ]
    },
    {
      "cell_type": "code",
      "metadata": {
        "id": "0Xd9mpw3CSN6",
        "colab": {
          "base_uri": "https://localhost:8080/"
        },
        "outputId": "64706615-ba6f-457a-e03e-d6855a42d1a7"
      },
      "source": [
        "#function return value\n",
        "def plus(num1, num2):\n",
        "  result = num1 + num2\n",
        "  print(\"{0} + {1} = {2}\".format(num1,num2,result))\n",
        "  return result\n",
        "\n",
        "#call the function\n",
        "plus(10,3)"
      ],
      "execution_count": null,
      "outputs": [
        {
          "output_type": "stream",
          "name": "stdout",
          "text": [
            "10 + 3 = 13\n"
          ]
        },
        {
          "output_type": "execute_result",
          "data": {
            "text/plain": [
              "13"
            ]
          },
          "metadata": {},
          "execution_count": 147
        }
      ]
    },
    {
      "cell_type": "code",
      "metadata": {
        "id": "PrsJkkoBiKGr"
      },
      "source": [
        "def ops(num1, num2):\n",
        "  ret_val1 = num1 + num2\n",
        "  ret_val2 = num1 * num2\n",
        "  return ret_val1, ret_val2"
      ],
      "execution_count": null,
      "outputs": []
    },
    {
      "cell_type": "code",
      "metadata": {
        "id": "zAAeUJvCib1E"
      },
      "source": [
        "x, y = ops(1,2)"
      ],
      "execution_count": null,
      "outputs": []
    },
    {
      "cell_type": "code",
      "metadata": {
        "colab": {
          "base_uri": "https://localhost:8080/"
        },
        "id": "2mQuoPTgihVY",
        "outputId": "051b06af-e65c-4c93-e989-dfe0ac8dcf41"
      },
      "source": [
        "x"
      ],
      "execution_count": null,
      "outputs": [
        {
          "output_type": "execute_result",
          "data": {
            "text/plain": [
              "3"
            ]
          },
          "metadata": {},
          "execution_count": 151
        }
      ]
    },
    {
      "cell_type": "code",
      "metadata": {
        "colab": {
          "base_uri": "https://localhost:8080/"
        },
        "id": "oIdQEIPqijK4",
        "outputId": "65f4dab1-875e-4779-cd84-8735803ae720"
      },
      "source": [
        "y"
      ],
      "execution_count": null,
      "outputs": [
        {
          "output_type": "execute_result",
          "data": {
            "text/plain": [
              "2"
            ]
          },
          "metadata": {},
          "execution_count": 152
        }
      ]
    },
    {
      "cell_type": "code",
      "metadata": {
        "id": "53Hb9F9aDVpX",
        "colab": {
          "base_uri": "https://localhost:8080/"
        },
        "outputId": "ac9492a4-70e8-4c4d-d03f-8f0b5d16dd7f"
      },
      "source": [
        "#lambda function\n",
        "def adds(a,b): \n",
        "    return a+b\n",
        "\n",
        "lambda_adds = lambda a,b: a+b\n",
        "\n",
        "print(adds(4,5)) # using def function\n",
        "print(lambda_adds(4,5)) # using lambda function\n",
        "print((lambda a,b: a+b)(4,5)) # using anonymous lambda function\n",
        "\n"
      ],
      "execution_count": null,
      "outputs": [
        {
          "output_type": "stream",
          "name": "stdout",
          "text": [
            "9\n",
            "9\n",
            "9\n"
          ]
        }
      ]
    },
    {
      "cell_type": "markdown",
      "metadata": {
        "id": "SP5_HgSB3Kt5"
      },
      "source": [
        "#9. File Handling"
      ]
    },
    {
      "cell_type": "code",
      "metadata": {
        "id": "tZgUyu2h3k53",
        "colab": {
          "base_uri": "https://localhost:8080/"
        },
        "outputId": "bedde9d0-c259-4be7-bdd7-92f5fb4a846a"
      },
      "source": [
        "import os\n",
        "os.getcwd()\n",
        "os.listdir('sample_data')"
      ],
      "execution_count": null,
      "outputs": [
        {
          "output_type": "execute_result",
          "data": {
            "text/plain": [
              "['README.md',\n",
              " 'anscombe.json',\n",
              " 'mnist_train_small.csv',\n",
              " 'mnist_test.csv',\n",
              " 'california_housing_test.csv',\n",
              " 'california_housing_train.csv']"
            ]
          },
          "metadata": {},
          "execution_count": 6
        }
      ]
    },
    {
      "cell_type": "code",
      "metadata": {
        "id": "xHgeZUTK3k55",
        "colab": {
          "base_uri": "https://localhost:8080/"
        },
        "outputId": "96f270e4-7e4d-4455-8d4d-7d1dbb92fe41"
      },
      "source": [
        "my_file = open('sample_data/README.md')\n",
        "my_file"
      ],
      "execution_count": null,
      "outputs": [
        {
          "output_type": "execute_result",
          "data": {
            "text/plain": [
              "<_io.TextIOWrapper name='sample_data/README.md' mode='r' encoding='UTF-8'>"
            ]
          },
          "metadata": {},
          "execution_count": 7
        }
      ]
    },
    {
      "cell_type": "code",
      "metadata": {
        "id": "tapCVwaz3k56",
        "colab": {
          "base_uri": "https://localhost:8080/"
        },
        "outputId": "b4127335-54c7-44cc-80ef-f071d426389f"
      },
      "source": [
        "try:\n",
        "  my_file=open('sample_data/README.md')\n",
        "finally:\n",
        "  my_file.close()\n",
        "  print(\"close\")"
      ],
      "execution_count": null,
      "outputs": [
        {
          "output_type": "stream",
          "name": "stdout",
          "text": [
            "close\n"
          ]
        }
      ]
    },
    {
      "cell_type": "code",
      "metadata": {
        "id": "oxKZiiA_Ybdf",
        "colab": {
          "base_uri": "https://localhost:8080/"
        },
        "outputId": "aea5ac4c-36c8-45c2-b235-bf87fc0cda20"
      },
      "source": [
        "with open('sample_data/README.md') as my_file:  #use 'with' statement to make sure file handle closed after finish\n",
        "  print(my_file.read(30)) #read 30 bytes from the last position\n",
        "  print(my_file.tell()) #show position in file\n",
        "  print(my_file.seek(30)) #go to position 30 \n",
        "  print(my_file.read(35)) #read 35 bytes from the last position\n",
        "  print(my_file.tell())\n",
        "\n",
        "  print(my_file.readline()) #read a line (read until finding newline)\n",
        "\n",
        "  my_file.seek(0) #go to the beginning of the file\n",
        "  lines = my_file.readlines()\n",
        "  for line in lines:\n",
        "    print(line, end='')"
      ],
      "execution_count": null,
      "outputs": [
        {
          "output_type": "stream",
          "name": "stdout",
          "text": [
            "This directory includes a few \n",
            "30\n",
            "30\n",
            "sample datasets to get you started.\n",
            "65\n",
            "\n",
            "\n",
            "This directory includes a few sample datasets to get you started.\n",
            "\n",
            "*   `california_housing_data*.csv` is California housing data from the 1990 US\n",
            "    Census; more information is available at:\n",
            "    https://developers.google.com/machine-learning/crash-course/california-housing-data-description\n",
            "\n",
            "*   `mnist_*.csv` is a small sample of the\n",
            "    [MNIST database](https://en.wikipedia.org/wiki/MNIST_database), which is\n",
            "    described at: http://yann.lecun.com/exdb/mnist/\n",
            "\n",
            "*   `anscombe.json` contains a copy of\n",
            "    [Anscombe's quartet](https://en.wikipedia.org/wiki/Anscombe%27s_quartet); it\n",
            "    was originally described in\n",
            "\n",
            "    Anscombe, F. J. (1973). 'Graphs in Statistical Analysis'. American\n",
            "    Statistician. 27 (1): 17-21. JSTOR 2682899.\n",
            "\n",
            "    and our copy was prepared by the\n",
            "    [vega_datasets library](https://github.com/altair-viz/vega_datasets/blob/4f67bdaad10f45e3549984e17e1b3088c731503d/vega_datasets/_data/anscombe.json).\n"
          ]
        }
      ]
    },
    {
      "cell_type": "markdown",
      "metadata": {
        "id": "M82uojvMp4ij"
      },
      "source": [
        "# Revision History"
      ]
    },
    {
      "cell_type": "markdown",
      "metadata": {
        "id": "AkiqEvC-qItm"
      },
      "source": [
        "Release: 1.2109.1901\n",
        "\n",
        "* Code cleanup\n"
      ]
    }
  ]
}