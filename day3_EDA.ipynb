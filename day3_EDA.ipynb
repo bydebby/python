{
 "cells": [
  {
   "cell_type": "code",
   "execution_count": 1,
   "id": "b695022f",
   "metadata": {},
   "outputs": [
    {
     "name": "stdout",
     "output_type": "stream",
     "text": [
      "Libraries used in this project:\n",
      "- Python 3.9.12 (main, Apr  4 2022, 05:22:27) [MSC v.1916 64 bit (AMD64)]\n",
      "- Numpy 1.21.5\n",
      "- Pandas 1.4.2\n",
      "- Scipy 1.7.3\n",
      "- Matplotlib 3.5.1\n",
      "- Seaborn 0.11.2\n",
      "- Scikit-Learn 1.0.2\n",
      "- Category Encoders 2.5.1.post0\n"
     ]
    }
   ],
   "source": [
    "# Read System Parameters\n",
    "import sys\n",
    "\n",
    "# Multidimensional arrays\n",
    "import numpy as np\n",
    "\n",
    "#Manipulation and Analyze Data\n",
    "import pandas as pd\n",
    "\n",
    "#Advance Mathematical Functions\n",
    "import scipy as sp\n",
    "from scipy import stats\n",
    "\n",
    "#Visualization\n",
    "import matplotlib\n",
    "import matplotlib.pyplot as plt\n",
    "import seaborn as sns\n",
    "\n",
    "#Feature Engineering and Machine Learning Algorithm\n",
    "import sklearn\n",
    "from sklearn.preprocessing import StandardScaler\n",
    "from sklearn.decomposition import PCA\n",
    "\n",
    "#Encode Data and Suppress Warnings\n",
    "import category_encoders as ce\n",
    "import warnings\n",
    "\n",
    "#Summarize software libraries used.\n",
    "print('Libraries used in this project:')\n",
    "print('- Python {}'.format(sys.version))\n",
    "print('- Numpy {}'.format(np.__version__))\n",
    "print('- Pandas {}'.format(pd.__version__))\n",
    "print('- Scipy {}'.format(sp.__version__))\n",
    "print('- Matplotlib {}'.format(matplotlib.__version__))\n",
    "print('- Seaborn {}'.format(sns.__version__))\n",
    "print('- Scikit-Learn {}'.format(sklearn.__version__))\n",
    "print('- Category Encoders {}'.format(ce.__version__))\n"
   ]
  },
  {
   "cell_type": "code",
   "execution_count": 2,
   "id": "eedb0e58",
   "metadata": {},
   "outputs": [],
   "source": [
    "user_data = pd.read_pickle(\"users_data_cleaned.pickle\")"
   ]
  },
  {
   "cell_type": "markdown",
   "id": "c29d8832",
   "metadata": {},
   "source": [
    "## Generate a box plot for age"
   ]
  },
  {
   "cell_type": "code",
   "execution_count": 3,
   "id": "207b5799",
   "metadata": {},
   "outputs": [
    {
     "data": {
      "text/plain": [
       "count    45209.000000\n",
       "mean        40.935853\n",
       "std         10.618653\n",
       "min         18.000000\n",
       "25%         33.000000\n",
       "50%         39.000000\n",
       "75%         48.000000\n",
       "max         95.000000\n",
       "Name: age, dtype: float64"
      ]
     },
     "execution_count": 3,
     "metadata": {},
     "output_type": "execute_result"
    }
   ],
   "source": [
    "user_data['age'].describe()"
   ]
  },
  {
   "cell_type": "code",
   "execution_count": 4,
   "id": "8cf2171e",
   "metadata": {},
   "outputs": [
    {
     "data": {
      "text/plain": [
       "<AxesSubplot:xlabel='age'>"
      ]
     },
     "execution_count": 4,
     "metadata": {},
     "output_type": "execute_result"
    },
    {
     "data": {
      "image/png": "[encoded data removed]",
      "text/plain": [
       "<Figure size 432x144 with 1 Axes>"
      ]
     },
     "metadata": {
      "needs_background": "light"
     },
     "output_type": "display_data"
    }
   ],
   "source": [
    "plt.figure(figsize=(6,2))\n",
    "sns.boxplot(x=user_data['age'],linewidth=0.9)"
   ]
  },
  {
   "cell_type": "code",
   "execution_count": 5,
   "id": "73beab44",
   "metadata": {},
   "outputs": [
    {
     "data": {
      "image/png": "[encoded data removed]",
      "text/plain": [
       "<Figure size 432x144 with 1 Axes>"
      ]
     },
     "metadata": {
      "needs_background": "light"
     },
     "output_type": "display_data"
    }
   ],
   "source": [
    "plt.figure(figsize=(6,2))\n",
    "sns.boxplot(x=user_data['age'],linewidth=0.9);"
   ]
  },
  {
   "cell_type": "markdown",
   "id": "42b30293",
   "metadata": {},
   "source": [
    "## Generate a violin plot for age"
   ]
  },
  {
   "cell_type": "code",
   "execution_count": 6,
   "id": "68814c5c",
   "metadata": {},
   "outputs": [
    {
     "data": {
      "image/png": "[encoded data removed]",
      "text/plain": [
       "<Figure size 432x288 with 1 Axes>"
      ]
     },
     "metadata": {
      "needs_background": "light"
     },
     "output_type": "display_data"
    }
   ],
   "source": [
    "sns.violinplot(x=user_data['age'], linewidth=0.9);"
   ]
  },
  {
   "cell_type": "code",
   "execution_count": 7,
   "id": "80ba45db",
   "metadata": {},
   "outputs": [
    {
     "data": {
      "text/plain": [
       "count    35210.000000\n",
       "mean         3.977052\n",
       "std          3.814329\n",
       "min          1.000000\n",
       "25%          2.000000\n",
       "50%          3.000000\n",
       "75%          4.000000\n",
       "max         20.000000\n",
       "Name: number_transactions, dtype: float64"
      ]
     },
     "execution_count": 7,
     "metadata": {},
     "output_type": "execute_result"
    }
   ],
   "source": [
    "user_data['number_transactions'].describe()"
   ]
  },
  {
   "cell_type": "code",
   "execution_count": 8,
   "id": "7625a1ad",
   "metadata": {},
   "outputs": [
    {
     "data": {
      "image/png": "[encoded data removed]",
      "text/plain": [
       "<Figure size 432x144 with 1 Axes>"
      ]
     },
     "metadata": {
      "needs_background": "light"
     },
     "output_type": "display_data"
    }
   ],
   "source": [
    "plt.figure(figsize=(6,2))\n",
    "sns.boxplot(x=user_data['number_transactions'], linewidth=0.9);"
   ]
  },
  {
   "cell_type": "code",
   "execution_count": 9,
   "id": "fdfd94fb",
   "metadata": {},
   "outputs": [
    {
     "data": {
      "image/png": "[encoded data removed]",
      "text/plain": [
       "<Figure size 432x288 with 1 Axes>"
      ]
     },
     "metadata": {
      "needs_background": "light"
     },
     "output_type": "display_data"
    }
   ],
   "source": [
    "sns.violinplot(x=user_data['number_transactions'], linewidth=0.9);"
   ]
  },
  {
   "cell_type": "markdown",
   "id": "5a12b42d",
   "metadata": {},
   "source": [
    "## Generate a line plot for total_amount_usd"
   ]
  },
  {
   "cell_type": "code",
   "execution_count": 10,
   "id": "a9fdd4af",
   "metadata": {},
   "outputs": [
    {
     "data": {
      "image/png": "[encoded data removed]",
      "text/plain": [
       "<Figure size 432x288 with 1 Axes>"
      ]
     },
     "metadata": {
      "needs_background": "light"
     },
     "output_type": "display_data"
    }
   ],
   "source": [
    "years = user_data['date_joined'].dt.year\n",
    "sns.lineplot(data=user_data, x=years,\n",
    "             y='total_amount_usd', estimator=np.mean);"
   ]
  },
  {
   "cell_type": "markdown",
   "id": "55644985",
   "metadata": {},
   "source": [
    "## Generate Scatter plots comparing total_amount_usd to number_transaction"
   ]
  },
  {
   "cell_type": "code",
   "execution_count": 11,
   "id": "777f709d",
   "metadata": {},
   "outputs": [
    {
     "data": {
      "image/png": "[encoded data removed]",
      "text/plain": [
       "<Figure size 432x288 with 1 Axes>"
      ]
     },
     "metadata": {
      "needs_background": "light"
     },
     "output_type": "display_data"
    }
   ],
   "source": [
    "# scatter plot perbandingan total amount usd ke jumlah transkasi\n",
    "sns.scatterplot(data=user_data, x='total_amount_usd',\n",
    "               y='number_transactions', hue='education');"
   ]
  },
  {
   "cell_type": "markdown",
   "id": "e25ffe58",
   "metadata": {},
   "source": [
    "## Generate bar charts for job"
   ]
  },
  {
   "cell_type": "code",
   "execution_count": 12,
   "id": "87f9133d",
   "metadata": {},
   "outputs": [
    {
     "data": {
      "text/plain": [
       "blue-collar      9731\n",
       "management       9457\n",
       "technician       7597\n",
       "admin.           5171\n",
       "services         4154\n",
       "retired          2264\n",
       "self-employed    1579\n",
       "entrepreneur     1487\n",
       "unemployed       1303\n",
       "housemaid        1240\n",
       "student           938\n",
       "None              288\n",
       "Name: job, dtype: int64"
      ]
     },
     "execution_count": 12,
     "metadata": {},
     "output_type": "execute_result"
    }
   ],
   "source": [
    "user_job_dist = user_data['job'].value_counts(dropna=False)\n",
    "\n",
    "user_job_dist"
   ]
  },
  {
   "cell_type": "code",
   "execution_count": 13,
   "id": "7d5a730b",
   "metadata": {},
   "outputs": [
    {
     "data": {
      "image/png": "[encoded data removed]",
      "text/plain": [
       "<Figure size 432x288 with 1 Axes>"
      ]
     },
     "metadata": {
      "needs_background": "light"
     },
     "output_type": "display_data"
    }
   ],
   "source": [
    "#vertikal bar chart\n",
    "\n",
    "user_job_dist.plot(kind='bar')\n",
    "plt.title('Distributuion job');\n",
    "plt.xlabel('job');\n",
    "plt.ylabel('jumlah');"
   ]
  },
  {
   "cell_type": "code",
   "execution_count": 14,
   "id": "03c71996",
   "metadata": {},
   "outputs": [
    {
     "data": {
      "image/png": "[encoded data removed]",
      "text/plain": [
       "<Figure size 432x288 with 1 Axes>"
      ]
     },
     "metadata": {
      "needs_background": "light"
     },
     "output_type": "display_data"
    }
   ],
   "source": [
    "#horizontal bar chart\n",
    "user_job_dist.plot(kind='barh')\n",
    "plt.title('Distributuion job');"
   ]
  },
  {
   "cell_type": "code",
   "execution_count": 15,
   "id": "65ad58f9",
   "metadata": {},
   "outputs": [
    {
     "data": {
      "text/plain": [
       "married     27212\n",
       "single      12790\n",
       "divorced     5207\n",
       "Name: marital, dtype: int64"
      ]
     },
     "execution_count": 15,
     "metadata": {},
     "output_type": "execute_result"
    }
   ],
   "source": [
    "user_marital = user_data['marital'].value_counts(dropna=False)\n",
    "user_marital"
   ]
  },
  {
   "cell_type": "code",
   "execution_count": 16,
   "id": "aa93b5b7",
   "metadata": {},
   "outputs": [
    {
     "data": {
      "image/png": "[encoded data removed]",
      "text/plain": [
       "<Figure size 432x288 with 1 Axes>"
      ]
     },
     "metadata": {
      "needs_background": "light"
     },
     "output_type": "display_data"
    }
   ],
   "source": [
    "user_marital.plot(kind='bar')\n",
    "plt.title('Marital');"
   ]
  },
  {
   "cell_type": "code",
   "execution_count": 17,
   "id": "29b189b7",
   "metadata": {},
   "outputs": [
    {
     "data": {
      "image/png": "[encoded data removed]",
      "text/plain": [
       "<Figure size 432x288 with 1 Axes>"
      ]
     },
     "metadata": {
      "needs_background": "light"
     },
     "output_type": "display_data"
    }
   ],
   "source": [
    "user_marital.plot(kind='barh')\n",
    "plt.title('Marital');"
   ]
  },
  {
   "cell_type": "code",
   "execution_count": 18,
   "id": "1255a8ab",
   "metadata": {},
   "outputs": [
    {
     "data": {
      "text/plain": [
       "secondary    23202\n",
       "tertiary     13300\n",
       "primary       6850\n",
       "None          1857\n",
       "Name: education, dtype: int64"
      ]
     },
     "execution_count": 18,
     "metadata": {},
     "output_type": "execute_result"
    }
   ],
   "source": [
    "education = user_data['education'].value_counts(dropna=False)\n",
    "education"
   ]
  },
  {
   "cell_type": "code",
   "execution_count": 19,
   "id": "30ca3b7d",
   "metadata": {},
   "outputs": [
    {
     "data": {
      "image/png": "[encoded data removed]",
      "text/plain": [
       "<Figure size 432x288 with 1 Axes>"
      ]
     },
     "metadata": {
      "needs_background": "light"
     },
     "output_type": "display_data"
    }
   ],
   "source": [
    "education.plot(kind='bar')\n",
    "plt.title('Edukasi');"
   ]
  },
  {
   "cell_type": "code",
   "execution_count": 20,
   "id": "051ea84f",
   "metadata": {},
   "outputs": [
    {
     "data": {
      "image/png": "[encoded data removed]",
      "text/plain": [
       "<Figure size 432x288 with 1 Axes>"
      ]
     },
     "metadata": {
      "needs_background": "light"
     },
     "output_type": "display_data"
    }
   ],
   "source": [
    "education.plot(kind='barh')\n",
    "plt.title('Edukasi');"
   ]
  },
  {
   "cell_type": "code",
   "execution_count": 21,
   "id": "a5baf605",
   "metadata": {},
   "outputs": [
    {
     "data": {
      "text/plain": [
       "cellular     29285\n",
       "None         13018\n",
       "telephone     2906\n",
       "Name: contact, dtype: int64"
      ]
     },
     "execution_count": 21,
     "metadata": {},
     "output_type": "execute_result"
    }
   ],
   "source": [
    "contact = user_data['contact'].value_counts(dropna=False)\n",
    "contact"
   ]
  },
  {
   "cell_type": "code",
   "execution_count": 22,
   "id": "ac94faf4",
   "metadata": {},
   "outputs": [
    {
     "data": {
      "image/png": "[encoded data removed]",
      "text/plain": [
       "<Figure size 432x288 with 1 Axes>"
      ]
     },
     "metadata": {
      "needs_background": "light"
     },
     "output_type": "display_data"
    }
   ],
   "source": [
    "contact.plot(kind='bar')\n",
    "plt.title('Kontak');"
   ]
  },
  {
   "cell_type": "code",
   "execution_count": 23,
   "id": "8c599dd8",
   "metadata": {},
   "outputs": [
    {
     "data": {
      "image/png": "[encoded data removed]",
      "text/plain": [
       "<Figure size 432x288 with 1 Axes>"
      ]
     },
     "metadata": {
      "needs_background": "light"
     },
     "output_type": "display_data"
    }
   ],
   "source": [
    "contact.plot(kind='barh')\n",
    "plt.title('Kontak');"
   ]
  },
  {
   "cell_type": "code",
   "execution_count": 24,
   "id": "86d63aa9",
   "metadata": {},
   "outputs": [
    {
     "data": {
      "text/plain": [
       "None       36957\n",
       "failure     4901\n",
       "other       1840\n",
       "success     1511\n",
       "Name: poutcome, dtype: int64"
      ]
     },
     "execution_count": 24,
     "metadata": {},
     "output_type": "execute_result"
    }
   ],
   "source": [
    "poutcome = user_data['poutcome'].value_counts(dropna=False)\n",
    "poutcome"
   ]
  },
  {
   "cell_type": "code",
   "execution_count": 25,
   "id": "18651bba",
   "metadata": {},
   "outputs": [
    {
     "data": {
      "image/png": "[encoded data removed]",
      "text/plain": [
       "<Figure size 432x288 with 1 Axes>"
      ]
     },
     "metadata": {
      "needs_background": "light"
     },
     "output_type": "display_data"
    }
   ],
   "source": [
    "poutcome.plot(kind='bar')\n",
    "plt.title('Poutcome');"
   ]
  },
  {
   "cell_type": "code",
   "execution_count": 26,
   "id": "90df1bfc",
   "metadata": {},
   "outputs": [
    {
     "data": {
      "image/png": "[encoded data removed]",
      "text/plain": [
       "<Figure size 432x288 with 1 Axes>"
      ]
     },
     "metadata": {
      "needs_background": "light"
     },
     "output_type": "display_data"
    }
   ],
   "source": [
    "poutcome.plot(kind='barh')\n",
    "plt.title('Poutcome');"
   ]
  },
  {
   "cell_type": "code",
   "execution_count": 27,
   "id": "c4063b9a",
   "metadata": {},
   "outputs": [
    {
     "data": {
      "text/plain": [
       "False    44394\n",
       "True       815\n",
       "Name: default, dtype: int64"
      ]
     },
     "execution_count": 27,
     "metadata": {},
     "output_type": "execute_result"
    }
   ],
   "source": [
    "default = user_data['default'].value_counts(dropna=False)\n",
    "default"
   ]
  },
  {
   "cell_type": "code",
   "execution_count": 28,
   "id": "98bb6644",
   "metadata": {},
   "outputs": [
    {
     "data": {
      "image/png": "[encoded data removed]",
      "text/plain": [
       "<Figure size 432x288 with 1 Axes>"
      ]
     },
     "metadata": {
      "needs_background": "light"
     },
     "output_type": "display_data"
    }
   ],
   "source": [
    "default.plot(kind='bar')\n",
    "plt.title('Default');"
   ]
  },
  {
   "cell_type": "code",
   "execution_count": 29,
   "id": "771dbc9b",
   "metadata": {},
   "outputs": [
    {
     "data": {
      "image/png": "[encoded data removed]",
      "text/plain": [
       "<Figure size 432x288 with 1 Axes>"
      ]
     },
     "metadata": {
      "needs_background": "light"
     },
     "output_type": "display_data"
    }
   ],
   "source": [
    "default.plot(kind='barh')\n",
    "plt.title('Default');"
   ]
  },
  {
   "cell_type": "code",
   "execution_count": 30,
   "id": "83aa2c83",
   "metadata": {},
   "outputs": [
    {
     "data": {
      "text/plain": [
       "mobile     27504\n",
       "desktop    12112\n",
       "tablet      5499\n",
       "None          94\n",
       "Name: device, dtype: int64"
      ]
     },
     "execution_count": 30,
     "metadata": {},
     "output_type": "execute_result"
    }
   ],
   "source": [
    "device = user_data['device'].value_counts(dropna=False)\n",
    "device"
   ]
  },
  {
   "cell_type": "code",
   "execution_count": 31,
   "id": "cb0d87e0",
   "metadata": {},
   "outputs": [
    {
     "data": {
      "image/png": "[encoded data removed]",
      "text/plain": [
       "<Figure size 432x288 with 1 Axes>"
      ]
     },
     "metadata": {
      "needs_background": "light"
     },
     "output_type": "display_data"
    }
   ],
   "source": [
    "device.plot(kind='bar')\n",
    "plt.title('Device');\n",
    "plt.xlabel('Nama Device');\n",
    "plt.xticks(rotation=30);"
   ]
  },
  {
   "cell_type": "code",
   "execution_count": 32,
   "id": "76228bd0",
   "metadata": {},
   "outputs": [
    {
     "data": {
      "image/png": "[encoded data removed]",
      "text/plain": [
       "<Figure size 432x288 with 1 Axes>"
      ]
     },
     "metadata": {
      "needs_background": "light"
     },
     "output_type": "display_data"
    }
   ],
   "source": [
    "device.plot(kind='barh')\n",
    "plt.title('Device');"
   ]
  },
  {
   "cell_type": "markdown",
   "id": "2fb386f6",
   "metadata": {},
   "source": [
    "## Generate a heatmap for the feature correlations"
   ]
  },
  {
   "cell_type": "code",
   "execution_count": 33,
   "id": "da4ada57",
   "metadata": {},
   "outputs": [
    {
     "data": {
      "text/html": [
       "<div>\n",
       "<style scoped>\n",
       "    .dataframe tbody tr th:only-of-type {\n",
       "        vertical-align: middle;\n",
       "    }\n",
       "\n",
       "    .dataframe tbody tr th {\n",
       "        vertical-align: top;\n",
       "    }\n",
       "\n",
       "    .dataframe thead th {\n",
       "        text-align: right;\n",
       "    }\n",
       "</style>\n",
       "<table border=\"1\" class=\"dataframe\">\n",
       "  <thead>\n",
       "    <tr style=\"text-align: right;\">\n",
       "      <th></th>\n",
       "      <th>number_transactions</th>\n",
       "      <th>total_amount_usd</th>\n",
       "      <th>age</th>\n",
       "      <th>default</th>\n",
       "      <th>housing</th>\n",
       "      <th>loan</th>\n",
       "      <th>duration</th>\n",
       "      <th>campaign</th>\n",
       "      <th>pdays</th>\n",
       "      <th>previous</th>\n",
       "      <th>term_deposit</th>\n",
       "    </tr>\n",
       "  </thead>\n",
       "  <tbody>\n",
       "    <tr>\n",
       "      <th>number_transactions</th>\n",
       "      <td>1.000000</td>\n",
       "      <td>-0.163409</td>\n",
       "      <td>-0.008813</td>\n",
       "      <td>0.138838</td>\n",
       "      <td>0.030429</td>\n",
       "      <td>0.075319</td>\n",
       "      <td>-0.017220</td>\n",
       "      <td>0.026431</td>\n",
       "      <td>-0.030751</td>\n",
       "      <td>-0.023046</td>\n",
       "      <td>-0.053390</td>\n",
       "    </tr>\n",
       "    <tr>\n",
       "      <th>total_amount_usd</th>\n",
       "      <td>-0.163409</td>\n",
       "      <td>1.000000</td>\n",
       "      <td>0.095839</td>\n",
       "      <td>-0.065390</td>\n",
       "      <td>-0.066857</td>\n",
       "      <td>-0.084526</td>\n",
       "      <td>0.022586</td>\n",
       "      <td>-0.017274</td>\n",
       "      <td>0.006435</td>\n",
       "      <td>0.016952</td>\n",
       "      <td>0.050785</td>\n",
       "    </tr>\n",
       "    <tr>\n",
       "      <th>age</th>\n",
       "      <td>-0.008813</td>\n",
       "      <td>0.095839</td>\n",
       "      <td>1.000000</td>\n",
       "      <td>-0.017875</td>\n",
       "      <td>-0.185552</td>\n",
       "      <td>-0.015641</td>\n",
       "      <td>-0.004645</td>\n",
       "      <td>0.004767</td>\n",
       "      <td>-0.023745</td>\n",
       "      <td>0.001297</td>\n",
       "      <td>0.025168</td>\n",
       "    </tr>\n",
       "    <tr>\n",
       "      <th>default</th>\n",
       "      <td>0.138838</td>\n",
       "      <td>-0.065390</td>\n",
       "      <td>-0.017875</td>\n",
       "      <td>1.000000</td>\n",
       "      <td>-0.006020</td>\n",
       "      <td>0.077232</td>\n",
       "      <td>-0.010017</td>\n",
       "      <td>0.016819</td>\n",
       "      <td>-0.029982</td>\n",
       "      <td>-0.018331</td>\n",
       "      <td>-0.022421</td>\n",
       "    </tr>\n",
       "    <tr>\n",
       "      <th>housing</th>\n",
       "      <td>0.030429</td>\n",
       "      <td>-0.066857</td>\n",
       "      <td>-0.185552</td>\n",
       "      <td>-0.006020</td>\n",
       "      <td>1.000000</td>\n",
       "      <td>0.041341</td>\n",
       "      <td>0.005041</td>\n",
       "      <td>-0.023583</td>\n",
       "      <td>0.124197</td>\n",
       "      <td>0.037087</td>\n",
       "      <td>-0.139161</td>\n",
       "    </tr>\n",
       "    <tr>\n",
       "      <th>loan</th>\n",
       "      <td>0.075319</td>\n",
       "      <td>-0.084526</td>\n",
       "      <td>-0.015641</td>\n",
       "      <td>0.077232</td>\n",
       "      <td>0.041341</td>\n",
       "      <td>1.000000</td>\n",
       "      <td>-0.012395</td>\n",
       "      <td>0.009972</td>\n",
       "      <td>-0.022762</td>\n",
       "      <td>-0.011048</td>\n",
       "      <td>-0.068193</td>\n",
       "    </tr>\n",
       "    <tr>\n",
       "      <th>duration</th>\n",
       "      <td>-0.017220</td>\n",
       "      <td>0.022586</td>\n",
       "      <td>-0.004645</td>\n",
       "      <td>-0.010017</td>\n",
       "      <td>0.005041</td>\n",
       "      <td>-0.012395</td>\n",
       "      <td>1.000000</td>\n",
       "      <td>-0.084551</td>\n",
       "      <td>-0.001549</td>\n",
       "      <td>0.001213</td>\n",
       "      <td>0.394549</td>\n",
       "    </tr>\n",
       "    <tr>\n",
       "      <th>campaign</th>\n",
       "      <td>0.026431</td>\n",
       "      <td>-0.017274</td>\n",
       "      <td>0.004767</td>\n",
       "      <td>0.016819</td>\n",
       "      <td>-0.023583</td>\n",
       "      <td>0.009972</td>\n",
       "      <td>-0.084551</td>\n",
       "      <td>1.000000</td>\n",
       "      <td>-0.088636</td>\n",
       "      <td>-0.032860</td>\n",
       "      <td>-0.073179</td>\n",
       "    </tr>\n",
       "    <tr>\n",
       "      <th>pdays</th>\n",
       "      <td>-0.030751</td>\n",
       "      <td>0.006435</td>\n",
       "      <td>-0.023745</td>\n",
       "      <td>-0.029982</td>\n",
       "      <td>0.124197</td>\n",
       "      <td>-0.022762</td>\n",
       "      <td>-0.001549</td>\n",
       "      <td>-0.088636</td>\n",
       "      <td>1.000000</td>\n",
       "      <td>0.454817</td>\n",
       "      <td>0.103616</td>\n",
       "    </tr>\n",
       "    <tr>\n",
       "      <th>previous</th>\n",
       "      <td>-0.023046</td>\n",
       "      <td>0.016952</td>\n",
       "      <td>0.001297</td>\n",
       "      <td>-0.018331</td>\n",
       "      <td>0.037087</td>\n",
       "      <td>-0.011048</td>\n",
       "      <td>0.001213</td>\n",
       "      <td>-0.032860</td>\n",
       "      <td>0.454817</td>\n",
       "      <td>1.000000</td>\n",
       "      <td>0.093232</td>\n",
       "    </tr>\n",
       "    <tr>\n",
       "      <th>term_deposit</th>\n",
       "      <td>-0.053390</td>\n",
       "      <td>0.050785</td>\n",
       "      <td>0.025168</td>\n",
       "      <td>-0.022421</td>\n",
       "      <td>-0.139161</td>\n",
       "      <td>-0.068193</td>\n",
       "      <td>0.394549</td>\n",
       "      <td>-0.073179</td>\n",
       "      <td>0.103616</td>\n",
       "      <td>0.093232</td>\n",
       "      <td>1.000000</td>\n",
       "    </tr>\n",
       "  </tbody>\n",
       "</table>\n",
       "</div>"
      ],
      "text/plain": [
       "                     number_transactions  total_amount_usd       age  \\\n",
       "number_transactions             1.000000         -0.163409 -0.008813   \n",
       "total_amount_usd               -0.163409          1.000000  0.095839   \n",
       "age                            -0.008813          0.095839  1.000000   \n",
       "default                         0.138838         -0.065390 -0.017875   \n",
       "housing                         0.030429         -0.066857 -0.185552   \n",
       "loan                            0.075319         -0.084526 -0.015641   \n",
       "duration                       -0.017220          0.022586 -0.004645   \n",
       "campaign                        0.026431         -0.017274  0.004767   \n",
       "pdays                          -0.030751          0.006435 -0.023745   \n",
       "previous                       -0.023046          0.016952  0.001297   \n",
       "term_deposit                   -0.053390          0.050785  0.025168   \n",
       "\n",
       "                      default   housing      loan  duration  campaign  \\\n",
       "number_transactions  0.138838  0.030429  0.075319 -0.017220  0.026431   \n",
       "total_amount_usd    -0.065390 -0.066857 -0.084526  0.022586 -0.017274   \n",
       "age                 -0.017875 -0.185552 -0.015641 -0.004645  0.004767   \n",
       "default              1.000000 -0.006020  0.077232 -0.010017  0.016819   \n",
       "housing             -0.006020  1.000000  0.041341  0.005041 -0.023583   \n",
       "loan                 0.077232  0.041341  1.000000 -0.012395  0.009972   \n",
       "duration            -0.010017  0.005041 -0.012395  1.000000 -0.084551   \n",
       "campaign             0.016819 -0.023583  0.009972 -0.084551  1.000000   \n",
       "pdays               -0.029982  0.124197 -0.022762 -0.001549 -0.088636   \n",
       "previous            -0.018331  0.037087 -0.011048  0.001213 -0.032860   \n",
       "term_deposit        -0.022421 -0.139161 -0.068193  0.394549 -0.073179   \n",
       "\n",
       "                        pdays  previous  term_deposit  \n",
       "number_transactions -0.030751 -0.023046     -0.053390  \n",
       "total_amount_usd     0.006435  0.016952      0.050785  \n",
       "age                 -0.023745  0.001297      0.025168  \n",
       "default             -0.029982 -0.018331     -0.022421  \n",
       "housing              0.124197  0.037087     -0.139161  \n",
       "loan                -0.022762 -0.011048     -0.068193  \n",
       "duration            -0.001549  0.001213      0.394549  \n",
       "campaign            -0.088636 -0.032860     -0.073179  \n",
       "pdays                1.000000  0.454817      0.103616  \n",
       "previous             0.454817  1.000000      0.093232  \n",
       "term_deposit         0.103616  0.093232      1.000000  "
      ]
     },
     "execution_count": 33,
     "metadata": {},
     "output_type": "execute_result"
    }
   ],
   "source": [
    "corr_matrix = user_data.corr()\n",
    "corr_matrix"
   ]
  },
  {
   "cell_type": "code",
   "execution_count": 34,
   "id": "f04398f1",
   "metadata": {},
   "outputs": [
    {
     "data": {
      "image/png": "[encoded data removed]",
      "text/plain": [
       "<Figure size 720x540 with 2 Axes>"
      ]
     },
     "metadata": {
      "needs_background": "light"
     },
     "output_type": "display_data"
    }
   ],
   "source": [
    "fig = plt.figure(figsize=(10,7.5))\n",
    "sns.heatmap(corr_matrix);"
   ]
  },
  {
   "cell_type": "markdown",
   "id": "cc9b3970",
   "metadata": {},
   "source": [
    "## Format the heatmap to make it easier to read"
   ]
  },
  {
   "cell_type": "code",
   "execution_count": 35,
   "id": "c1ebec38",
   "metadata": {},
   "outputs": [
    {
     "data": {
      "image/png": "[encoded data removed]",
      "text/plain": [
       "<Figure size 720x540 with 2 Axes>"
      ]
     },
     "metadata": {
      "needs_background": "light"
     },
     "output_type": "display_data"
    }
   ],
   "source": [
    "fig = plt.figure(figsize = (10,7.5))\n",
    "sns.heatmap(corr_matrix,\n",
    "           cmap='seismic',\n",
    "           linewidths=0.75,\n",
    "           linecolor='black',\n",
    "           cbar=True,\n",
    "           vmin=-1,\n",
    "           vmax=1,\n",
    "           annot=True,\n",
    "           annot_kws={'size':8, 'color':'black'})\n",
    "plt.tick_params(labelsize=10, rotation=45)\n",
    "plt.title('Correlation Plot', size=14);"
   ]
  },
  {
   "cell_type": "markdown",
   "id": "5316d980",
   "metadata": {},
   "source": [
    "## Identify Missing Value"
   ]
  },
  {
   "cell_type": "code",
   "execution_count": 36,
   "id": "3d4d0d47",
   "metadata": {},
   "outputs": [
    {
     "data": {
      "text/plain": [
       "user_id                    0\n",
       "number_transactions     9999\n",
       "total_amount_usd        9999\n",
       "age                        0\n",
       "job                      288\n",
       "marital                    0\n",
       "education               1857\n",
       "default                    0\n",
       "housing                    0\n",
       "loan                       0\n",
       "contact                13018\n",
       "duration                   0\n",
       "campaign                   0\n",
       "pdays                      0\n",
       "previous                   0\n",
       "poutcome               36957\n",
       "term_deposit               0\n",
       "date_joined               30\n",
       "device                    94\n",
       "dtype: int64"
      ]
     },
     "execution_count": 36,
     "metadata": {},
     "output_type": "execute_result"
    }
   ],
   "source": [
    "user_data.isnull().sum()"
   ]
  },
  {
   "cell_type": "markdown",
   "id": "bb496ac0",
   "metadata": {},
   "source": [
    "## Identify the percentage of missing value for each feature"
   ]
  },
  {
   "cell_type": "code",
   "execution_count": 37,
   "id": "7afaa3ed",
   "metadata": {},
   "outputs": [
    {
     "data": {
      "text/plain": [
       "user_id                0.000000\n",
       "number_transactions    0.221173\n",
       "total_amount_usd       0.221173\n",
       "age                    0.000000\n",
       "job                    0.006370\n",
       "marital                0.000000\n",
       "education              0.041076\n",
       "default                0.000000\n",
       "housing                0.000000\n",
       "loan                   0.000000\n",
       "contact                0.287952\n",
       "duration               0.000000\n",
       "campaign               0.000000\n",
       "pdays                  0.000000\n",
       "previous               0.000000\n",
       "poutcome               0.817470\n",
       "term_deposit           0.000000\n",
       "date_joined            0.000664\n",
       "device                 0.002079\n",
       "dtype: float64"
      ]
     },
     "execution_count": 37,
     "metadata": {},
     "output_type": "execute_result"
    }
   ],
   "source": [
    "percent_missing=user_data.isnull().mean()\n",
    "percent_missing"
   ]
  },
  {
   "cell_type": "markdown",
   "id": "d95e5801",
   "metadata": {},
   "source": [
    "## Generate a Missing value report"
   ]
  },
  {
   "cell_type": "code",
   "execution_count": 38,
   "id": "97cb38ca",
   "metadata": {},
   "outputs": [],
   "source": [
    "def missing_value_pct_df(data):\n",
    "    \"\"\"Create a DataFrame to summarize missing value\"\"\"\n",
    "    \n",
    "    percent_missing = data.isnull().mean()\n",
    "    missing_value_df = pd.DataFrame(percent_missing).reset_index()\n",
    "    \n",
    "    missing_value_df = missing_value_df.rename(columns={'index':'column_name',\n",
    "                                                       0: 'percent_missing'})\n",
    "    \n",
    "    # Multiply by 100 and round to 2 decimal places\n",
    "    missing_value_df['percent_missing'] = missing_value_df['percent_missing'].apply(lambda x: round(x * 100, 2))\n",
    "    \n",
    "    missing_value_df = missing_value_df.sort_values(by = ['percent_missing'], ascending=False)\n",
    "    return missing_value_df"
   ]
  },
  {
   "cell_type": "code",
   "execution_count": 39,
   "id": "408dbe80",
   "metadata": {},
   "outputs": [
    {
     "data": {
      "text/html": [
       "<div>\n",
       "<style scoped>\n",
       "    .dataframe tbody tr th:only-of-type {\n",
       "        vertical-align: middle;\n",
       "    }\n",
       "\n",
       "    .dataframe tbody tr th {\n",
       "        vertical-align: top;\n",
       "    }\n",
       "\n",
       "    .dataframe thead th {\n",
       "        text-align: right;\n",
       "    }\n",
       "</style>\n",
       "<table border=\"1\" class=\"dataframe\">\n",
       "  <thead>\n",
       "    <tr style=\"text-align: right;\">\n",
       "      <th></th>\n",
       "      <th>column_name</th>\n",
       "      <th>percent_missing</th>\n",
       "    </tr>\n",
       "  </thead>\n",
       "  <tbody>\n",
       "    <tr>\n",
       "      <th>15</th>\n",
       "      <td>poutcome</td>\n",
       "      <td>81.75</td>\n",
       "    </tr>\n",
       "    <tr>\n",
       "      <th>10</th>\n",
       "      <td>contact</td>\n",
       "      <td>28.80</td>\n",
       "    </tr>\n",
       "    <tr>\n",
       "      <th>2</th>\n",
       "      <td>total_amount_usd</td>\n",
       "      <td>22.12</td>\n",
       "    </tr>\n",
       "    <tr>\n",
       "      <th>1</th>\n",
       "      <td>number_transactions</td>\n",
       "      <td>22.12</td>\n",
       "    </tr>\n",
       "    <tr>\n",
       "      <th>6</th>\n",
       "      <td>education</td>\n",
       "      <td>4.11</td>\n",
       "    </tr>\n",
       "    <tr>\n",
       "      <th>4</th>\n",
       "      <td>job</td>\n",
       "      <td>0.64</td>\n",
       "    </tr>\n",
       "    <tr>\n",
       "      <th>18</th>\n",
       "      <td>device</td>\n",
       "      <td>0.21</td>\n",
       "    </tr>\n",
       "    <tr>\n",
       "      <th>17</th>\n",
       "      <td>date_joined</td>\n",
       "      <td>0.07</td>\n",
       "    </tr>\n",
       "    <tr>\n",
       "      <th>12</th>\n",
       "      <td>campaign</td>\n",
       "      <td>0.00</td>\n",
       "    </tr>\n",
       "    <tr>\n",
       "      <th>16</th>\n",
       "      <td>term_deposit</td>\n",
       "      <td>0.00</td>\n",
       "    </tr>\n",
       "    <tr>\n",
       "      <th>14</th>\n",
       "      <td>previous</td>\n",
       "      <td>0.00</td>\n",
       "    </tr>\n",
       "    <tr>\n",
       "      <th>13</th>\n",
       "      <td>pdays</td>\n",
       "      <td>0.00</td>\n",
       "    </tr>\n",
       "    <tr>\n",
       "      <th>0</th>\n",
       "      <td>user_id</td>\n",
       "      <td>0.00</td>\n",
       "    </tr>\n",
       "    <tr>\n",
       "      <th>11</th>\n",
       "      <td>duration</td>\n",
       "      <td>0.00</td>\n",
       "    </tr>\n",
       "    <tr>\n",
       "      <th>8</th>\n",
       "      <td>housing</td>\n",
       "      <td>0.00</td>\n",
       "    </tr>\n",
       "    <tr>\n",
       "      <th>7</th>\n",
       "      <td>default</td>\n",
       "      <td>0.00</td>\n",
       "    </tr>\n",
       "    <tr>\n",
       "      <th>5</th>\n",
       "      <td>marital</td>\n",
       "      <td>0.00</td>\n",
       "    </tr>\n",
       "    <tr>\n",
       "      <th>3</th>\n",
       "      <td>age</td>\n",
       "      <td>0.00</td>\n",
       "    </tr>\n",
       "    <tr>\n",
       "      <th>9</th>\n",
       "      <td>loan</td>\n",
       "      <td>0.00</td>\n",
       "    </tr>\n",
       "  </tbody>\n",
       "</table>\n",
       "</div>"
      ],
      "text/plain": [
       "            column_name  percent_missing\n",
       "15             poutcome            81.75\n",
       "10              contact            28.80\n",
       "2      total_amount_usd            22.12\n",
       "1   number_transactions            22.12\n",
       "6             education             4.11\n",
       "4                   job             0.64\n",
       "18               device             0.21\n",
       "17          date_joined             0.07\n",
       "12             campaign             0.00\n",
       "16         term_deposit             0.00\n",
       "14             previous             0.00\n",
       "13                pdays             0.00\n",
       "0               user_id             0.00\n",
       "11             duration             0.00\n",
       "8               housing             0.00\n",
       "7               default             0.00\n",
       "5               marital             0.00\n",
       "3                   age             0.00\n",
       "9                  loan             0.00"
      ]
     },
     "execution_count": 39,
     "metadata": {},
     "output_type": "execute_result"
    }
   ],
   "source": [
    "missing_value_df = missing_value_pct_df(user_data)\n",
    "missing_value_df"
   ]
  },
  {
   "cell_type": "markdown",
   "id": "56bbfad3",
   "metadata": {},
   "source": [
    "## Remove features with a high percentage of missing values"
   ]
  },
  {
   "cell_type": "code",
   "execution_count": 40,
   "id": "5c6e726e",
   "metadata": {},
   "outputs": [
    {
     "name": "stdout",
     "output_type": "stream",
     "text": [
      "Number of features to drop: 1\n",
      "Features with missing values greater than 80%: ['poutcome']\n"
     ]
    }
   ],
   "source": [
    "# threshold above which to drop feature\n",
    "\n",
    "threshold = 80\n",
    "\n",
    "cols_to_drop = list(missing_value_df[missing_value_df['percent_missing'] \n",
    "                                     > threshold]['column_name'])\n",
    "print('Number of features to drop:',\n",
    "     missing_value_df[missing_value_df['percent_missing']>threshold].shape[0])\n",
    "\n",
    "print(f'Features with missing values greater than {threshold}%:', cols_to_drop)\n"
   ]
  },
  {
   "cell_type": "code",
   "execution_count": 41,
   "id": "93128a72",
   "metadata": {},
   "outputs": [],
   "source": [
    "#axis = 1 adalah kolom\n",
    "#axis = 0 adalah baris\n",
    "user_data_cleaned = user_data.drop(cols_to_drop, axis=1)"
   ]
  },
  {
   "cell_type": "code",
   "execution_count": 42,
   "id": "97c859a6",
   "metadata": {},
   "outputs": [
    {
     "name": "stdout",
     "output_type": "stream",
     "text": [
      "Number of features with missing value: 7\n"
     ]
    }
   ],
   "source": [
    "#confirm feature was dropped\n",
    "\n",
    "missing_value_df = missing_value_pct_df(user_data_cleaned)\n",
    "\n",
    "missing_columns = list(missing_value_df[missing_value_df['percent_missing'] > 0]['column_name'])\n",
    "\n",
    "print('Number of features with missing value:', len(missing_columns))"
   ]
  },
  {
   "cell_type": "code",
   "execution_count": 43,
   "id": "e1924e0f",
   "metadata": {},
   "outputs": [
    {
     "name": "stdout",
     "output_type": "stream",
     "text": [
      "['contact', 'total_amount_usd', 'number_transactions', 'education', 'job', 'device', 'date_joined']\n"
     ]
    }
   ],
   "source": [
    "print (missing_columns);"
   ]
  },
  {
   "cell_type": "markdown",
   "id": "578dd5e8",
   "metadata": {},
   "source": [
    "## Identify numerical data with missing values"
   ]
  },
  {
   "cell_type": "code",
   "execution_count": 44,
   "id": "fcf1af85",
   "metadata": {},
   "outputs": [
    {
     "name": "stdout",
     "output_type": "stream",
     "text": [
      "Numerical features with missing values: ['number_transactions', 'total_amount_usd']\n"
     ]
    }
   ],
   "source": [
    "dtypes = ['int64','float64']\n",
    "\n",
    "numerical_columns = list(user_data_cleaned.select_dtypes(dtypes).columns)\n",
    "\n",
    "print('Numerical features with missing values:', \n",
    "     list(set(numerical_columns).intersection(missing_columns)))"
   ]
  },
  {
   "cell_type": "code",
   "execution_count": 45,
   "id": "899b5d08",
   "metadata": {},
   "outputs": [
    {
     "name": "stdout",
     "output_type": "stream",
     "text": [
      "<class 'pandas.core.frame.DataFrame'>\n",
      "Int64Index: 45209 entries, 0 to 45215\n",
      "Data columns (total 19 columns):\n",
      " #   Column               Non-Null Count  Dtype         \n",
      "---  ------               --------------  -----         \n",
      " 0   user_id              45209 non-null  object        \n",
      " 1   number_transactions  35210 non-null  float64       \n",
      " 2   total_amount_usd     35210 non-null  float64       \n",
      " 3   age                  45209 non-null  int64         \n",
      " 4   job                  44921 non-null  object        \n",
      " 5   marital              45209 non-null  object        \n",
      " 6   education            43352 non-null  object        \n",
      " 7   default              45209 non-null  bool          \n",
      " 8   housing              45209 non-null  bool          \n",
      " 9   loan                 45209 non-null  bool          \n",
      " 10  contact              32191 non-null  object        \n",
      " 11  duration             45209 non-null  int64         \n",
      " 12  campaign             45209 non-null  int64         \n",
      " 13  pdays                45209 non-null  int64         \n",
      " 14  previous             45209 non-null  int64         \n",
      " 15  poutcome             8252 non-null   object        \n",
      " 16  term_deposit         45209 non-null  bool          \n",
      " 17  date_joined          45179 non-null  datetime64[ns]\n",
      " 18  device               45115 non-null  object        \n",
      "dtypes: bool(4), datetime64[ns](1), float64(2), int64(5), object(7)\n",
      "memory usage: 5.7+ MB\n"
     ]
    }
   ],
   "source": [
    "user_data.info()"
   ]
  },
  {
   "cell_type": "markdown",
   "id": "a1e63bf9",
   "metadata": {},
   "source": [
    "## Impute missing data values for total_amount_usd"
   ]
  },
  {
   "cell_type": "code",
   "execution_count": 46,
   "id": "60e5170c",
   "metadata": {},
   "outputs": [
    {
     "data": {
      "text/plain": [
       "34115    8838c14a-6bf0-4492-be41-7d1cecfb6eb0\n",
       "Name: user_id, dtype: object"
      ]
     },
     "execution_count": 46,
     "metadata": {},
     "output_type": "execute_result"
    }
   ],
   "source": [
    "#find a sample user with missing value\n",
    "\n",
    "sample_user = user_data_cleaned[user_data_cleaned['total_amount_usd'].isnull()].sample(1).user_id\n",
    "\n",
    "sample_user"
   ]
  },
  {
   "cell_type": "code",
   "execution_count": 47,
   "id": "7925826d",
   "metadata": {},
   "outputs": [
    {
     "name": "stdout",
     "output_type": "stream",
     "text": [
      "<class 'pandas.core.frame.DataFrame'>\n",
      "Int64Index: 45209 entries, 0 to 45215\n",
      "Data columns (total 18 columns):\n",
      " #   Column               Non-Null Count  Dtype         \n",
      "---  ------               --------------  -----         \n",
      " 0   user_id              45209 non-null  object        \n",
      " 1   number_transactions  35210 non-null  float64       \n",
      " 2   total_amount_usd     35210 non-null  float64       \n",
      " 3   age                  45209 non-null  int64         \n",
      " 4   job                  44921 non-null  object        \n",
      " 5   marital              45209 non-null  object        \n",
      " 6   education            43352 non-null  object        \n",
      " 7   default              45209 non-null  bool          \n",
      " 8   housing              45209 non-null  bool          \n",
      " 9   loan                 45209 non-null  bool          \n",
      " 10  contact              32191 non-null  object        \n",
      " 11  duration             45209 non-null  int64         \n",
      " 12  campaign             45209 non-null  int64         \n",
      " 13  pdays                45209 non-null  int64         \n",
      " 14  previous             45209 non-null  int64         \n",
      " 15  term_deposit         45209 non-null  bool          \n",
      " 16  date_joined          45179 non-null  datetime64[ns]\n",
      " 17  device               45115 non-null  object        \n",
      "dtypes: bool(4), datetime64[ns](1), float64(2), int64(5), object(6)\n",
      "memory usage: 5.3+ MB\n"
     ]
    }
   ],
   "source": [
    "user_data_cleaned.info()"
   ]
  },
  {
   "cell_type": "code",
   "execution_count": 48,
   "id": "0e46fd35",
   "metadata": {},
   "outputs": [
    {
     "name": "stdout",
     "output_type": "stream",
     "text": [
      "Mean total_amount_usd: 1369.42\n"
     ]
    }
   ],
   "source": [
    "# print mean of total_amount_usd\n",
    "\n",
    "print('Mean total_amount_usd:',round(user_data_cleaned['total_amount_usd'].mean(),2))\n",
    "\n",
    "# impute missing values for total_amount_usd with mean\n",
    "\n",
    "user_data_cleaned['total_amount_usd'].fillna(round(user_data_cleaned['total_amount_usd'].mean(),2),inplace = True)"
   ]
  },
  {
   "cell_type": "code",
   "execution_count": 49,
   "id": "6708d9e4",
   "metadata": {},
   "outputs": [
    {
     "data": {
      "text/plain": [
       "34115    1369.42\n",
       "Name: total_amount_usd, dtype: float64"
      ]
     },
     "execution_count": 49,
     "metadata": {},
     "output_type": "execute_result"
    }
   ],
   "source": [
    "user_data_cleaned[user_data_cleaned.user_id.isin(sample_user)]['total_amount_usd']"
   ]
  },
  {
   "cell_type": "markdown",
   "id": "4dbeaa64",
   "metadata": {},
   "source": [
    "## Replace missing values for number_transactions with 0"
   ]
  },
  {
   "cell_type": "code",
   "execution_count": 50,
   "id": "be2f1fc4",
   "metadata": {},
   "outputs": [],
   "source": [
    "user_data_cleaned['number_transactions'].fillna(0,inplace=True)"
   ]
  },
  {
   "cell_type": "code",
   "execution_count": 51,
   "id": "4e825ae0",
   "metadata": {},
   "outputs": [
    {
     "data": {
      "text/plain": [
       "34115    0.0\n",
       "Name: number_transactions, dtype: float64"
      ]
     },
     "execution_count": 51,
     "metadata": {},
     "output_type": "execute_result"
    }
   ],
   "source": [
    "user_data_cleaned[user_data_cleaned.user_id.isin(sample_user)]['number_transactions']"
   ]
  },
  {
   "cell_type": "code",
   "execution_count": 52,
   "id": "eff74812",
   "metadata": {},
   "outputs": [
    {
     "data": {
      "text/html": [
       "<div>\n",
       "<style scoped>\n",
       "    .dataframe tbody tr th:only-of-type {\n",
       "        vertical-align: middle;\n",
       "    }\n",
       "\n",
       "    .dataframe tbody tr th {\n",
       "        vertical-align: top;\n",
       "    }\n",
       "\n",
       "    .dataframe thead th {\n",
       "        text-align: right;\n",
       "    }\n",
       "</style>\n",
       "<table border=\"1\" class=\"dataframe\">\n",
       "  <thead>\n",
       "    <tr style=\"text-align: right;\">\n",
       "      <th></th>\n",
       "      <th>user_id</th>\n",
       "      <th>number_transactions</th>\n",
       "      <th>total_amount_usd</th>\n",
       "      <th>age</th>\n",
       "      <th>job</th>\n",
       "      <th>marital</th>\n",
       "      <th>education</th>\n",
       "      <th>default</th>\n",
       "      <th>housing</th>\n",
       "      <th>loan</th>\n",
       "      <th>contact</th>\n",
       "      <th>duration</th>\n",
       "      <th>campaign</th>\n",
       "      <th>pdays</th>\n",
       "      <th>previous</th>\n",
       "      <th>term_deposit</th>\n",
       "      <th>date_joined</th>\n",
       "      <th>device</th>\n",
       "    </tr>\n",
       "  </thead>\n",
       "  <tbody>\n",
       "    <tr>\n",
       "      <th>0</th>\n",
       "      <td>9231c446-cb16-4b2b-a7f7-ddfc8b25aaf6</td>\n",
       "      <td>3.0</td>\n",
       "      <td>2143.00</td>\n",
       "      <td>58</td>\n",
       "      <td>management</td>\n",
       "      <td>married</td>\n",
       "      <td>tertiary</td>\n",
       "      <td>False</td>\n",
       "      <td>True</td>\n",
       "      <td>False</td>\n",
       "      <td>None</td>\n",
       "      <td>261</td>\n",
       "      <td>1</td>\n",
       "      <td>-1</td>\n",
       "      <td>0</td>\n",
       "      <td>False</td>\n",
       "      <td>1998-08-23</td>\n",
       "      <td>mobile</td>\n",
       "    </tr>\n",
       "    <tr>\n",
       "      <th>1</th>\n",
       "      <td>bb92765a-08de-4963-b432-496524b39157</td>\n",
       "      <td>0.0</td>\n",
       "      <td>1369.42</td>\n",
       "      <td>44</td>\n",
       "      <td>technician</td>\n",
       "      <td>single</td>\n",
       "      <td>secondary</td>\n",
       "      <td>False</td>\n",
       "      <td>True</td>\n",
       "      <td>False</td>\n",
       "      <td>None</td>\n",
       "      <td>151</td>\n",
       "      <td>1</td>\n",
       "      <td>-1</td>\n",
       "      <td>0</td>\n",
       "      <td>False</td>\n",
       "      <td>2008-07-15</td>\n",
       "      <td>desktop</td>\n",
       "    </tr>\n",
       "    <tr>\n",
       "      <th>2</th>\n",
       "      <td>573de577-49ef-42b9-83da-d3cfb817b5c1</td>\n",
       "      <td>2.0</td>\n",
       "      <td>2.00</td>\n",
       "      <td>33</td>\n",
       "      <td>entrepreneur</td>\n",
       "      <td>married</td>\n",
       "      <td>secondary</td>\n",
       "      <td>False</td>\n",
       "      <td>True</td>\n",
       "      <td>True</td>\n",
       "      <td>None</td>\n",
       "      <td>76</td>\n",
       "      <td>1</td>\n",
       "      <td>-1</td>\n",
       "      <td>0</td>\n",
       "      <td>False</td>\n",
       "      <td>2002-06-04</td>\n",
       "      <td>mobile</td>\n",
       "    </tr>\n",
       "    <tr>\n",
       "      <th>3</th>\n",
       "      <td>d6b66b9d-7c8f-4257-a682-e136f640b7e3</td>\n",
       "      <td>0.0</td>\n",
       "      <td>1369.42</td>\n",
       "      <td>47</td>\n",
       "      <td>blue-collar</td>\n",
       "      <td>married</td>\n",
       "      <td>None</td>\n",
       "      <td>False</td>\n",
       "      <td>True</td>\n",
       "      <td>False</td>\n",
       "      <td>None</td>\n",
       "      <td>92</td>\n",
       "      <td>1</td>\n",
       "      <td>-1</td>\n",
       "      <td>0</td>\n",
       "      <td>False</td>\n",
       "      <td>1995-06-29</td>\n",
       "      <td>tablet</td>\n",
       "    </tr>\n",
       "    <tr>\n",
       "      <th>4</th>\n",
       "      <td>fade0b20-7594-4d9a-84cd-c02f79b1b526</td>\n",
       "      <td>1.0</td>\n",
       "      <td>1.00</td>\n",
       "      <td>33</td>\n",
       "      <td>None</td>\n",
       "      <td>single</td>\n",
       "      <td>None</td>\n",
       "      <td>False</td>\n",
       "      <td>False</td>\n",
       "      <td>False</td>\n",
       "      <td>None</td>\n",
       "      <td>198</td>\n",
       "      <td>1</td>\n",
       "      <td>-1</td>\n",
       "      <td>0</td>\n",
       "      <td>False</td>\n",
       "      <td>1995-08-01</td>\n",
       "      <td>mobile</td>\n",
       "    </tr>\n",
       "    <tr>\n",
       "      <th>...</th>\n",
       "      <td>...</td>\n",
       "      <td>...</td>\n",
       "      <td>...</td>\n",
       "      <td>...</td>\n",
       "      <td>...</td>\n",
       "      <td>...</td>\n",
       "      <td>...</td>\n",
       "      <td>...</td>\n",
       "      <td>...</td>\n",
       "      <td>...</td>\n",
       "      <td>...</td>\n",
       "      <td>...</td>\n",
       "      <td>...</td>\n",
       "      <td>...</td>\n",
       "      <td>...</td>\n",
       "      <td>...</td>\n",
       "      <td>...</td>\n",
       "      <td>...</td>\n",
       "    </tr>\n",
       "    <tr>\n",
       "      <th>45211</th>\n",
       "      <td>a218c1d6-880a-4431-a314-a1bd3dc36b21</td>\n",
       "      <td>2.0</td>\n",
       "      <td>825.00</td>\n",
       "      <td>51</td>\n",
       "      <td>technician</td>\n",
       "      <td>married</td>\n",
       "      <td>tertiary</td>\n",
       "      <td>False</td>\n",
       "      <td>False</td>\n",
       "      <td>False</td>\n",
       "      <td>cellular</td>\n",
       "      <td>977</td>\n",
       "      <td>3</td>\n",
       "      <td>-1</td>\n",
       "      <td>0</td>\n",
       "      <td>True</td>\n",
       "      <td>2002-12-28</td>\n",
       "      <td>desktop</td>\n",
       "    </tr>\n",
       "    <tr>\n",
       "      <th>45212</th>\n",
       "      <td>6a6bf402-9416-4e71-97c6-727e8298a3a5</td>\n",
       "      <td>4.0</td>\n",
       "      <td>1729.00</td>\n",
       "      <td>71</td>\n",
       "      <td>retired</td>\n",
       "      <td>divorced</td>\n",
       "      <td>primary</td>\n",
       "      <td>False</td>\n",
       "      <td>False</td>\n",
       "      <td>False</td>\n",
       "      <td>cellular</td>\n",
       "      <td>456</td>\n",
       "      <td>2</td>\n",
       "      <td>-1</td>\n",
       "      <td>0</td>\n",
       "      <td>True</td>\n",
       "      <td>2010-11-18</td>\n",
       "      <td>desktop</td>\n",
       "    </tr>\n",
       "    <tr>\n",
       "      <th>45213</th>\n",
       "      <td>be32ba96-b178-4b54-b32a-f75b714793df</td>\n",
       "      <td>2.0</td>\n",
       "      <td>5715.00</td>\n",
       "      <td>72</td>\n",
       "      <td>retired</td>\n",
       "      <td>married</td>\n",
       "      <td>secondary</td>\n",
       "      <td>False</td>\n",
       "      <td>False</td>\n",
       "      <td>False</td>\n",
       "      <td>cellular</td>\n",
       "      <td>1127</td>\n",
       "      <td>5</td>\n",
       "      <td>184</td>\n",
       "      <td>3</td>\n",
       "      <td>True</td>\n",
       "      <td>1996-06-18</td>\n",
       "      <td>mobile</td>\n",
       "    </tr>\n",
       "    <tr>\n",
       "      <th>45214</th>\n",
       "      <td>44623a48-4e9b-48fd-b155-a17d1c06a754</td>\n",
       "      <td>0.0</td>\n",
       "      <td>1369.42</td>\n",
       "      <td>57</td>\n",
       "      <td>blue-collar</td>\n",
       "      <td>married</td>\n",
       "      <td>secondary</td>\n",
       "      <td>False</td>\n",
       "      <td>False</td>\n",
       "      <td>False</td>\n",
       "      <td>telephone</td>\n",
       "      <td>508</td>\n",
       "      <td>4</td>\n",
       "      <td>-1</td>\n",
       "      <td>0</td>\n",
       "      <td>False</td>\n",
       "      <td>1996-09-14</td>\n",
       "      <td>desktop</td>\n",
       "    </tr>\n",
       "    <tr>\n",
       "      <th>45215</th>\n",
       "      <td>5905741c-3f30-416f-8ee5-71abad035de6</td>\n",
       "      <td>3.0</td>\n",
       "      <td>2971.00</td>\n",
       "      <td>37</td>\n",
       "      <td>entrepreneur</td>\n",
       "      <td>married</td>\n",
       "      <td>secondary</td>\n",
       "      <td>False</td>\n",
       "      <td>False</td>\n",
       "      <td>False</td>\n",
       "      <td>cellular</td>\n",
       "      <td>361</td>\n",
       "      <td>2</td>\n",
       "      <td>188</td>\n",
       "      <td>11</td>\n",
       "      <td>False</td>\n",
       "      <td>1994-04-28</td>\n",
       "      <td>mobile</td>\n",
       "    </tr>\n",
       "  </tbody>\n",
       "</table>\n",
       "<p>45209 rows × 18 columns</p>\n",
       "</div>"
      ],
      "text/plain": [
       "                                    user_id  number_transactions  \\\n",
       "0      9231c446-cb16-4b2b-a7f7-ddfc8b25aaf6                  3.0   \n",
       "1      bb92765a-08de-4963-b432-496524b39157                  0.0   \n",
       "2      573de577-49ef-42b9-83da-d3cfb817b5c1                  2.0   \n",
       "3      d6b66b9d-7c8f-4257-a682-e136f640b7e3                  0.0   \n",
       "4      fade0b20-7594-4d9a-84cd-c02f79b1b526                  1.0   \n",
       "...                                     ...                  ...   \n",
       "45211  a218c1d6-880a-4431-a314-a1bd3dc36b21                  2.0   \n",
       "45212  6a6bf402-9416-4e71-97c6-727e8298a3a5                  4.0   \n",
       "45213  be32ba96-b178-4b54-b32a-f75b714793df                  2.0   \n",
       "45214  44623a48-4e9b-48fd-b155-a17d1c06a754                  0.0   \n",
       "45215  5905741c-3f30-416f-8ee5-71abad035de6                  3.0   \n",
       "\n",
       "       total_amount_usd  age           job   marital  education  default  \\\n",
       "0               2143.00   58    management   married   tertiary    False   \n",
       "1               1369.42   44    technician    single  secondary    False   \n",
       "2                  2.00   33  entrepreneur   married  secondary    False   \n",
       "3               1369.42   47   blue-collar   married       None    False   \n",
       "4                  1.00   33          None    single       None    False   \n",
       "...                 ...  ...           ...       ...        ...      ...   \n",
       "45211            825.00   51    technician   married   tertiary    False   \n",
       "45212           1729.00   71       retired  divorced    primary    False   \n",
       "45213           5715.00   72       retired   married  secondary    False   \n",
       "45214           1369.42   57   blue-collar   married  secondary    False   \n",
       "45215           2971.00   37  entrepreneur   married  secondary    False   \n",
       "\n",
       "       housing   loan    contact  duration  campaign  pdays  previous  \\\n",
       "0         True  False       None       261         1     -1         0   \n",
       "1         True  False       None       151         1     -1         0   \n",
       "2         True   True       None        76         1     -1         0   \n",
       "3         True  False       None        92         1     -1         0   \n",
       "4        False  False       None       198         1     -1         0   \n",
       "...        ...    ...        ...       ...       ...    ...       ...   \n",
       "45211    False  False   cellular       977         3     -1         0   \n",
       "45212    False  False   cellular       456         2     -1         0   \n",
       "45213    False  False   cellular      1127         5    184         3   \n",
       "45214    False  False  telephone       508         4     -1         0   \n",
       "45215    False  False   cellular       361         2    188        11   \n",
       "\n",
       "       term_deposit date_joined   device  \n",
       "0             False  1998-08-23   mobile  \n",
       "1             False  2008-07-15  desktop  \n",
       "2             False  2002-06-04   mobile  \n",
       "3             False  1995-06-29   tablet  \n",
       "4             False  1995-08-01   mobile  \n",
       "...             ...         ...      ...  \n",
       "45211          True  2002-12-28  desktop  \n",
       "45212          True  2010-11-18  desktop  \n",
       "45213          True  1996-06-18   mobile  \n",
       "45214         False  1996-09-14  desktop  \n",
       "45215         False  1994-04-28   mobile  \n",
       "\n",
       "[45209 rows x 18 columns]"
      ]
     },
     "execution_count": 52,
     "metadata": {},
     "output_type": "execute_result"
    }
   ],
   "source": [
    "user_data_cleaned"
   ]
  },
  {
   "cell_type": "markdown",
   "id": "79d995b9",
   "metadata": {},
   "source": [
    "## Identify categorical data with missing values"
   ]
  },
  {
   "cell_type": "code",
   "execution_count": 53,
   "id": "664a3582",
   "metadata": {},
   "outputs": [
    {
     "name": "stdout",
     "output_type": "stream",
     "text": [
      "Categorical features with missing values: ['education', 'device', 'job', 'contact']\n"
     ]
    }
   ],
   "source": [
    "categorical_columns = list(user_data_cleaned.select_dtypes(['object']).columns)\n",
    "\n",
    "print('Categorical features with missing values:',\n",
    "     list(set(categorical_columns).intersection(missing_columns)))"
   ]
  },
  {
   "cell_type": "code",
   "execution_count": 54,
   "id": "689cc25e",
   "metadata": {},
   "outputs": [
    {
     "data": {
      "text/plain": [
       "['user_id', 'job', 'marital', 'education', 'contact', 'device']"
      ]
     },
     "execution_count": 54,
     "metadata": {},
     "output_type": "execute_result"
    }
   ],
   "source": [
    "categorical_columns"
   ]
  },
  {
   "cell_type": "markdown",
   "id": "cec9e0ea",
   "metadata": {},
   "source": [
    "## Replace categorical missing values with 'Unknown'"
   ]
  },
  {
   "cell_type": "code",
   "execution_count": 56,
   "id": "f68cea57",
   "metadata": {},
   "outputs": [],
   "source": [
    "#kategori=['device', 'contact', 'job', 'education']\n",
    "#user_data_cleaned.kategori.fillna('Unknown',inplace = True)"
   ]
  },
  {
   "cell_type": "code",
   "execution_count": 57,
   "id": "4b493201",
   "metadata": {},
   "outputs": [],
   "source": [
    "user_data_cleaned.device.fillna('Unknown',inplace = True)\n",
    "user_data_cleaned.contact.fillna('Unknown',inplace = True)\n",
    "user_data_cleaned.job.fillna('Unknown',inplace = True)\n",
    "user_data_cleaned.education.fillna('Unknown',inplace = True)"
   ]
  },
  {
   "cell_type": "code",
   "execution_count": 58,
   "id": "8ca56dfe",
   "metadata": {},
   "outputs": [
    {
     "data": {
      "text/plain": [
       "mobile     27504\n",
       "desktop    12112\n",
       "tablet      5499\n",
       "Unknown       94\n",
       "Name: device, dtype: int64"
      ]
     },
     "execution_count": 58,
     "metadata": {},
     "output_type": "execute_result"
    }
   ],
   "source": [
    "user_data_cleaned.device.value_counts()"
   ]
  },
  {
   "cell_type": "markdown",
   "id": "a3a4d0e9",
   "metadata": {},
   "source": [
    "## Check if there are any other missing values"
   ]
  },
  {
   "cell_type": "code",
   "execution_count": 59,
   "id": "ffd6672a",
   "metadata": {},
   "outputs": [
    {
     "name": "stdout",
     "output_type": "stream",
     "text": [
      "Number of features with missing values: 1\n",
      "Features with missing values ['date_joined']\n"
     ]
    }
   ],
   "source": [
    "missing_value_df = missing_value_pct_df(user_data_cleaned)\n",
    "missing_columns = list(missing_value_df[missing_value_df['percent_missing']\n",
    "                                        >0]['column_name'])\n",
    "\n",
    "print('Number of features with missing values:', len(missing_columns))\n",
    "print('Features with missing values', missing_columns)"
   ]
  },
  {
   "cell_type": "markdown",
   "id": "2ad1c4d2",
   "metadata": {},
   "source": [
    "## Remove all rows where date_joined is missing"
   ]
  },
  {
   "cell_type": "code",
   "execution_count": 67,
   "id": "72441f8e",
   "metadata": {},
   "outputs": [
    {
     "name": "stdout",
     "output_type": "stream",
     "text": [
      "Number of users with corrupted data: 30\n"
     ]
    }
   ],
   "source": [
    "print('Number of users with corrupted data:',\n",
    "     user_data_cleaned[user_data_cleaned['date_joined'].isnull()].shape[0])"
   ]
  },
  {
   "cell_type": "code",
   "execution_count": 88,
   "id": "77167b17",
   "metadata": {},
   "outputs": [],
   "source": [
    "# Remove corrupted data\n",
    "\n",
    "users_data_cleaned = user_data_cleaned[~user_data_cleaned['date_joined'].isnull()]"
   ]
  },
  {
   "cell_type": "code",
   "execution_count": 80,
   "id": "43a78232",
   "metadata": {},
   "outputs": [
    {
     "name": "stdout",
     "output_type": "stream",
     "text": [
      "Number of users with corrupted data: 30\n"
     ]
    }
   ],
   "source": [
    "# Check to see if any corrupted rows remain\n",
    "\n",
    "print('Number of users with corrupted data:',\n",
    "     user_data_cleaned[user_data_cleaned['date_joined'].isnull()].shape[0])"
   ]
  },
  {
   "cell_type": "markdown",
   "id": "6592f942",
   "metadata": {},
   "source": [
    "## Perform one last check for missing values"
   ]
  },
  {
   "cell_type": "code",
   "execution_count": 89,
   "id": "7e6f2d8b",
   "metadata": {},
   "outputs": [
    {
     "name": "stdout",
     "output_type": "stream",
     "text": [
      "Number of features with missing values: 0\n"
     ]
    }
   ],
   "source": [
    "missing_value_df = missing_value_pct_df(users_data_cleaned)\n",
    "missing_columns = list(missing_value_df[missing_value_df['percent_missing']>0]['column_name'])\n",
    "\n",
    "print('Number of features with missing values:', len(missing_columns))"
   ]
  },
  {
   "cell_type": "code",
   "execution_count": 74,
   "id": "d1208dcc",
   "metadata": {},
   "outputs": [
    {
     "name": "stdout",
     "output_type": "stream",
     "text": [
      "[]\n"
     ]
    }
   ],
   "source": [
    "print(missing_columns)"
   ]
  },
  {
   "cell_type": "code",
   "execution_count": 78,
   "id": "556264ac",
   "metadata": {},
   "outputs": [
    {
     "data": {
      "text/html": [
       "<div>\n",
       "<style scoped>\n",
       "    .dataframe tbody tr th:only-of-type {\n",
       "        vertical-align: middle;\n",
       "    }\n",
       "\n",
       "    .dataframe tbody tr th {\n",
       "        vertical-align: top;\n",
       "    }\n",
       "\n",
       "    .dataframe thead th {\n",
       "        text-align: right;\n",
       "    }\n",
       "</style>\n",
       "<table border=\"1\" class=\"dataframe\">\n",
       "  <thead>\n",
       "    <tr style=\"text-align: right;\">\n",
       "      <th></th>\n",
       "      <th>user_id</th>\n",
       "      <th>number_transactions</th>\n",
       "      <th>total_amount_usd</th>\n",
       "      <th>age</th>\n",
       "      <th>job</th>\n",
       "      <th>marital</th>\n",
       "      <th>education</th>\n",
       "      <th>default</th>\n",
       "      <th>housing</th>\n",
       "      <th>loan</th>\n",
       "      <th>contact</th>\n",
       "      <th>duration</th>\n",
       "      <th>campaign</th>\n",
       "      <th>pdays</th>\n",
       "      <th>previous</th>\n",
       "      <th>term_deposit</th>\n",
       "      <th>date_joined</th>\n",
       "      <th>device</th>\n",
       "    </tr>\n",
       "  </thead>\n",
       "  <tbody>\n",
       "    <tr>\n",
       "      <th>0</th>\n",
       "      <td>9231c446-cb16-4b2b-a7f7-ddfc8b25aaf6</td>\n",
       "      <td>3.0</td>\n",
       "      <td>2143.00</td>\n",
       "      <td>58</td>\n",
       "      <td>management</td>\n",
       "      <td>married</td>\n",
       "      <td>tertiary</td>\n",
       "      <td>False</td>\n",
       "      <td>True</td>\n",
       "      <td>False</td>\n",
       "      <td>Unknown</td>\n",
       "      <td>261</td>\n",
       "      <td>1</td>\n",
       "      <td>-1</td>\n",
       "      <td>0</td>\n",
       "      <td>False</td>\n",
       "      <td>1998-08-23</td>\n",
       "      <td>mobile</td>\n",
       "    </tr>\n",
       "    <tr>\n",
       "      <th>1</th>\n",
       "      <td>bb92765a-08de-4963-b432-496524b39157</td>\n",
       "      <td>0.0</td>\n",
       "      <td>1369.42</td>\n",
       "      <td>44</td>\n",
       "      <td>technician</td>\n",
       "      <td>single</td>\n",
       "      <td>secondary</td>\n",
       "      <td>False</td>\n",
       "      <td>True</td>\n",
       "      <td>False</td>\n",
       "      <td>Unknown</td>\n",
       "      <td>151</td>\n",
       "      <td>1</td>\n",
       "      <td>-1</td>\n",
       "      <td>0</td>\n",
       "      <td>False</td>\n",
       "      <td>2008-07-15</td>\n",
       "      <td>desktop</td>\n",
       "    </tr>\n",
       "    <tr>\n",
       "      <th>2</th>\n",
       "      <td>573de577-49ef-42b9-83da-d3cfb817b5c1</td>\n",
       "      <td>2.0</td>\n",
       "      <td>2.00</td>\n",
       "      <td>33</td>\n",
       "      <td>entrepreneur</td>\n",
       "      <td>married</td>\n",
       "      <td>secondary</td>\n",
       "      <td>False</td>\n",
       "      <td>True</td>\n",
       "      <td>True</td>\n",
       "      <td>Unknown</td>\n",
       "      <td>76</td>\n",
       "      <td>1</td>\n",
       "      <td>-1</td>\n",
       "      <td>0</td>\n",
       "      <td>False</td>\n",
       "      <td>2002-06-04</td>\n",
       "      <td>mobile</td>\n",
       "    </tr>\n",
       "    <tr>\n",
       "      <th>3</th>\n",
       "      <td>d6b66b9d-7c8f-4257-a682-e136f640b7e3</td>\n",
       "      <td>0.0</td>\n",
       "      <td>1369.42</td>\n",
       "      <td>47</td>\n",
       "      <td>blue-collar</td>\n",
       "      <td>married</td>\n",
       "      <td>Unknown</td>\n",
       "      <td>False</td>\n",
       "      <td>True</td>\n",
       "      <td>False</td>\n",
       "      <td>Unknown</td>\n",
       "      <td>92</td>\n",
       "      <td>1</td>\n",
       "      <td>-1</td>\n",
       "      <td>0</td>\n",
       "      <td>False</td>\n",
       "      <td>1995-06-29</td>\n",
       "      <td>tablet</td>\n",
       "    </tr>\n",
       "    <tr>\n",
       "      <th>4</th>\n",
       "      <td>fade0b20-7594-4d9a-84cd-c02f79b1b526</td>\n",
       "      <td>1.0</td>\n",
       "      <td>1.00</td>\n",
       "      <td>33</td>\n",
       "      <td>Unknown</td>\n",
       "      <td>single</td>\n",
       "      <td>Unknown</td>\n",
       "      <td>False</td>\n",
       "      <td>False</td>\n",
       "      <td>False</td>\n",
       "      <td>Unknown</td>\n",
       "      <td>198</td>\n",
       "      <td>1</td>\n",
       "      <td>-1</td>\n",
       "      <td>0</td>\n",
       "      <td>False</td>\n",
       "      <td>1995-08-01</td>\n",
       "      <td>mobile</td>\n",
       "    </tr>\n",
       "    <tr>\n",
       "      <th>...</th>\n",
       "      <td>...</td>\n",
       "      <td>...</td>\n",
       "      <td>...</td>\n",
       "      <td>...</td>\n",
       "      <td>...</td>\n",
       "      <td>...</td>\n",
       "      <td>...</td>\n",
       "      <td>...</td>\n",
       "      <td>...</td>\n",
       "      <td>...</td>\n",
       "      <td>...</td>\n",
       "      <td>...</td>\n",
       "      <td>...</td>\n",
       "      <td>...</td>\n",
       "      <td>...</td>\n",
       "      <td>...</td>\n",
       "      <td>...</td>\n",
       "      <td>...</td>\n",
       "    </tr>\n",
       "    <tr>\n",
       "      <th>45211</th>\n",
       "      <td>a218c1d6-880a-4431-a314-a1bd3dc36b21</td>\n",
       "      <td>2.0</td>\n",
       "      <td>825.00</td>\n",
       "      <td>51</td>\n",
       "      <td>technician</td>\n",
       "      <td>married</td>\n",
       "      <td>tertiary</td>\n",
       "      <td>False</td>\n",
       "      <td>False</td>\n",
       "      <td>False</td>\n",
       "      <td>cellular</td>\n",
       "      <td>977</td>\n",
       "      <td>3</td>\n",
       "      <td>-1</td>\n",
       "      <td>0</td>\n",
       "      <td>True</td>\n",
       "      <td>2002-12-28</td>\n",
       "      <td>desktop</td>\n",
       "    </tr>\n",
       "    <tr>\n",
       "      <th>45212</th>\n",
       "      <td>6a6bf402-9416-4e71-97c6-727e8298a3a5</td>\n",
       "      <td>4.0</td>\n",
       "      <td>1729.00</td>\n",
       "      <td>71</td>\n",
       "      <td>retired</td>\n",
       "      <td>divorced</td>\n",
       "      <td>primary</td>\n",
       "      <td>False</td>\n",
       "      <td>False</td>\n",
       "      <td>False</td>\n",
       "      <td>cellular</td>\n",
       "      <td>456</td>\n",
       "      <td>2</td>\n",
       "      <td>-1</td>\n",
       "      <td>0</td>\n",
       "      <td>True</td>\n",
       "      <td>2010-11-18</td>\n",
       "      <td>desktop</td>\n",
       "    </tr>\n",
       "    <tr>\n",
       "      <th>45213</th>\n",
       "      <td>be32ba96-b178-4b54-b32a-f75b714793df</td>\n",
       "      <td>2.0</td>\n",
       "      <td>5715.00</td>\n",
       "      <td>72</td>\n",
       "      <td>retired</td>\n",
       "      <td>married</td>\n",
       "      <td>secondary</td>\n",
       "      <td>False</td>\n",
       "      <td>False</td>\n",
       "      <td>False</td>\n",
       "      <td>cellular</td>\n",
       "      <td>1127</td>\n",
       "      <td>5</td>\n",
       "      <td>184</td>\n",
       "      <td>3</td>\n",
       "      <td>True</td>\n",
       "      <td>1996-06-18</td>\n",
       "      <td>mobile</td>\n",
       "    </tr>\n",
       "    <tr>\n",
       "      <th>45214</th>\n",
       "      <td>44623a48-4e9b-48fd-b155-a17d1c06a754</td>\n",
       "      <td>0.0</td>\n",
       "      <td>1369.42</td>\n",
       "      <td>57</td>\n",
       "      <td>blue-collar</td>\n",
       "      <td>married</td>\n",
       "      <td>secondary</td>\n",
       "      <td>False</td>\n",
       "      <td>False</td>\n",
       "      <td>False</td>\n",
       "      <td>telephone</td>\n",
       "      <td>508</td>\n",
       "      <td>4</td>\n",
       "      <td>-1</td>\n",
       "      <td>0</td>\n",
       "      <td>False</td>\n",
       "      <td>1996-09-14</td>\n",
       "      <td>desktop</td>\n",
       "    </tr>\n",
       "    <tr>\n",
       "      <th>45215</th>\n",
       "      <td>5905741c-3f30-416f-8ee5-71abad035de6</td>\n",
       "      <td>3.0</td>\n",
       "      <td>2971.00</td>\n",
       "      <td>37</td>\n",
       "      <td>entrepreneur</td>\n",
       "      <td>married</td>\n",
       "      <td>secondary</td>\n",
       "      <td>False</td>\n",
       "      <td>False</td>\n",
       "      <td>False</td>\n",
       "      <td>cellular</td>\n",
       "      <td>361</td>\n",
       "      <td>2</td>\n",
       "      <td>188</td>\n",
       "      <td>11</td>\n",
       "      <td>False</td>\n",
       "      <td>1994-04-28</td>\n",
       "      <td>mobile</td>\n",
       "    </tr>\n",
       "  </tbody>\n",
       "</table>\n",
       "<p>45209 rows × 18 columns</p>\n",
       "</div>"
      ],
      "text/plain": [
       "                                    user_id  number_transactions  \\\n",
       "0      9231c446-cb16-4b2b-a7f7-ddfc8b25aaf6                  3.0   \n",
       "1      bb92765a-08de-4963-b432-496524b39157                  0.0   \n",
       "2      573de577-49ef-42b9-83da-d3cfb817b5c1                  2.0   \n",
       "3      d6b66b9d-7c8f-4257-a682-e136f640b7e3                  0.0   \n",
       "4      fade0b20-7594-4d9a-84cd-c02f79b1b526                  1.0   \n",
       "...                                     ...                  ...   \n",
       "45211  a218c1d6-880a-4431-a314-a1bd3dc36b21                  2.0   \n",
       "45212  6a6bf402-9416-4e71-97c6-727e8298a3a5                  4.0   \n",
       "45213  be32ba96-b178-4b54-b32a-f75b714793df                  2.0   \n",
       "45214  44623a48-4e9b-48fd-b155-a17d1c06a754                  0.0   \n",
       "45215  5905741c-3f30-416f-8ee5-71abad035de6                  3.0   \n",
       "\n",
       "       total_amount_usd  age           job   marital  education  default  \\\n",
       "0               2143.00   58    management   married   tertiary    False   \n",
       "1               1369.42   44    technician    single  secondary    False   \n",
       "2                  2.00   33  entrepreneur   married  secondary    False   \n",
       "3               1369.42   47   blue-collar   married    Unknown    False   \n",
       "4                  1.00   33       Unknown    single    Unknown    False   \n",
       "...                 ...  ...           ...       ...        ...      ...   \n",
       "45211            825.00   51    technician   married   tertiary    False   \n",
       "45212           1729.00   71       retired  divorced    primary    False   \n",
       "45213           5715.00   72       retired   married  secondary    False   \n",
       "45214           1369.42   57   blue-collar   married  secondary    False   \n",
       "45215           2971.00   37  entrepreneur   married  secondary    False   \n",
       "\n",
       "       housing   loan    contact  duration  campaign  pdays  previous  \\\n",
       "0         True  False    Unknown       261         1     -1         0   \n",
       "1         True  False    Unknown       151         1     -1         0   \n",
       "2         True   True    Unknown        76         1     -1         0   \n",
       "3         True  False    Unknown        92         1     -1         0   \n",
       "4        False  False    Unknown       198         1     -1         0   \n",
       "...        ...    ...        ...       ...       ...    ...       ...   \n",
       "45211    False  False   cellular       977         3     -1         0   \n",
       "45212    False  False   cellular       456         2     -1         0   \n",
       "45213    False  False   cellular      1127         5    184         3   \n",
       "45214    False  False  telephone       508         4     -1         0   \n",
       "45215    False  False   cellular       361         2    188        11   \n",
       "\n",
       "       term_deposit date_joined   device  \n",
       "0             False  1998-08-23   mobile  \n",
       "1             False  2008-07-15  desktop  \n",
       "2             False  2002-06-04   mobile  \n",
       "3             False  1995-06-29   tablet  \n",
       "4             False  1995-08-01   mobile  \n",
       "...             ...         ...      ...  \n",
       "45211          True  2002-12-28  desktop  \n",
       "45212          True  2010-11-18  desktop  \n",
       "45213          True  1996-06-18   mobile  \n",
       "45214         False  1996-09-14  desktop  \n",
       "45215         False  1994-04-28   mobile  \n",
       "\n",
       "[45209 rows x 18 columns]"
      ]
     },
     "execution_count": 78,
     "metadata": {},
     "output_type": "execute_result"
    }
   ],
   "source": [
    "user_data_cleaned"
   ]
  }
 ],
 "metadata": {
  "kernelspec": {
   "display_name": "Python 3 (ipykernel)",
   "language": "python",
   "name": "python3"
  },
  "language_info": {
   "codemirror_mode": {
    "name": "ipython",
    "version": 3
   },
   "file_extension": ".py",
   "mimetype": "text/x-python",
   "name": "python",
   "nbconvert_exporter": "python",
   "pygments_lexer": "ipython3",
   "version": "3.9.12"
  }
 },
 "nbformat": 4,
 "nbformat_minor": 5
}
