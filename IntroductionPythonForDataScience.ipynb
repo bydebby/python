{
 "cells": [
  {
   "cell_type": "markdown",
   "id": "5f644664",
   "metadata": {},
   "source": [
    "## Aturan Penulisan Pada Python"
   ]
  },
  {
   "cell_type": "code",
   "execution_count": 1,
   "id": "b57f3a6c",
   "metadata": {},
   "outputs": [
    {
     "name": "stdout",
     "output_type": "stream",
     "text": [
      "Hello By\n"
     ]
    }
   ],
   "source": [
    "#contoh\n",
    "print(\"Hello By\")"
   ]
  },
  {
   "cell_type": "code",
   "execution_count": 3,
   "id": "e45dd124",
   "metadata": {},
   "outputs": [
    {
     "name": "stdout",
     "output_type": "stream",
     "text": [
      "Hari ini saya sedang belajar data science \n",
      "di Multimatics\n"
     ]
    }
   ],
   "source": [
    "print(\"Hari ini saya sedang belajar data science \\ndi Multimatics\")"
   ]
  },
  {
   "cell_type": "code",
   "execution_count": 9,
   "id": "77b6ee04",
   "metadata": {},
   "outputs": [
    {
     "name": "stdout",
     "output_type": "stream",
     "text": [
      "Nama : Debby\n",
      "Usia : 28\n",
      "Alamat : Jakarta\n"
     ]
    }
   ],
   "source": [
    "nama = \"Debby\"\n",
    "usia = 28\n",
    "alamat = \"Jakarta\"\n",
    "\n",
    "print(\"Nama :\",nama)\n",
    "print(\"Usia :\",usia)\n",
    "print(\"Alamat :\",alamat)\n"
   ]
  },
  {
   "cell_type": "code",
   "execution_count": 10,
   "id": "f2612c16",
   "metadata": {},
   "outputs": [
    {
     "name": "stdout",
     "output_type": "stream",
     "text": [
      "Luas Persegi : 50\n"
     ]
    }
   ],
   "source": [
    "panjang = 10\n",
    "lebar = 5\n",
    "luas = panjang * lebar\n",
    "print(\"Luas Persegi :\", luas)"
   ]
  },
  {
   "cell_type": "markdown",
   "id": "eddb1687",
   "metadata": {},
   "source": [
    "## Statement yang ada di dalam atau di apit oleh tanda kurung sepert [],(),{}"
   ]
  },
  {
   "cell_type": "code",
   "execution_count": 11,
   "id": "93f0d0a0",
   "metadata": {},
   "outputs": [
    {
     "name": "stdout",
     "output_type": "stream",
     "text": [
      "['Senin', 'Selasa', 'Rabu', 'Kamis', \"Jum'at\"]\n"
     ]
    }
   ],
   "source": [
    "# kurung siku untuk list\n",
    "# kurung biasa untuk tuple\n",
    "# kurung kurawal untuk dictionary\n",
    "\n",
    "nama_hari = [\"Senin\", \"Selasa\", \"Rabu\", \"Kamis\", \"Jum'at\"]\n",
    "print(nama_hari)"
   ]
  },
  {
   "cell_type": "code",
   "execution_count": 13,
   "id": "82648bae",
   "metadata": {},
   "outputs": [
    {
     "data": {
      "text/plain": [
       "['Senin', 'Selasa', 'Rabu', 'Kamis', \"Jum'at\"]"
      ]
     },
     "execution_count": 13,
     "metadata": {},
     "output_type": "execute_result"
    }
   ],
   "source": [
    "(nama_hari)"
   ]
  },
  {
   "cell_type": "code",
   "execution_count": 14,
   "id": "31b4840d",
   "metadata": {},
   "outputs": [
    {
     "data": {
      "text/plain": [
       "{'Nama': 'Debby', 'Alamat': 'Jakarta'}"
      ]
     },
     "execution_count": 14,
     "metadata": {},
     "output_type": "execute_result"
    }
   ],
   "source": [
    "nama\n",
    "alamat\n",
    "{'Nama':nama, \"Alamat\": alamat}"
   ]
  },
  {
   "cell_type": "code",
   "execution_count": 16,
   "id": "62895246",
   "metadata": {},
   "outputs": [
    {
     "ename": "NameError",
     "evalue": "name 'pd' is not defined",
     "output_type": "error",
     "traceback": [
      "\u001b[1;31m---------------------------------------------------------------------------\u001b[0m",
      "\u001b[1;31mNameError\u001b[0m                                 Traceback (most recent call last)",
      "Input \u001b[1;32mIn [16]\u001b[0m, in \u001b[0;36m<cell line: 1>\u001b[1;34m()\u001b[0m\n\u001b[1;32m----> 1\u001b[0m data \u001b[38;5;241m=\u001b[39m \u001b[43mpd\u001b[49m\u001b[38;5;241m.\u001b[39mread_csv(\u001b[38;5;124m\"\u001b[39m\u001b[38;5;124mnamafile\u001b[39m\u001b[38;5;124m\"\u001b[39m)\n\u001b[0;32m      2\u001b[0m data\n",
      "\u001b[1;31mNameError\u001b[0m: name 'pd' is not defined"
     ]
    }
   ],
   "source": [
    "data = pd.read_csv(\"namafile\")\n",
    "data\n",
    "\n",
    "data.info\n",
    "data.dtypes"
   ]
  },
  {
   "cell_type": "code",
   "execution_count": 18,
   "id": "e13b211e",
   "metadata": {},
   "outputs": [
    {
     "name": "stdout",
     "output_type": "stream",
     "text": [
      "Tidak Lulus\n"
     ]
    }
   ],
   "source": [
    "nilai = 65\n",
    "lulus = \"Lulus\"\n",
    "gagal = \"Tidak Lulus\"\n",
    "\n",
    "if nilai > 65:\n",
    "    print(lulus)\n",
    "else:\n",
    "    print(gagal)"
   ]
  },
  {
   "cell_type": "markdown",
   "id": "1989c55d",
   "metadata": {},
   "source": [
    "## Statement Looping"
   ]
  },
  {
   "cell_type": "code",
   "execution_count": 25,
   "id": "2039a675",
   "metadata": {},
   "outputs": [
    {
     "name": "stdout",
     "output_type": "stream",
     "text": [
      "Nilai = 1\n",
      "Nilai = 2\n",
      "Nilai = 3\n",
      "Nilai = 4\n",
      "Nilai = 5\n",
      "Nilai = 6\n"
     ]
    }
   ],
   "source": [
    "nilai = [1,2,3,4,5,6]\n",
    "for x in nilai:\n",
    "    print(\"Nilai =\",x)"
   ]
  },
  {
   "cell_type": "code",
   "execution_count": 26,
   "id": "92b14c6b",
   "metadata": {},
   "outputs": [
    {
     "name": "stdout",
     "output_type": "stream",
     "text": [
      "1\n",
      "2\n",
      "3\n",
      "4\n",
      "5\n"
     ]
    }
   ],
   "source": [
    "i = 1\n",
    "while i < 6:\n",
    "    print(i)\n",
    "    i += 1"
   ]
  },
  {
   "cell_type": "code",
   "execution_count": 33,
   "id": "f958247f",
   "metadata": {},
   "outputs": [
    {
     "name": "stdout",
     "output_type": "stream",
     "text": [
      "Range 5\n",
      "Range 7\n",
      "Range 9\n",
      "Range 11\n",
      "Range 13\n"
     ]
    }
   ],
   "source": [
    "# contoh perulangan menggunakan range\n",
    "for x in range(5, 15, 2):\n",
    "    print(\"Perulangan ke\", x)"
   ]
  },
  {
   "cell_type": "markdown",
   "id": "46348a72",
   "metadata": {},
   "source": [
    "## Statement Function"
   ]
  },
  {
   "cell_type": "code",
   "execution_count": 38,
   "id": "f28fa83a",
   "metadata": {},
   "outputs": [
    {
     "name": "stdout",
     "output_type": "stream",
     "text": [
      "12\n"
     ]
    }
   ],
   "source": [
    "def luaspersegi(p,l):\n",
    "    luas = p * l\n",
    "    print(luas)\n",
    "luaspersegi(3,4)"
   ]
  },
  {
   "cell_type": "markdown",
   "id": "f9e3541a",
   "metadata": {},
   "source": [
    "## Menggunakan Library Python"
   ]
  },
  {
   "cell_type": "code",
   "execution_count": 40,
   "id": "824cf206",
   "metadata": {},
   "outputs": [],
   "source": [
    "# pandas untuk dataframe\n",
    "import pandas as pd\n",
    "import numpy as np\n",
    "import matplotlib.pyplot as plt\n",
    "import seaborn as sns"
   ]
  },
  {
   "cell_type": "code",
   "execution_count": 41,
   "id": "a7fb54ba",
   "metadata": {},
   "outputs": [
    {
     "data": {
      "text/plain": [
       "array([1, 2, 3, 4])"
      ]
     },
     "execution_count": 41,
     "metadata": {},
     "output_type": "execute_result"
    }
   ],
   "source": [
    "A = np.array([1,2,3,4])\n",
    "A"
   ]
  },
  {
   "cell_type": "code",
   "execution_count": 42,
   "id": "a0845708",
   "metadata": {},
   "outputs": [
    {
     "data": {
      "text/plain": [
       "(4,)"
      ]
     },
     "execution_count": 42,
     "metadata": {},
     "output_type": "execute_result"
    }
   ],
   "source": [
    "A.shape"
   ]
  },
  {
   "cell_type": "code",
   "execution_count": 45,
   "id": "fa01655a",
   "metadata": {},
   "outputs": [
    {
     "data": {
      "text/html": [
       "<div>\n",
       "<style scoped>\n",
       "    .dataframe tbody tr th:only-of-type {\n",
       "        vertical-align: middle;\n",
       "    }\n",
       "\n",
       "    .dataframe tbody tr th {\n",
       "        vertical-align: top;\n",
       "    }\n",
       "\n",
       "    .dataframe thead th {\n",
       "        text-align: right;\n",
       "    }\n",
       "</style>\n",
       "<table border=\"1\" class=\"dataframe\">\n",
       "  <thead>\n",
       "    <tr style=\"text-align: right;\">\n",
       "      <th></th>\n",
       "      <th>user_id</th>\n",
       "      <th>number_transactions</th>\n",
       "      <th>total_amount_usd</th>\n",
       "      <th>age</th>\n",
       "      <th>job</th>\n",
       "      <th>marital</th>\n",
       "      <th>education</th>\n",
       "      <th>default</th>\n",
       "      <th>housing</th>\n",
       "      <th>loan</th>\n",
       "      <th>contact</th>\n",
       "      <th>duration</th>\n",
       "      <th>campaign</th>\n",
       "      <th>pdays</th>\n",
       "      <th>previous</th>\n",
       "      <th>poutcome</th>\n",
       "      <th>term_deposit</th>\n",
       "      <th>date_joined</th>\n",
       "      <th>device</th>\n",
       "    </tr>\n",
       "  </thead>\n",
       "  <tbody>\n",
       "    <tr>\n",
       "      <th>0</th>\n",
       "      <td>9231c446-cb16-4b2b-a7f7-ddfc8b25aaf6</td>\n",
       "      <td>3.0</td>\n",
       "      <td>2143.0</td>\n",
       "      <td>58</td>\n",
       "      <td>management</td>\n",
       "      <td>married</td>\n",
       "      <td>tertiary</td>\n",
       "      <td>False</td>\n",
       "      <td>True</td>\n",
       "      <td>False</td>\n",
       "      <td>None</td>\n",
       "      <td>261</td>\n",
       "      <td>1</td>\n",
       "      <td>-1</td>\n",
       "      <td>0</td>\n",
       "      <td>None</td>\n",
       "      <td>False</td>\n",
       "      <td>1998-08-23</td>\n",
       "      <td>mobile</td>\n",
       "    </tr>\n",
       "    <tr>\n",
       "      <th>1</th>\n",
       "      <td>bb92765a-08de-4963-b432-496524b39157</td>\n",
       "      <td>NaN</td>\n",
       "      <td>NaN</td>\n",
       "      <td>44</td>\n",
       "      <td>technician</td>\n",
       "      <td>single</td>\n",
       "      <td>secondary</td>\n",
       "      <td>False</td>\n",
       "      <td>True</td>\n",
       "      <td>False</td>\n",
       "      <td>None</td>\n",
       "      <td>151</td>\n",
       "      <td>1</td>\n",
       "      <td>-1</td>\n",
       "      <td>0</td>\n",
       "      <td>None</td>\n",
       "      <td>False</td>\n",
       "      <td>2008-07-15</td>\n",
       "      <td>desktop</td>\n",
       "    </tr>\n",
       "    <tr>\n",
       "      <th>2</th>\n",
       "      <td>573de577-49ef-42b9-83da-d3cfb817b5c1</td>\n",
       "      <td>2.0</td>\n",
       "      <td>2.0</td>\n",
       "      <td>33</td>\n",
       "      <td>entrepreneur</td>\n",
       "      <td>married</td>\n",
       "      <td>secondary</td>\n",
       "      <td>False</td>\n",
       "      <td>True</td>\n",
       "      <td>True</td>\n",
       "      <td>None</td>\n",
       "      <td>76</td>\n",
       "      <td>1</td>\n",
       "      <td>-1</td>\n",
       "      <td>0</td>\n",
       "      <td>None</td>\n",
       "      <td>False</td>\n",
       "      <td>2002-06-04</td>\n",
       "      <td>mobile</td>\n",
       "    </tr>\n",
       "    <tr>\n",
       "      <th>3</th>\n",
       "      <td>d6b66b9d-7c8f-4257-a682-e136f640b7e3</td>\n",
       "      <td>NaN</td>\n",
       "      <td>NaN</td>\n",
       "      <td>47</td>\n",
       "      <td>blue-collar</td>\n",
       "      <td>married</td>\n",
       "      <td>None</td>\n",
       "      <td>False</td>\n",
       "      <td>True</td>\n",
       "      <td>False</td>\n",
       "      <td>None</td>\n",
       "      <td>92</td>\n",
       "      <td>1</td>\n",
       "      <td>-1</td>\n",
       "      <td>0</td>\n",
       "      <td>None</td>\n",
       "      <td>False</td>\n",
       "      <td>1995-06-29</td>\n",
       "      <td>tablet</td>\n",
       "    </tr>\n",
       "    <tr>\n",
       "      <th>4</th>\n",
       "      <td>fade0b20-7594-4d9a-84cd-c02f79b1b526</td>\n",
       "      <td>1.0</td>\n",
       "      <td>1.0</td>\n",
       "      <td>33</td>\n",
       "      <td>None</td>\n",
       "      <td>single</td>\n",
       "      <td>None</td>\n",
       "      <td>False</td>\n",
       "      <td>False</td>\n",
       "      <td>False</td>\n",
       "      <td>None</td>\n",
       "      <td>198</td>\n",
       "      <td>1</td>\n",
       "      <td>-1</td>\n",
       "      <td>0</td>\n",
       "      <td>None</td>\n",
       "      <td>False</td>\n",
       "      <td>1995-08-01</td>\n",
       "      <td>mobile</td>\n",
       "    </tr>\n",
       "    <tr>\n",
       "      <th>...</th>\n",
       "      <td>...</td>\n",
       "      <td>...</td>\n",
       "      <td>...</td>\n",
       "      <td>...</td>\n",
       "      <td>...</td>\n",
       "      <td>...</td>\n",
       "      <td>...</td>\n",
       "      <td>...</td>\n",
       "      <td>...</td>\n",
       "      <td>...</td>\n",
       "      <td>...</td>\n",
       "      <td>...</td>\n",
       "      <td>...</td>\n",
       "      <td>...</td>\n",
       "      <td>...</td>\n",
       "      <td>...</td>\n",
       "      <td>...</td>\n",
       "      <td>...</td>\n",
       "      <td>...</td>\n",
       "    </tr>\n",
       "    <tr>\n",
       "      <th>45211</th>\n",
       "      <td>a218c1d6-880a-4431-a314-a1bd3dc36b21</td>\n",
       "      <td>2.0</td>\n",
       "      <td>825.0</td>\n",
       "      <td>51</td>\n",
       "      <td>technician</td>\n",
       "      <td>married</td>\n",
       "      <td>tertiary</td>\n",
       "      <td>False</td>\n",
       "      <td>False</td>\n",
       "      <td>False</td>\n",
       "      <td>cellular</td>\n",
       "      <td>977</td>\n",
       "      <td>3</td>\n",
       "      <td>-1</td>\n",
       "      <td>0</td>\n",
       "      <td>None</td>\n",
       "      <td>True</td>\n",
       "      <td>2002-12-28</td>\n",
       "      <td>desktop</td>\n",
       "    </tr>\n",
       "    <tr>\n",
       "      <th>45212</th>\n",
       "      <td>6a6bf402-9416-4e71-97c6-727e8298a3a5</td>\n",
       "      <td>4.0</td>\n",
       "      <td>1729.0</td>\n",
       "      <td>71</td>\n",
       "      <td>retired</td>\n",
       "      <td>divorced</td>\n",
       "      <td>primary</td>\n",
       "      <td>False</td>\n",
       "      <td>False</td>\n",
       "      <td>False</td>\n",
       "      <td>cellular</td>\n",
       "      <td>456</td>\n",
       "      <td>2</td>\n",
       "      <td>-1</td>\n",
       "      <td>0</td>\n",
       "      <td>None</td>\n",
       "      <td>True</td>\n",
       "      <td>2010-11-18</td>\n",
       "      <td>desktop</td>\n",
       "    </tr>\n",
       "    <tr>\n",
       "      <th>45213</th>\n",
       "      <td>be32ba96-b178-4b54-b32a-f75b714793df</td>\n",
       "      <td>2.0</td>\n",
       "      <td>5715.0</td>\n",
       "      <td>72</td>\n",
       "      <td>retired</td>\n",
       "      <td>married</td>\n",
       "      <td>secondary</td>\n",
       "      <td>False</td>\n",
       "      <td>False</td>\n",
       "      <td>False</td>\n",
       "      <td>cellular</td>\n",
       "      <td>1127</td>\n",
       "      <td>5</td>\n",
       "      <td>184</td>\n",
       "      <td>3</td>\n",
       "      <td>success</td>\n",
       "      <td>True</td>\n",
       "      <td>1996-06-18</td>\n",
       "      <td>mobile</td>\n",
       "    </tr>\n",
       "    <tr>\n",
       "      <th>45214</th>\n",
       "      <td>44623a48-4e9b-48fd-b155-a17d1c06a754</td>\n",
       "      <td>NaN</td>\n",
       "      <td>NaN</td>\n",
       "      <td>57</td>\n",
       "      <td>blue-collar</td>\n",
       "      <td>married</td>\n",
       "      <td>secondary</td>\n",
       "      <td>False</td>\n",
       "      <td>False</td>\n",
       "      <td>False</td>\n",
       "      <td>telephone</td>\n",
       "      <td>508</td>\n",
       "      <td>4</td>\n",
       "      <td>-1</td>\n",
       "      <td>0</td>\n",
       "      <td>None</td>\n",
       "      <td>False</td>\n",
       "      <td>1996-09-14</td>\n",
       "      <td>desktop</td>\n",
       "    </tr>\n",
       "    <tr>\n",
       "      <th>45215</th>\n",
       "      <td>5905741c-3f30-416f-8ee5-71abad035de6</td>\n",
       "      <td>3.0</td>\n",
       "      <td>2971.0</td>\n",
       "      <td>37</td>\n",
       "      <td>entrepreneur</td>\n",
       "      <td>married</td>\n",
       "      <td>secondary</td>\n",
       "      <td>False</td>\n",
       "      <td>False</td>\n",
       "      <td>False</td>\n",
       "      <td>cellular</td>\n",
       "      <td>361</td>\n",
       "      <td>2</td>\n",
       "      <td>188</td>\n",
       "      <td>11</td>\n",
       "      <td>other</td>\n",
       "      <td>False</td>\n",
       "      <td>1994-04-28</td>\n",
       "      <td>mobile</td>\n",
       "    </tr>\n",
       "  </tbody>\n",
       "</table>\n",
       "<p>45209 rows × 19 columns</p>\n",
       "</div>"
      ],
      "text/plain": [
       "                                    user_id  number_transactions  \\\n",
       "0      9231c446-cb16-4b2b-a7f7-ddfc8b25aaf6                  3.0   \n",
       "1      bb92765a-08de-4963-b432-496524b39157                  NaN   \n",
       "2      573de577-49ef-42b9-83da-d3cfb817b5c1                  2.0   \n",
       "3      d6b66b9d-7c8f-4257-a682-e136f640b7e3                  NaN   \n",
       "4      fade0b20-7594-4d9a-84cd-c02f79b1b526                  1.0   \n",
       "...                                     ...                  ...   \n",
       "45211  a218c1d6-880a-4431-a314-a1bd3dc36b21                  2.0   \n",
       "45212  6a6bf402-9416-4e71-97c6-727e8298a3a5                  4.0   \n",
       "45213  be32ba96-b178-4b54-b32a-f75b714793df                  2.0   \n",
       "45214  44623a48-4e9b-48fd-b155-a17d1c06a754                  NaN   \n",
       "45215  5905741c-3f30-416f-8ee5-71abad035de6                  3.0   \n",
       "\n",
       "       total_amount_usd  age           job   marital  education  default  \\\n",
       "0                2143.0   58    management   married   tertiary    False   \n",
       "1                   NaN   44    technician    single  secondary    False   \n",
       "2                   2.0   33  entrepreneur   married  secondary    False   \n",
       "3                   NaN   47   blue-collar   married       None    False   \n",
       "4                   1.0   33          None    single       None    False   \n",
       "...                 ...  ...           ...       ...        ...      ...   \n",
       "45211             825.0   51    technician   married   tertiary    False   \n",
       "45212            1729.0   71       retired  divorced    primary    False   \n",
       "45213            5715.0   72       retired   married  secondary    False   \n",
       "45214               NaN   57   blue-collar   married  secondary    False   \n",
       "45215            2971.0   37  entrepreneur   married  secondary    False   \n",
       "\n",
       "       housing   loan    contact  duration  campaign  pdays  previous  \\\n",
       "0         True  False       None       261         1     -1         0   \n",
       "1         True  False       None       151         1     -1         0   \n",
       "2         True   True       None        76         1     -1         0   \n",
       "3         True  False       None        92         1     -1         0   \n",
       "4        False  False       None       198         1     -1         0   \n",
       "...        ...    ...        ...       ...       ...    ...       ...   \n",
       "45211    False  False   cellular       977         3     -1         0   \n",
       "45212    False  False   cellular       456         2     -1         0   \n",
       "45213    False  False   cellular      1127         5    184         3   \n",
       "45214    False  False  telephone       508         4     -1         0   \n",
       "45215    False  False   cellular       361         2    188        11   \n",
       "\n",
       "      poutcome  term_deposit date_joined   device  \n",
       "0         None         False  1998-08-23   mobile  \n",
       "1         None         False  2008-07-15  desktop  \n",
       "2         None         False  2002-06-04   mobile  \n",
       "3         None         False  1995-06-29   tablet  \n",
       "4         None         False  1995-08-01   mobile  \n",
       "...        ...           ...         ...      ...  \n",
       "45211     None          True  2002-12-28  desktop  \n",
       "45212     None          True  2010-11-18  desktop  \n",
       "45213  success          True  1996-06-18   mobile  \n",
       "45214     None         False  1996-09-14  desktop  \n",
       "45215    other         False  1994-04-28   mobile  \n",
       "\n",
       "[45209 rows x 19 columns]"
      ]
     },
     "execution_count": 45,
     "metadata": {},
     "output_type": "execute_result"
    }
   ],
   "source": [
    "datauser = pd.read_pickle(\"users_data_cleaned.pickle\")\n",
    "datauser"
   ]
  },
  {
   "cell_type": "code",
   "execution_count": 47,
   "id": "48da9664",
   "metadata": {},
   "outputs": [
    {
     "data": {
      "text/html": [
       "<div>\n",
       "<style scoped>\n",
       "    .dataframe tbody tr th:only-of-type {\n",
       "        vertical-align: middle;\n",
       "    }\n",
       "\n",
       "    .dataframe tbody tr th {\n",
       "        vertical-align: top;\n",
       "    }\n",
       "\n",
       "    .dataframe thead th {\n",
       "        text-align: right;\n",
       "    }\n",
       "</style>\n",
       "<table border=\"1\" class=\"dataframe\">\n",
       "  <thead>\n",
       "    <tr style=\"text-align: right;\">\n",
       "      <th></th>\n",
       "      <th>user_id</th>\n",
       "      <th>number_transactions</th>\n",
       "      <th>total_amount_usd</th>\n",
       "      <th>age</th>\n",
       "      <th>job</th>\n",
       "      <th>marital</th>\n",
       "      <th>education</th>\n",
       "      <th>default</th>\n",
       "      <th>housing</th>\n",
       "      <th>loan</th>\n",
       "      <th>contact</th>\n",
       "      <th>duration</th>\n",
       "      <th>campaign</th>\n",
       "      <th>pdays</th>\n",
       "      <th>previous</th>\n",
       "      <th>poutcome</th>\n",
       "      <th>term_deposit</th>\n",
       "      <th>date_joined</th>\n",
       "      <th>device</th>\n",
       "    </tr>\n",
       "  </thead>\n",
       "  <tbody>\n",
       "    <tr>\n",
       "      <th>0</th>\n",
       "      <td>9231c446-cb16-4b2b-a7f7-ddfc8b25aaf6</td>\n",
       "      <td>3.0</td>\n",
       "      <td>2143.0</td>\n",
       "      <td>58</td>\n",
       "      <td>management</td>\n",
       "      <td>married</td>\n",
       "      <td>tertiary</td>\n",
       "      <td>False</td>\n",
       "      <td>True</td>\n",
       "      <td>False</td>\n",
       "      <td>None</td>\n",
       "      <td>261</td>\n",
       "      <td>1</td>\n",
       "      <td>-1</td>\n",
       "      <td>0</td>\n",
       "      <td>None</td>\n",
       "      <td>False</td>\n",
       "      <td>1998-08-23</td>\n",
       "      <td>mobile</td>\n",
       "    </tr>\n",
       "    <tr>\n",
       "      <th>1</th>\n",
       "      <td>bb92765a-08de-4963-b432-496524b39157</td>\n",
       "      <td>NaN</td>\n",
       "      <td>NaN</td>\n",
       "      <td>44</td>\n",
       "      <td>technician</td>\n",
       "      <td>single</td>\n",
       "      <td>secondary</td>\n",
       "      <td>False</td>\n",
       "      <td>True</td>\n",
       "      <td>False</td>\n",
       "      <td>None</td>\n",
       "      <td>151</td>\n",
       "      <td>1</td>\n",
       "      <td>-1</td>\n",
       "      <td>0</td>\n",
       "      <td>None</td>\n",
       "      <td>False</td>\n",
       "      <td>2008-07-15</td>\n",
       "      <td>desktop</td>\n",
       "    </tr>\n",
       "    <tr>\n",
       "      <th>2</th>\n",
       "      <td>573de577-49ef-42b9-83da-d3cfb817b5c1</td>\n",
       "      <td>2.0</td>\n",
       "      <td>2.0</td>\n",
       "      <td>33</td>\n",
       "      <td>entrepreneur</td>\n",
       "      <td>married</td>\n",
       "      <td>secondary</td>\n",
       "      <td>False</td>\n",
       "      <td>True</td>\n",
       "      <td>True</td>\n",
       "      <td>None</td>\n",
       "      <td>76</td>\n",
       "      <td>1</td>\n",
       "      <td>-1</td>\n",
       "      <td>0</td>\n",
       "      <td>None</td>\n",
       "      <td>False</td>\n",
       "      <td>2002-06-04</td>\n",
       "      <td>mobile</td>\n",
       "    </tr>\n",
       "    <tr>\n",
       "      <th>3</th>\n",
       "      <td>d6b66b9d-7c8f-4257-a682-e136f640b7e3</td>\n",
       "      <td>NaN</td>\n",
       "      <td>NaN</td>\n",
       "      <td>47</td>\n",
       "      <td>blue-collar</td>\n",
       "      <td>married</td>\n",
       "      <td>None</td>\n",
       "      <td>False</td>\n",
       "      <td>True</td>\n",
       "      <td>False</td>\n",
       "      <td>None</td>\n",
       "      <td>92</td>\n",
       "      <td>1</td>\n",
       "      <td>-1</td>\n",
       "      <td>0</td>\n",
       "      <td>None</td>\n",
       "      <td>False</td>\n",
       "      <td>1995-06-29</td>\n",
       "      <td>tablet</td>\n",
       "    </tr>\n",
       "    <tr>\n",
       "      <th>4</th>\n",
       "      <td>fade0b20-7594-4d9a-84cd-c02f79b1b526</td>\n",
       "      <td>1.0</td>\n",
       "      <td>1.0</td>\n",
       "      <td>33</td>\n",
       "      <td>None</td>\n",
       "      <td>single</td>\n",
       "      <td>None</td>\n",
       "      <td>False</td>\n",
       "      <td>False</td>\n",
       "      <td>False</td>\n",
       "      <td>None</td>\n",
       "      <td>198</td>\n",
       "      <td>1</td>\n",
       "      <td>-1</td>\n",
       "      <td>0</td>\n",
       "      <td>None</td>\n",
       "      <td>False</td>\n",
       "      <td>1995-08-01</td>\n",
       "      <td>mobile</td>\n",
       "    </tr>\n",
       "  </tbody>\n",
       "</table>\n",
       "</div>"
      ],
      "text/plain": [
       "                                user_id  number_transactions  \\\n",
       "0  9231c446-cb16-4b2b-a7f7-ddfc8b25aaf6                  3.0   \n",
       "1  bb92765a-08de-4963-b432-496524b39157                  NaN   \n",
       "2  573de577-49ef-42b9-83da-d3cfb817b5c1                  2.0   \n",
       "3  d6b66b9d-7c8f-4257-a682-e136f640b7e3                  NaN   \n",
       "4  fade0b20-7594-4d9a-84cd-c02f79b1b526                  1.0   \n",
       "\n",
       "   total_amount_usd  age           job  marital  education  default  housing  \\\n",
       "0            2143.0   58    management  married   tertiary    False     True   \n",
       "1               NaN   44    technician   single  secondary    False     True   \n",
       "2               2.0   33  entrepreneur  married  secondary    False     True   \n",
       "3               NaN   47   blue-collar  married       None    False     True   \n",
       "4               1.0   33          None   single       None    False    False   \n",
       "\n",
       "    loan contact  duration  campaign  pdays  previous poutcome  term_deposit  \\\n",
       "0  False    None       261         1     -1         0     None         False   \n",
       "1  False    None       151         1     -1         0     None         False   \n",
       "2   True    None        76         1     -1         0     None         False   \n",
       "3  False    None        92         1     -1         0     None         False   \n",
       "4  False    None       198         1     -1         0     None         False   \n",
       "\n",
       "  date_joined   device  \n",
       "0  1998-08-23   mobile  \n",
       "1  2008-07-15  desktop  \n",
       "2  2002-06-04   mobile  \n",
       "3  1995-06-29   tablet  \n",
       "4  1995-08-01   mobile  "
      ]
     },
     "execution_count": 47,
     "metadata": {},
     "output_type": "execute_result"
    }
   ],
   "source": [
    "datauser.head()"
   ]
  },
  {
   "cell_type": "code",
   "execution_count": 48,
   "id": "bc3f2e94",
   "metadata": {},
   "outputs": [
    {
     "data": {
      "text/plain": [
       "(45209, 19)"
      ]
     },
     "execution_count": 48,
     "metadata": {},
     "output_type": "execute_result"
    }
   ],
   "source": [
    "# shape melihat total row dan kolom/atribut\n",
    "datauser.shape"
   ]
  },
  {
   "cell_type": "code",
   "execution_count": 50,
   "id": "8dac4958",
   "metadata": {},
   "outputs": [
    {
     "name": "stdout",
     "output_type": "stream",
     "text": [
      "<class 'pandas.core.frame.DataFrame'>\n",
      "Int64Index: 45209 entries, 0 to 45215\n",
      "Data columns (total 19 columns):\n",
      " #   Column               Non-Null Count  Dtype         \n",
      "---  ------               --------------  -----         \n",
      " 0   user_id              45209 non-null  object        \n",
      " 1   number_transactions  35210 non-null  float64       \n",
      " 2   total_amount_usd     35210 non-null  float64       \n",
      " 3   age                  45209 non-null  int64         \n",
      " 4   job                  44921 non-null  object        \n",
      " 5   marital              45209 non-null  object        \n",
      " 6   education            43352 non-null  object        \n",
      " 7   default              45209 non-null  bool          \n",
      " 8   housing              45209 non-null  bool          \n",
      " 9   loan                 45209 non-null  bool          \n",
      " 10  contact              32191 non-null  object        \n",
      " 11  duration             45209 non-null  int64         \n",
      " 12  campaign             45209 non-null  int64         \n",
      " 13  pdays                45209 non-null  int64         \n",
      " 14  previous             45209 non-null  int64         \n",
      " 15  poutcome             8252 non-null   object        \n",
      " 16  term_deposit         45209 non-null  bool          \n",
      " 17  date_joined          45179 non-null  datetime64[ns]\n",
      " 18  device               45115 non-null  object        \n",
      "dtypes: bool(4), datetime64[ns](1), float64(2), int64(5), object(7)\n",
      "memory usage: 5.7+ MB\n"
     ]
    }
   ],
   "source": [
    "datauser.info()"
   ]
  }
 ],
 "metadata": {
  "kernelspec": {
   "display_name": "Python 3 (ipykernel)",
   "language": "python",
   "name": "python3"
  },
  "language_info": {
   "codemirror_mode": {
    "name": "ipython",
    "version": 3
   },
   "file_extension": ".py",
   "mimetype": "text/x-python",
   "name": "python",
   "nbconvert_exporter": "python",
   "pygments_lexer": "ipython3",
   "version": "3.9.12"
  }
 },
 "nbformat": 4,
 "nbformat_minor": 5
}
